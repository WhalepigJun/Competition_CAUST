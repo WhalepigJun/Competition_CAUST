{
  "nbformat": 4,
  "nbformat_minor": 0,
  "metadata": {
    "kernelspec": {
      "display_name": "Python 3",
      "language": "python",
      "name": "python3"
    },
    "language_info": {
      "codemirror_mode": {
        "name": "ipython",
        "version": 3
      },
      "file_extension": ".py",
      "mimetype": "text/x-python",
      "name": "python",
      "nbconvert_exporter": "python",
      "pygments_lexer": "ipython3",
      "version": "3.8.3"
    },
    "colab": {
      "name": "네이버 영상 댓글 크롤링_1차 정리 .ipynb",
      "provenance": [],
      "include_colab_link": true
    }
  },
  "cells": [
    {
      "cell_type": "markdown",
      "metadata": {
        "id": "view-in-github",
        "colab_type": "text"
      },
      "source": [
        "<a href=\"https://colab.research.google.com/github/WhalepigJun/Competition_CAUST/blob/main/%E1%84%82%E1%85%A6%E1%84%8B%E1%85%B5%E1%84%87%E1%85%A5_%E1%84%8B%E1%85%A7%E1%86%BC%E1%84%89%E1%85%A1%E1%86%BC_%E1%84%83%E1%85%A2%E1%86%BA%E1%84%80%E1%85%B3%E1%86%AF_%E1%84%8F%E1%85%B3%E1%84%85%E1%85%A9%E1%86%AF%E1%84%85%E1%85%B5%E1%86%BC_1%E1%84%8E%E1%85%A1_%E1%84%8C%E1%85%A5%E1%86%BC%E1%84%85%E1%85%B5_.ipynb\" target=\"_parent\"><img src=\"https://colab.research.google.com/assets/colab-badge.svg\" alt=\"Open In Colab\"/></a>"
      ]
    },
    {
      "cell_type": "markdown",
      "metadata": {
        "id": "kS8GRmupR5Rl"
      },
      "source": [
        " # 1. 패키지, 크롬드라이버"
      ]
    },
    {
      "cell_type": "code",
      "metadata": {
        "id": "nh82GBGZR5Rn"
      },
      "source": [
        "import requests \n",
        "from bs4 import BeautifulSoup \n",
        "import json \n",
        "import re \n",
        "import sys \n",
        "import time, random \n",
        "import bs4\n",
        "import pandas as pd\n",
        "import numpy as np"
      ],
      "execution_count": 1,
      "outputs": []
    },
    {
      "cell_type": "code",
      "metadata": {
        "id": "FXFdG-n8R5Rt",
        "outputId": "00205d32-68ae-460b-ebe6-21109f836a0b",
        "colab": {
          "base_uri": "https://localhost:8080/"
        }
      },
      "source": [
        "! pip install selenium"
      ],
      "execution_count": 2,
      "outputs": [
        {
          "output_type": "stream",
          "text": [
            "Collecting selenium\n",
            "\u001b[?25l  Downloading https://files.pythonhosted.org/packages/80/d6/4294f0b4bce4de0abf13e17190289f9d0613b0a44e5dd6a7f5ca98459853/selenium-3.141.0-py2.py3-none-any.whl (904kB)\n",
            "\r\u001b[K     |▍                               | 10kB 17.1MB/s eta 0:00:01\r\u001b[K     |▊                               | 20kB 2.7MB/s eta 0:00:01\r\u001b[K     |█                               | 30kB 3.7MB/s eta 0:00:01\r\u001b[K     |█▌                              | 40kB 4.1MB/s eta 0:00:01\r\u001b[K     |█▉                              | 51kB 3.5MB/s eta 0:00:01\r\u001b[K     |██▏                             | 61kB 3.7MB/s eta 0:00:01\r\u001b[K     |██▌                             | 71kB 4.1MB/s eta 0:00:01\r\u001b[K     |███                             | 81kB 4.4MB/s eta 0:00:01\r\u001b[K     |███▎                            | 92kB 4.7MB/s eta 0:00:01\r\u001b[K     |███▋                            | 102kB 4.6MB/s eta 0:00:01\r\u001b[K     |████                            | 112kB 4.6MB/s eta 0:00:01\r\u001b[K     |████▍                           | 122kB 4.6MB/s eta 0:00:01\r\u001b[K     |████▊                           | 133kB 4.6MB/s eta 0:00:01\r\u001b[K     |█████                           | 143kB 4.6MB/s eta 0:00:01\r\u001b[K     |█████▍                          | 153kB 4.6MB/s eta 0:00:01\r\u001b[K     |█████▉                          | 163kB 4.6MB/s eta 0:00:01\r\u001b[K     |██████▏                         | 174kB 4.6MB/s eta 0:00:01\r\u001b[K     |██████▌                         | 184kB 4.6MB/s eta 0:00:01\r\u001b[K     |██████▉                         | 194kB 4.6MB/s eta 0:00:01\r\u001b[K     |███████▎                        | 204kB 4.6MB/s eta 0:00:01\r\u001b[K     |███████▋                        | 215kB 4.6MB/s eta 0:00:01\r\u001b[K     |████████                        | 225kB 4.6MB/s eta 0:00:01\r\u001b[K     |████████▎                       | 235kB 4.6MB/s eta 0:00:01\r\u001b[K     |████████▊                       | 245kB 4.6MB/s eta 0:00:01\r\u001b[K     |█████████                       | 256kB 4.6MB/s eta 0:00:01\r\u001b[K     |█████████▍                      | 266kB 4.6MB/s eta 0:00:01\r\u001b[K     |█████████▉                      | 276kB 4.6MB/s eta 0:00:01\r\u001b[K     |██████████▏                     | 286kB 4.6MB/s eta 0:00:01\r\u001b[K     |██████████▌                     | 296kB 4.6MB/s eta 0:00:01\r\u001b[K     |██████████▉                     | 307kB 4.6MB/s eta 0:00:01\r\u001b[K     |███████████▎                    | 317kB 4.6MB/s eta 0:00:01\r\u001b[K     |███████████▋                    | 327kB 4.6MB/s eta 0:00:01\r\u001b[K     |████████████                    | 337kB 4.6MB/s eta 0:00:01\r\u001b[K     |████████████▎                   | 348kB 4.6MB/s eta 0:00:01\r\u001b[K     |████████████▊                   | 358kB 4.6MB/s eta 0:00:01\r\u001b[K     |█████████████                   | 368kB 4.6MB/s eta 0:00:01\r\u001b[K     |█████████████▍                  | 378kB 4.6MB/s eta 0:00:01\r\u001b[K     |█████████████▊                  | 389kB 4.6MB/s eta 0:00:01\r\u001b[K     |██████████████▏                 | 399kB 4.6MB/s eta 0:00:01\r\u001b[K     |██████████████▌                 | 409kB 4.6MB/s eta 0:00:01\r\u001b[K     |██████████████▉                 | 419kB 4.6MB/s eta 0:00:01\r\u001b[K     |███████████████▏                | 430kB 4.6MB/s eta 0:00:01\r\u001b[K     |███████████████▋                | 440kB 4.6MB/s eta 0:00:01\r\u001b[K     |████████████████                | 450kB 4.6MB/s eta 0:00:01\r\u001b[K     |████████████████▎               | 460kB 4.6MB/s eta 0:00:01\r\u001b[K     |████████████████▋               | 471kB 4.6MB/s eta 0:00:01\r\u001b[K     |█████████████████               | 481kB 4.6MB/s eta 0:00:01\r\u001b[K     |█████████████████▍              | 491kB 4.6MB/s eta 0:00:01\r\u001b[K     |█████████████████▊              | 501kB 4.6MB/s eta 0:00:01\r\u001b[K     |██████████████████▏             | 512kB 4.6MB/s eta 0:00:01\r\u001b[K     |██████████████████▌             | 522kB 4.6MB/s eta 0:00:01\r\u001b[K     |██████████████████▉             | 532kB 4.6MB/s eta 0:00:01\r\u001b[K     |███████████████████▏            | 542kB 4.6MB/s eta 0:00:01\r\u001b[K     |███████████████████▋            | 552kB 4.6MB/s eta 0:00:01\r\u001b[K     |████████████████████            | 563kB 4.6MB/s eta 0:00:01\r\u001b[K     |████████████████████▎           | 573kB 4.6MB/s eta 0:00:01\r\u001b[K     |████████████████████▋           | 583kB 4.6MB/s eta 0:00:01\r\u001b[K     |█████████████████████           | 593kB 4.6MB/s eta 0:00:01\r\u001b[K     |█████████████████████▍          | 604kB 4.6MB/s eta 0:00:01\r\u001b[K     |█████████████████████▊          | 614kB 4.6MB/s eta 0:00:01\r\u001b[K     |██████████████████████          | 624kB 4.6MB/s eta 0:00:01\r\u001b[K     |██████████████████████▌         | 634kB 4.6MB/s eta 0:00:01\r\u001b[K     |██████████████████████▉         | 645kB 4.6MB/s eta 0:00:01\r\u001b[K     |███████████████████████▏        | 655kB 4.6MB/s eta 0:00:01\r\u001b[K     |███████████████████████▌        | 665kB 4.6MB/s eta 0:00:01\r\u001b[K     |████████████████████████        | 675kB 4.6MB/s eta 0:00:01\r\u001b[K     |████████████████████████▎       | 686kB 4.6MB/s eta 0:00:01\r\u001b[K     |████████████████████████▋       | 696kB 4.6MB/s eta 0:00:01\r\u001b[K     |█████████████████████████       | 706kB 4.6MB/s eta 0:00:01\r\u001b[K     |█████████████████████████▍      | 716kB 4.6MB/s eta 0:00:01\r\u001b[K     |█████████████████████████▊      | 727kB 4.6MB/s eta 0:00:01\r\u001b[K     |██████████████████████████      | 737kB 4.6MB/s eta 0:00:01\r\u001b[K     |██████████████████████████▍     | 747kB 4.6MB/s eta 0:00:01\r\u001b[K     |██████████████████████████▉     | 757kB 4.6MB/s eta 0:00:01\r\u001b[K     |███████████████████████████▏    | 768kB 4.6MB/s eta 0:00:01\r\u001b[K     |███████████████████████████▌    | 778kB 4.6MB/s eta 0:00:01\r\u001b[K     |████████████████████████████    | 788kB 4.6MB/s eta 0:00:01\r\u001b[K     |████████████████████████████▎   | 798kB 4.6MB/s eta 0:00:01\r\u001b[K     |████████████████████████████▋   | 808kB 4.6MB/s eta 0:00:01\r\u001b[K     |█████████████████████████████   | 819kB 4.6MB/s eta 0:00:01\r\u001b[K     |█████████████████████████████▍  | 829kB 4.6MB/s eta 0:00:01\r\u001b[K     |█████████████████████████████▊  | 839kB 4.6MB/s eta 0:00:01\r\u001b[K     |██████████████████████████████  | 849kB 4.6MB/s eta 0:00:01\r\u001b[K     |██████████████████████████████▍ | 860kB 4.6MB/s eta 0:00:01\r\u001b[K     |██████████████████████████████▉ | 870kB 4.6MB/s eta 0:00:01\r\u001b[K     |███████████████████████████████▏| 880kB 4.6MB/s eta 0:00:01\r\u001b[K     |███████████████████████████████▌| 890kB 4.6MB/s eta 0:00:01\r\u001b[K     |███████████████████████████████▉| 901kB 4.6MB/s eta 0:00:01\r\u001b[K     |████████████████████████████████| 911kB 4.6MB/s \n",
            "\u001b[?25hRequirement already satisfied: urllib3 in /usr/local/lib/python3.6/dist-packages (from selenium) (1.24.3)\n",
            "Installing collected packages: selenium\n",
            "Successfully installed selenium-3.141.0\n"
          ],
          "name": "stdout"
        }
      ]
    },
    {
      "cell_type": "code",
      "metadata": {
        "id": "3wWPkrAOR5Rz"
      },
      "source": [
        "import os\n",
        "from time import sleep\n",
        "\n",
        "from selenium import webdriver\n",
        "from selenium.webdriver.common.keys import Keys\n",
        "from selenium.common.exceptions import NoSuchElementException\n",
        "from selenium.common.exceptions import ElementNotInteractableException\n",
        "from selenium.common.exceptions import StaleElementReferenceException\n",
        "from bs4 import BeautifulSoup"
      ],
      "execution_count": 3,
      "outputs": []
    },
    {
      "cell_type": "code",
      "metadata": {
        "id": "Up-WMS3wR5R3"
      },
      "source": [
        "from bs4 import BeautifulSoup\n",
        "\n",
        "from pandas import DataFrame\n",
        "\n",
        "from selenium.webdriver import Chrome\n",
        "\n",
        "from selenium.webdriver.chrome.options import Options\n",
        "\n",
        "from selenium.webdriver.common.keys import Keys\n"
      ],
      "execution_count": null,
      "outputs": []
    },
    {
      "cell_type": "markdown",
      "metadata": {
        "id": "O7NgdjDFR5R7"
      },
      "source": [
        "# 2. 크롤링"
      ]
    },
    {
      "cell_type": "markdown",
      "metadata": {
        "id": "NrU-cmjRR5R7"
      },
      "source": [
        "-회차 리스트: 함수로 \n",
        "\n",
        "\n",
        "-페이지 반복하는 큰 함수 : 이 안에 크롤링 함수를 넣자"
      ]
    },
    {
      "cell_type": "code",
      "metadata": {
        "scrolled": true,
        "id": "9g-CZeYFR5R8",
        "outputId": "5efd0d23-db4b-4504-f96a-f587d29b34ff",
        "colab": {
          "base_uri": "https://localhost:8080/",
          "height": 426
        }
      },
      "source": [
        "# 자신의 드라이버 경로 지정하기\n",
        "driver = webdriver.Chrome(executable_path=r'/Users/hwangjaewon/Downloads/chromedriver-2')\n",
        "time.sleep(2)"
      ],
      "execution_count": null,
      "outputs": [
        {
          "output_type": "error",
          "ename": "WebDriverException",
          "evalue": "ignored",
          "traceback": [
            "\u001b[0;31m---------------------------------------------------------------------------\u001b[0m",
            "\u001b[0;31mFileNotFoundError\u001b[0m                         Traceback (most recent call last)",
            "\u001b[0;32m/usr/local/lib/python3.6/dist-packages/selenium/webdriver/common/service.py\u001b[0m in \u001b[0;36mstart\u001b[0;34m(self)\u001b[0m\n\u001b[1;32m     75\u001b[0m                                             \u001b[0mstderr\u001b[0m\u001b[0;34m=\u001b[0m\u001b[0mself\u001b[0m\u001b[0;34m.\u001b[0m\u001b[0mlog_file\u001b[0m\u001b[0;34m,\u001b[0m\u001b[0;34m\u001b[0m\u001b[0;34m\u001b[0m\u001b[0m\n\u001b[0;32m---> 76\u001b[0;31m                                             stdin=PIPE)\n\u001b[0m\u001b[1;32m     77\u001b[0m         \u001b[0;32mexcept\u001b[0m \u001b[0mTypeError\u001b[0m\u001b[0;34m:\u001b[0m\u001b[0;34m\u001b[0m\u001b[0;34m\u001b[0m\u001b[0m\n",
            "\u001b[0;32m/usr/lib/python3.6/subprocess.py\u001b[0m in \u001b[0;36m__init__\u001b[0;34m(self, args, bufsize, executable, stdin, stdout, stderr, preexec_fn, close_fds, shell, cwd, env, universal_newlines, startupinfo, creationflags, restore_signals, start_new_session, pass_fds, encoding, errors)\u001b[0m\n\u001b[1;32m    728\u001b[0m                                 \u001b[0merrread\u001b[0m\u001b[0;34m,\u001b[0m \u001b[0merrwrite\u001b[0m\u001b[0;34m,\u001b[0m\u001b[0;34m\u001b[0m\u001b[0;34m\u001b[0m\u001b[0m\n\u001b[0;32m--> 729\u001b[0;31m                                 restore_signals, start_new_session)\n\u001b[0m\u001b[1;32m    730\u001b[0m         \u001b[0;32mexcept\u001b[0m\u001b[0;34m:\u001b[0m\u001b[0;34m\u001b[0m\u001b[0;34m\u001b[0m\u001b[0m\n",
            "\u001b[0;32m/usr/lib/python3.6/subprocess.py\u001b[0m in \u001b[0;36m_execute_child\u001b[0;34m(self, args, executable, preexec_fn, close_fds, pass_fds, cwd, env, startupinfo, creationflags, shell, p2cread, p2cwrite, c2pread, c2pwrite, errread, errwrite, restore_signals, start_new_session)\u001b[0m\n\u001b[1;32m   1363\u001b[0m                             \u001b[0merr_msg\u001b[0m \u001b[0;34m+=\u001b[0m \u001b[0;34m': '\u001b[0m \u001b[0;34m+\u001b[0m \u001b[0mrepr\u001b[0m\u001b[0;34m(\u001b[0m\u001b[0merr_filename\u001b[0m\u001b[0;34m)\u001b[0m\u001b[0;34m\u001b[0m\u001b[0;34m\u001b[0m\u001b[0m\n\u001b[0;32m-> 1364\u001b[0;31m                     \u001b[0;32mraise\u001b[0m \u001b[0mchild_exception_type\u001b[0m\u001b[0;34m(\u001b[0m\u001b[0merrno_num\u001b[0m\u001b[0;34m,\u001b[0m \u001b[0merr_msg\u001b[0m\u001b[0;34m,\u001b[0m \u001b[0merr_filename\u001b[0m\u001b[0;34m)\u001b[0m\u001b[0;34m\u001b[0m\u001b[0;34m\u001b[0m\u001b[0m\n\u001b[0m\u001b[1;32m   1365\u001b[0m                 \u001b[0;32mraise\u001b[0m \u001b[0mchild_exception_type\u001b[0m\u001b[0;34m(\u001b[0m\u001b[0merr_msg\u001b[0m\u001b[0;34m)\u001b[0m\u001b[0;34m\u001b[0m\u001b[0;34m\u001b[0m\u001b[0m\n",
            "\u001b[0;31mFileNotFoundError\u001b[0m: [Errno 2] No such file or directory: '/Users/hwangjaewon/Downloads/chromedriver-2': '/Users/hwangjaewon/Downloads/chromedriver-2'",
            "\nDuring handling of the above exception, another exception occurred:\n",
            "\u001b[0;31mWebDriverException\u001b[0m                        Traceback (most recent call last)",
            "\u001b[0;32m<ipython-input-15-a9a0fd0888ee>\u001b[0m in \u001b[0;36m<module>\u001b[0;34m()\u001b[0m\n\u001b[1;32m      1\u001b[0m \u001b[0;31m# 자신의 드라이버 경로 지정하기\u001b[0m\u001b[0;34m\u001b[0m\u001b[0;34m\u001b[0m\u001b[0;34m\u001b[0m\u001b[0m\n\u001b[0;32m----> 2\u001b[0;31m \u001b[0mdriver\u001b[0m \u001b[0;34m=\u001b[0m \u001b[0mwebdriver\u001b[0m\u001b[0;34m.\u001b[0m\u001b[0mChrome\u001b[0m\u001b[0;34m(\u001b[0m\u001b[0mexecutable_path\u001b[0m\u001b[0;34m=\u001b[0m\u001b[0;34mr'/Users/hwangjaewon/Downloads/chromedriver-2'\u001b[0m\u001b[0;34m)\u001b[0m\u001b[0;34m\u001b[0m\u001b[0;34m\u001b[0m\u001b[0m\n\u001b[0m\u001b[1;32m      3\u001b[0m \u001b[0mtime\u001b[0m\u001b[0;34m.\u001b[0m\u001b[0msleep\u001b[0m\u001b[0;34m(\u001b[0m\u001b[0;36m2\u001b[0m\u001b[0;34m)\u001b[0m\u001b[0;34m\u001b[0m\u001b[0;34m\u001b[0m\u001b[0m\n",
            "\u001b[0;32m/usr/local/lib/python3.6/dist-packages/selenium/webdriver/chrome/webdriver.py\u001b[0m in \u001b[0;36m__init__\u001b[0;34m(self, executable_path, port, options, service_args, desired_capabilities, service_log_path, chrome_options, keep_alive)\u001b[0m\n\u001b[1;32m     71\u001b[0m             \u001b[0mservice_args\u001b[0m\u001b[0;34m=\u001b[0m\u001b[0mservice_args\u001b[0m\u001b[0;34m,\u001b[0m\u001b[0;34m\u001b[0m\u001b[0;34m\u001b[0m\u001b[0m\n\u001b[1;32m     72\u001b[0m             log_path=service_log_path)\n\u001b[0;32m---> 73\u001b[0;31m         \u001b[0mself\u001b[0m\u001b[0;34m.\u001b[0m\u001b[0mservice\u001b[0m\u001b[0;34m.\u001b[0m\u001b[0mstart\u001b[0m\u001b[0;34m(\u001b[0m\u001b[0;34m)\u001b[0m\u001b[0;34m\u001b[0m\u001b[0;34m\u001b[0m\u001b[0m\n\u001b[0m\u001b[1;32m     74\u001b[0m \u001b[0;34m\u001b[0m\u001b[0m\n\u001b[1;32m     75\u001b[0m         \u001b[0;32mtry\u001b[0m\u001b[0;34m:\u001b[0m\u001b[0;34m\u001b[0m\u001b[0;34m\u001b[0m\u001b[0m\n",
            "\u001b[0;32m/usr/local/lib/python3.6/dist-packages/selenium/webdriver/common/service.py\u001b[0m in \u001b[0;36mstart\u001b[0;34m(self)\u001b[0m\n\u001b[1;32m     81\u001b[0m                 raise WebDriverException(\n\u001b[1;32m     82\u001b[0m                     \"'%s' executable needs to be in PATH. %s\" % (\n\u001b[0;32m---> 83\u001b[0;31m                         os.path.basename(self.path), self.start_error_message)\n\u001b[0m\u001b[1;32m     84\u001b[0m                 )\n\u001b[1;32m     85\u001b[0m             \u001b[0;32melif\u001b[0m \u001b[0merr\u001b[0m\u001b[0;34m.\u001b[0m\u001b[0merrno\u001b[0m \u001b[0;34m==\u001b[0m \u001b[0merrno\u001b[0m\u001b[0;34m.\u001b[0m\u001b[0mEACCES\u001b[0m\u001b[0;34m:\u001b[0m\u001b[0;34m\u001b[0m\u001b[0;34m\u001b[0m\u001b[0m\n",
            "\u001b[0;31mWebDriverException\u001b[0m: Message: 'chromedriver-2' executable needs to be in PATH. Please see https://sites.google.com/a/chromium.org/chromedriver/home\n"
          ]
        }
      ]
    },
    {
      "cell_type": "code",
      "metadata": {
        "id": "VAStb3KFR5R_"
      },
      "source": [
        "### 골목 식당 상권별 출현회차: 리스트로 \n",
        "# -> 종료 화차 기준\n",
        "# 용산 청파동 하숙골목 49회\n",
        "# 회기동 벽화골목 54회\n",
        "# 둔촌동 88회\n",
        "# 정릉 아리랑시장 92회\n",
        "# 홍제동 문화촌 골목 104회\n",
        "# 공릉동 기찻길 골목 109회\n",
        "# 도봉구 창동 골목 133회\n",
        "# 중곡동 시장 앞 골목 138회\n",
        "# 용산구 해방촌 20회\n",
        "# 성동구 성수동 뚝섬 25회\n",
        "# 강동구 성내동 38회\n",
        "# 서대문구 포방터시장 44회\n",
        "\n",
        "\n",
        "times_viedo=[49,54,88,92,104,109,133,138,20,25,38,44]"
      ],
      "execution_count": null,
      "outputs": []
    },
    {
      "cell_type": "code",
      "metadata": {
        "id": "YJMOZWlPR5SC"
      },
      "source": [
        "### 영상 개수 : 리스트로\n",
        "# 용산 청파동 하숙골목 16개\n",
        "# 회기동 벽화골목 18개\n",
        "# 둔촌동 18개\n",
        "# 정릉 아리랑시장 18개\n",
        "# 홍제동 문화촌 골목 15개\n",
        "# 공릉동 기찻길 골목 15개\n",
        "# 도봉구 창동 골목 18개\n",
        "# 중곡동 시장 앞 골목 17개\n",
        "# 용산구 해방촌 16개\n",
        "# 성동구 성수동 뚝섬 19개\n",
        "# 강동구 성내동 17개\n",
        "# 서대문구 포방터시장 19개\n",
        "\n",
        "num_clip=[16,18,18,18,15,15,18,17,16,19,17,19]\n",
        "#1부터 num_clip 안의 숫자들까지 반복"
      ],
      "execution_count": null,
      "outputs": []
    },
    {
      "cell_type": "code",
      "metadata": {
        "id": "57JbntEtR5SF"
      },
      "source": [
        "#회차 검색\n",
        "times=\"49\"\n",
        "url = 'https://tv.naver.com/search?query=백종원의 골목식당'+str(times)+\"회&page=1\" \n",
        "driver.get(url)\n",
        "time.sleep(0.5)"
      ],
      "execution_count": null,
      "outputs": []
    },
    {
      "cell_type": "code",
      "metadata": {
        "id": "9u4TIWjZR5SI"
      },
      "source": [
        "#영상 클릭\n",
        "driver.find_element_by_xpath('//*[@id=\"clip_list\"]/div[4]/div/div/dl/dt/a').click()\n",
        "time.sleep(0.5)"
      ],
      "execution_count": null,
      "outputs": []
    },
    {
      "cell_type": "markdown",
      "metadata": {
        "id": "5t92AEJ4R5SK"
      },
      "source": [
        "1부터 영상 리스트-> 숫자 넣기 \n",
        "\n",
        "//*[@id=\"clip_list\"]/div[{}]/div/a"
      ]
    },
    {
      "cell_type": "markdown",
      "metadata": {
        "id": "3n3DN2jBR5SL"
      },
      "source": [
        "1,3,4,5,6,\n",
        "3,4,5,6,7,\n",
        "3,4,5,6,7,\n",
        "--> 페이지 넘어가는 개수만큼 반복하기\n",
        "\n",
        "\n",
        "var_list_1=[1,3,4,5,6,3,4,5,6,7,3,4,5,6,7,3]\n",
        "var_list_2=[1,3,4,5,6,3]\n",
        "var_list_3=[1,3]\n",
        "var_list_4=[1,3,4,5,6,3,4,5,6,7,3,4]"
      ]
    },
    {
      "cell_type": "code",
      "metadata": {
        "id": "9rIyL4maR5SL",
        "outputId": "64a0cd28-a8df-41ed-a139-3da23d59f502"
      },
      "source": [
        "###한 영상에서 댓글 긁어오는 코드 \n",
        "xpath='//*[@id=\"cbox_module\"]/div/div[8]/div/a[{}]'\n",
        "\n",
        "for i in var_list_4 :       \n",
        "    html= driver.page_source\n",
        "    soup= BeautifulSoup(html, 'lxml')\n",
        "    data=soup.find_all(\"div\",{'class':\"u_cbox_text_wrap\"})\n",
        "    a=[i.get_text() for i in soup.select('div.u_cbox_text_wrap')]\n",
        "    comment.append(a)\n",
        "    \n",
        "    driver.execute_script(\"window.scrollTo(0, document.body.scrollHeight);\")   \n",
        "    driver.find_element_by_xpath(xpath.format(i)).click()\n",
        "    time.sleep(1)"
      ],
      "execution_count": null,
      "outputs": [
        {
          "output_type": "error",
          "ename": "NoSuchElementException",
          "evalue": "Message: no such element: Unable to locate element: {\"method\":\"xpath\",\"selector\":\"//*[@id=\"cbox_module\"]/div/div[8]/div/a[4]\"}\n  (Session info: chrome=86.0.4240.183)\n",
          "traceback": [
            "\u001b[0;31m---------------------------------------------------------------------------\u001b[0m",
            "\u001b[0;31mNoSuchElementException\u001b[0m                    Traceback (most recent call last)",
            "\u001b[0;32m<ipython-input-198-4f875fbe3046>\u001b[0m in \u001b[0;36m<module>\u001b[0;34m\u001b[0m\n\u001b[1;32m      9\u001b[0m \u001b[0;34m\u001b[0m\u001b[0m\n\u001b[1;32m     10\u001b[0m     \u001b[0mdriver\u001b[0m\u001b[0;34m.\u001b[0m\u001b[0mexecute_script\u001b[0m\u001b[0;34m(\u001b[0m\u001b[0;34m\"window.scrollTo(0, document.body.scrollHeight);\"\u001b[0m\u001b[0;34m)\u001b[0m\u001b[0;34m\u001b[0m\u001b[0;34m\u001b[0m\u001b[0m\n\u001b[0;32m---> 11\u001b[0;31m     \u001b[0mdriver\u001b[0m\u001b[0;34m.\u001b[0m\u001b[0mfind_element_by_xpath\u001b[0m\u001b[0;34m(\u001b[0m\u001b[0mxpath\u001b[0m\u001b[0;34m.\u001b[0m\u001b[0mformat\u001b[0m\u001b[0;34m(\u001b[0m\u001b[0mi\u001b[0m\u001b[0;34m)\u001b[0m\u001b[0;34m)\u001b[0m\u001b[0;34m.\u001b[0m\u001b[0mclick\u001b[0m\u001b[0;34m(\u001b[0m\u001b[0;34m)\u001b[0m\u001b[0;34m\u001b[0m\u001b[0;34m\u001b[0m\u001b[0m\n\u001b[0m\u001b[1;32m     12\u001b[0m     \u001b[0mtime\u001b[0m\u001b[0;34m.\u001b[0m\u001b[0msleep\u001b[0m\u001b[0;34m(\u001b[0m\u001b[0;36m1\u001b[0m\u001b[0;34m)\u001b[0m\u001b[0;34m\u001b[0m\u001b[0;34m\u001b[0m\u001b[0m\n\u001b[1;32m     13\u001b[0m \u001b[0;34m\u001b[0m\u001b[0m\n",
            "\u001b[0;32m~/anaconda3/lib/python3.8/site-packages/selenium/webdriver/remote/webdriver.py\u001b[0m in \u001b[0;36mfind_element_by_xpath\u001b[0;34m(self, xpath)\u001b[0m\n\u001b[1;32m    392\u001b[0m             \u001b[0melement\u001b[0m \u001b[0;34m=\u001b[0m \u001b[0mdriver\u001b[0m\u001b[0;34m.\u001b[0m\u001b[0mfind_element_by_xpath\u001b[0m\u001b[0;34m(\u001b[0m\u001b[0;34m'//div/td[1]'\u001b[0m\u001b[0;34m)\u001b[0m\u001b[0;34m\u001b[0m\u001b[0;34m\u001b[0m\u001b[0m\n\u001b[1;32m    393\u001b[0m         \"\"\"\n\u001b[0;32m--> 394\u001b[0;31m         \u001b[0;32mreturn\u001b[0m \u001b[0mself\u001b[0m\u001b[0;34m.\u001b[0m\u001b[0mfind_element\u001b[0m\u001b[0;34m(\u001b[0m\u001b[0mby\u001b[0m\u001b[0;34m=\u001b[0m\u001b[0mBy\u001b[0m\u001b[0;34m.\u001b[0m\u001b[0mXPATH\u001b[0m\u001b[0;34m,\u001b[0m \u001b[0mvalue\u001b[0m\u001b[0;34m=\u001b[0m\u001b[0mxpath\u001b[0m\u001b[0;34m)\u001b[0m\u001b[0;34m\u001b[0m\u001b[0;34m\u001b[0m\u001b[0m\n\u001b[0m\u001b[1;32m    395\u001b[0m \u001b[0;34m\u001b[0m\u001b[0m\n\u001b[1;32m    396\u001b[0m     \u001b[0;32mdef\u001b[0m \u001b[0mfind_elements_by_xpath\u001b[0m\u001b[0;34m(\u001b[0m\u001b[0mself\u001b[0m\u001b[0;34m,\u001b[0m \u001b[0mxpath\u001b[0m\u001b[0;34m)\u001b[0m\u001b[0;34m:\u001b[0m\u001b[0;34m\u001b[0m\u001b[0;34m\u001b[0m\u001b[0m\n",
            "\u001b[0;32m~/anaconda3/lib/python3.8/site-packages/selenium/webdriver/remote/webdriver.py\u001b[0m in \u001b[0;36mfind_element\u001b[0;34m(self, by, value)\u001b[0m\n\u001b[1;32m    974\u001b[0m                 \u001b[0mby\u001b[0m \u001b[0;34m=\u001b[0m \u001b[0mBy\u001b[0m\u001b[0;34m.\u001b[0m\u001b[0mCSS_SELECTOR\u001b[0m\u001b[0;34m\u001b[0m\u001b[0;34m\u001b[0m\u001b[0m\n\u001b[1;32m    975\u001b[0m                 \u001b[0mvalue\u001b[0m \u001b[0;34m=\u001b[0m \u001b[0;34m'[name=\"%s\"]'\u001b[0m \u001b[0;34m%\u001b[0m \u001b[0mvalue\u001b[0m\u001b[0;34m\u001b[0m\u001b[0;34m\u001b[0m\u001b[0m\n\u001b[0;32m--> 976\u001b[0;31m         return self.execute(Command.FIND_ELEMENT, {\n\u001b[0m\u001b[1;32m    977\u001b[0m             \u001b[0;34m'using'\u001b[0m\u001b[0;34m:\u001b[0m \u001b[0mby\u001b[0m\u001b[0;34m,\u001b[0m\u001b[0;34m\u001b[0m\u001b[0;34m\u001b[0m\u001b[0m\n\u001b[1;32m    978\u001b[0m             'value': value})['value']\n",
            "\u001b[0;32m~/anaconda3/lib/python3.8/site-packages/selenium/webdriver/remote/webdriver.py\u001b[0m in \u001b[0;36mexecute\u001b[0;34m(self, driver_command, params)\u001b[0m\n\u001b[1;32m    319\u001b[0m         \u001b[0mresponse\u001b[0m \u001b[0;34m=\u001b[0m \u001b[0mself\u001b[0m\u001b[0;34m.\u001b[0m\u001b[0mcommand_executor\u001b[0m\u001b[0;34m.\u001b[0m\u001b[0mexecute\u001b[0m\u001b[0;34m(\u001b[0m\u001b[0mdriver_command\u001b[0m\u001b[0;34m,\u001b[0m \u001b[0mparams\u001b[0m\u001b[0;34m)\u001b[0m\u001b[0;34m\u001b[0m\u001b[0;34m\u001b[0m\u001b[0m\n\u001b[1;32m    320\u001b[0m         \u001b[0;32mif\u001b[0m \u001b[0mresponse\u001b[0m\u001b[0;34m:\u001b[0m\u001b[0;34m\u001b[0m\u001b[0;34m\u001b[0m\u001b[0m\n\u001b[0;32m--> 321\u001b[0;31m             \u001b[0mself\u001b[0m\u001b[0;34m.\u001b[0m\u001b[0merror_handler\u001b[0m\u001b[0;34m.\u001b[0m\u001b[0mcheck_response\u001b[0m\u001b[0;34m(\u001b[0m\u001b[0mresponse\u001b[0m\u001b[0;34m)\u001b[0m\u001b[0;34m\u001b[0m\u001b[0;34m\u001b[0m\u001b[0m\n\u001b[0m\u001b[1;32m    322\u001b[0m             response['value'] = self._unwrap_value(\n\u001b[1;32m    323\u001b[0m                 response.get('value', None))\n",
            "\u001b[0;32m~/anaconda3/lib/python3.8/site-packages/selenium/webdriver/remote/errorhandler.py\u001b[0m in \u001b[0;36mcheck_response\u001b[0;34m(self, response)\u001b[0m\n\u001b[1;32m    240\u001b[0m                 \u001b[0malert_text\u001b[0m \u001b[0;34m=\u001b[0m \u001b[0mvalue\u001b[0m\u001b[0;34m[\u001b[0m\u001b[0;34m'alert'\u001b[0m\u001b[0;34m]\u001b[0m\u001b[0;34m.\u001b[0m\u001b[0mget\u001b[0m\u001b[0;34m(\u001b[0m\u001b[0;34m'text'\u001b[0m\u001b[0;34m)\u001b[0m\u001b[0;34m\u001b[0m\u001b[0;34m\u001b[0m\u001b[0m\n\u001b[1;32m    241\u001b[0m             \u001b[0;32mraise\u001b[0m \u001b[0mexception_class\u001b[0m\u001b[0;34m(\u001b[0m\u001b[0mmessage\u001b[0m\u001b[0;34m,\u001b[0m \u001b[0mscreen\u001b[0m\u001b[0;34m,\u001b[0m \u001b[0mstacktrace\u001b[0m\u001b[0;34m,\u001b[0m \u001b[0malert_text\u001b[0m\u001b[0;34m)\u001b[0m\u001b[0;34m\u001b[0m\u001b[0;34m\u001b[0m\u001b[0m\n\u001b[0;32m--> 242\u001b[0;31m         \u001b[0;32mraise\u001b[0m \u001b[0mexception_class\u001b[0m\u001b[0;34m(\u001b[0m\u001b[0mmessage\u001b[0m\u001b[0;34m,\u001b[0m \u001b[0mscreen\u001b[0m\u001b[0;34m,\u001b[0m \u001b[0mstacktrace\u001b[0m\u001b[0;34m)\u001b[0m\u001b[0;34m\u001b[0m\u001b[0;34m\u001b[0m\u001b[0m\n\u001b[0m\u001b[1;32m    243\u001b[0m \u001b[0;34m\u001b[0m\u001b[0m\n\u001b[1;32m    244\u001b[0m     \u001b[0;32mdef\u001b[0m \u001b[0m_value_or_default\u001b[0m\u001b[0;34m(\u001b[0m\u001b[0mself\u001b[0m\u001b[0;34m,\u001b[0m \u001b[0mobj\u001b[0m\u001b[0;34m,\u001b[0m \u001b[0mkey\u001b[0m\u001b[0;34m,\u001b[0m \u001b[0mdefault\u001b[0m\u001b[0;34m)\u001b[0m\u001b[0;34m:\u001b[0m\u001b[0;34m\u001b[0m\u001b[0;34m\u001b[0m\u001b[0m\n",
            "\u001b[0;31mNoSuchElementException\u001b[0m: Message: no such element: Unable to locate element: {\"method\":\"xpath\",\"selector\":\"//*[@id=\"cbox_module\"]/div/div[8]/div/a[4]\"}\n  (Session info: chrome=86.0.4240.183)\n"
          ]
        }
      ]
    },
    {
      "cell_type": "code",
      "metadata": {
        "id": "E8GXf9sbR5SN"
      },
      "source": [
        "driver.get(url)\n",
        "time.sleep(0.5)\n",
        "list_xpath='//*[@id=\"clip_list\"]/div[{}]/div/div/dl/dt/a'\n",
        "driver.find_element_by_xpath(list_xpath.format(j)).click()\n",
        "time.sleep(0.5)"
      ],
      "execution_count": null,
      "outputs": []
    },
    {
      "cell_type": "code",
      "metadata": {
        "id": "SrAGUbcMR5SP",
        "outputId": "203ac78b-6fe9-4967-cb41-de863c3ebda5"
      },
      "source": [
        "comment"
      ],
      "execution_count": null,
      "outputs": [
        {
          "output_type": "execute_result",
          "data": {
            "text/plain": [
              "[['접어라 ~~ 가즈아',\n",
              "  '아르바이트부터 해보면 어떨까?',\n",
              "  '와~~~피자집 사장님! 대박이네요..요리의 기본은 알고하시는 분인지 의심스럽네요!피자접고 동호회의주로? 뭐 갠 생각이니...한마디로 1도 받아들이거나 개선할 생각없음으로 들림!누구의 피와 살이 될런지...심히 걱정됩니다세상살이 넘 만만히 보시다 큰 코 다치시겠다',\n",
              "  '그냥 장사 접자',\n",
              "  '캬 결국 버림받앗네 ㅋㅋ',\n",
              "  '피자가게에 와인잔이 왜걸려있을까',\n",
              "  '뇌를뜯어보고싶다',\n",
              "  '사장님, 응원합니다~~♡',\n",
              "  '진짜 이 방송으로 조보아한테 반하게 됐다.. 어찌 사람이 저렇게 이쁘지..',\n",
              "  '일안하고 평생 놀면서 살려는 타입.. 부모 잘 만난 걸 행운으로 알아라.',\n",
              "  '매사 다른사람의 입장에서 생각하는 습관을 들이셔야겠어요..도통 벽이라ㅠㅠ 심성이 나쁘신분은 아닌거같은데...',\n",
              "  '진짜 더러워서 안먹고 싶음',\n",
              "  '기초도 커녕  마인드도 안된자가 가게하면 공공의적이다. . 잘못먹고 병이라도 나면 누가 책임지나',\n",
              "  '마지막 20인분 만들고, 백종원님이 조언해준 다음 나설 때조차 감사인사 조차 없던..!너무 놀랐네요...ㅠㅠ 고민 많이 해보시고 뭐든 일하시길 바래요.',\n",
              "  '이새기 얼굴만보면 재수때가리가없냐',\n",
              "  '진짜 재방은 언제까지 하는지 피자 이해 못하는 사장님이나 재방 계속하는 티비나 좀 적당히 하세요',\n",
              "  'OoO님 조보아가 자기하고 싶어해요 조보아랑 백종원이랑 상황실 같이 있으면 좀 불편해요 김성주가 가운데 있어야 편해요 김성주 화이팅',\n",
              "  '꼭 힘든 건 조보아만 시키더라... 김성주는도대체 무슨 역할이냐.. 이럴거면 백종원이랑 조보아 2인체제로 가라 제발.. 하기 싫은 건 다 조보아 시킴..',\n",
              "  '지랄이 풍년이네~~~',\n",
              "  '자아 성찰은 무슨..끝까지 손님들에게 그리고 자신의 태도에 대해 뉘우치는 기색 전혀 없구만~평생 요리하지 마시고요 요리사 이름 먹칠하지 마세요 돈 많다고 개념 밥 말아먹으신 분이?!'],\n",
              " ['그래도 마지막 AS는 해주네요. 전에 경양식집이 워낙 뒷말이 많아서 그런가..',\n",
              "  '더 못생겨졌넹 ㅎ 머리 스타일도 못생겨졌어 ㅠㅠ',\n",
              "  '장사 안해도 생계엔 문제없는 그냥 배가 부른 인간임. 절실함이란 1도 없고 머리엔 놀고 즐길 생각만 하고 있네',\n",
              "  '조보아 왜캐 이쁜척하냐 어깨에 외투 딱 걸치고 ㅋㅋㅋㅋㅋㅋㅋ난 저 웃음 왜캐 가식같지?',\n",
              "  '잠발라야씨 답없다.',\n",
              "  '어찌사람이그런지솔루션안될꺼라는거알았지만뻔뻔함이극에달하는거같음모임위주로하는돈을차라리불우이웃을도우는게나을듯완전짜증변명만하느라바쁘고가계하고파도못하는사람들이어찌나많은데참나',\n",
              "  '모임위주로 한다는거보고 건물주 확실하다고 생각했다 작은규모도 아니고 월세내면서 어케 모임위주로 장사를하지 나같으면 무릎꿇고 도와달라 빌었음',\n",
              "  '장사안하는게 나을듯 기본부터 다시배워야 할듯. 두번다시 보고싶지 않네',\n",
              "  '[ 피자집 사장님을 보면서 -- 주변상황에 대한 눈치가 아주 약합니다. - 뭐라하지 마세요. ] 과정은 설명하기 힘드나, 상황에 따라서 주변을 살피즌 능력이 딸리기에 변명하기에 급급하죠. 이분 인간성이 잘못되서 그런 것이 아닙니다. 분명 사람들로부터 오해를 받을 수 있는 부분이죠. 그러나, 님들이 이제껏 살아오면서 느껴보지 못하는 부분들입니다. 응애~~하면서 태어나서 부모와의 교감....성장기....',\n",
              "  \"[ 피자집 사장님을 보면서 -- 이분 태생적으로 몰라서 이럽니다. - 답답하시죠들 ? ] 골목식당을 애청하는 1인입니다. 피자집사장님의 언행을 보자면, 대다수는 화가 날 겁니다. 그런데 이런 말을 하고싶네요. 피자집 사장님은.... 사람들에게 잘하고 싶은데.... 뜻대로 되지를 않습니다. 이 분은 오감에 있어서 '자기몰입형'입니다. 주변을 향한 눈치가 약합니다. 너무 핀잔 주지 마세요. 오히려 주변인분들이 응원해 주시면, 더 잘 할 분입니다.\",\n",
              "  '조보아 꼴베기싫다 좀바꿔라ㅡㅡ가식적인조보아',\n",
              "  '여유있게 장사??있는분이니 그렇지ㅠ근데 왜 솔루션해주지',\n",
              "  '배드민턴 모임? 봉사모임? 전국에 계신 자영업을 하시는 사장님들은 안하고 싶어서 안하는가? 다 가족 먹여 살릴려고 죽자살자 열씨미 일하고 계시는데, 이렇게 태평하게 말만 늘어놓는 당신은 머리에 똥만 차 들었다는 말밖에는... 준비가 미흡했다?? 맞다! 미흡해도 너무 심하게 미흡했다. 그걸 아는 사람이 준비도 안하고, 노력도 안하는가? 당신은 국민들, 그리고 자영업 하시는 분들께 큰 실수를 한거다. 당신은 그냥 숨 죽이고, 산에가서 혼자 사는게 바람직하다 본다. 이런 서비스업은 당신한테 전혀 안어울린다. 이제부터, 당신은 모든 국민들한테 질타를 엄청 받을것이다. 각오를 해야 할것이다.',\n",
              "  '이제좀살거같다 재방으로도보기싫타',\n",
              "  '피자집은  어떻게하든 피해갈려구만하나 핑계만은사람은  믿음이 안가 졸라 짜증나네  요리 공부 안한 인간아닌가? 핑계라도 되지말아야지',\n",
              "  '피자집은  어떻게하든 피해갈려구만하나 핑계만은사람은  믿음이 안가 졸라 짜증나네  요리 공부 안한 인간아닌가? 핑계라도 되지말아야지',\n",
              "  '피자집사장도답이없고..시식단도 무조건 까러오는사람들인거같음..',\n",
              "  'ㅋ 맞다......아저씨는 음식장사는 안맞아',\n",
              "  '역시 더 자극적이고 더 막장을 시청자는 원합니다 더 심한걸로 갑시다 어차피 백종원도 시청률 나오는거 원하니 그래야 욕하믄서 사람들이 더봅니다',\n",
              "  '고로케집은 왜 갑자기 사라진거에요?'],\n",
              " ['이 사람은 힘들게 돈을 벌 생각이 없었어.. 하루에 몇 테이블만 받아서 그냥 새로운 사람들이랑 놀면서 살고싶은거야ㅋㅋ 음식은 거들뿐 맛이 중요한게 아닌거지..백종원이 사람만들려고 고생만한거지 그냥 헛수고',\n",
              "  '요리가 장난인줄 아네ㅉㅉㅉ 허세만 잔뜩들어서는 국수조차 못만들면서 외국음식은ㅡㅡ꼴깝도 가지가지다ㅉㅉㅉ',\n",
              "  '진짜 이기적인 🐦 2',\n",
              "  '저런사람도 보아언니 만나는데 나는ㅜㅜ',\n",
              "  '조보아 극한직업 ㅋㅋㅋ',\n",
              "  '부모가 너무 오냐오냐 키워서 잘못 자란 케이스 분명 부모의 잘못이야',\n",
              "  'ㅋㅋ 말만 청산유수네',\n",
              "  '건물주를 왜 도와주는데 짱나네',\n",
              "  '진짜 방송쪽이 양ㅇ치라고 느껴지는게 피자집 사장 문제는 있지만, 푸드트럭때 부터 이전 출연자들도 만만치않는 사람들로 넘쳐났지만 솔루션 가고, 결국 해피 엔딩으로 끝났음...하지만 최초로 이번 피자집, 고로케 집 솔루션 못받고 끝난 진짜 이유는 둘 다 좀 사는집안 사장님들인데 그게 인터넷에 떠돌고 사실이니까 방송 관계자들도 난감해짐...결국 과감히 금수저 두 출연자 컷트하고, 항상 그랬듯이 최악이여도 끌고 가서 솔루션으로 변화를 주는 뻔한 진부한 결과에 반전도 주는 두마리 토끼를 동시에 잡음...냉정히 피자집 확실히 문제지만, 위에서도 말했듯이 푸드트럭때 부터 더 심한 출연자들 정말 많았음.',\n",
              "  '뭔 말할때나 가만 있을 때도 계속 손으로 얼굴기름 더덕더덕 뭍이고 또 그 손으로 요리재료 만지고 그러던데 어후...',\n",
              "  '고로케 집 피자 집 보고 느낀 건데, 얘네는 박리다매 죽어라 하며 돈 벌고싶은 사람들이 절대 아님. 자기 여유시간 가지면서 부업식으로 가게를 운영하고 돈도 벌고 싶어하는 거 같음. 그럼 얘네는 백종원식 박리다매 스타일로 솔루션 받으면 안됨. 고로케를 재래시장 가격에 맞춰서 솔루션해줄게 아니라, 그 사장이 정말 차별화된 고급화된 고로케를 추구한다면 아예 고급식으로 가는 게 맞음. 1분에 8개를 말고 그런 속도전보다, 정말 고급재료 푸짐한 재료 2,000원대 고로케 그걸 맞춰주는 게 맞았음. 어차피 그 애 자체가 시간경쟁으로 죽어라 반죽만 마는 일을 하고싶었던 애가 아님. 피자집도 마찬가지. 손님 와서 수다떨고 봉사활동하고 배드민턴 치면서 소소히 가게 운영될 정도만 하고싶었던 애. 차별화고급화 전략으로 해야함',\n",
              "  '머리숱은 진짜 많다',\n",
              "  '골목식당 제작진 PD 님들아.. 진짜 작작합시다;; 화제성만 밝히지 마십시오. 홍탁집도 개판이지만... 뒤이어서 이번엔 피자집... 이렇게 안하면 골목식당이 안된답니까? 골목식당이 언제부터 사람 갱생 프로그램이였습니까?? 프로그램의 목적성을 잃어버린 것 같네요.진정으로 간절히 원하시는 분들의 고민들을 해결해주고 해결되어가는 모습에서 진정성을 보고, 보는사람이 위안을 얻고 위로를 받는데 인간 갱생프로그램입니까, 홍탁집이나 피자집 주인만 나오면 채널 돌리네요. 해도그만, 안해도 그만인 사람들말고.. 진짜 간절히 원하시는 분들께 그 기회가 돌아갔으면 좋겠네요. 보는 내내 인상찌푸려지네요.',\n",
              "  '본인 인싸됐다고 엄청좋아하든데 ㅎㅎㅎㅎ 모질라... 참',\n",
              "  '가벼운 입을 좀 막고, 생각은 좀 무겁게 하고 인생살아가시길...',\n",
              "  '사람 자체는 착하다. 투표 결과에도 수용한다고 인정하고 첫회보고 도마 옆에 끼고 일한 자기 잘못도 인정하는걸 보면 사람은 착함. 단지 식당 사장의 기본자세가 없었을 뿐임.. 고로케가 진짜 나빴지. 백종원이 피드백 해줘도 자기 잘못을 인정 안하고 대구 청년구단에서 막걸리 사장을 보는거 같았음. 난 개인적으로 피자사장 사람 자체를 나쁘게 보진 않음. 근데 식당을 앞으로 하실거면 제대로 준비하고 하셔야할듯.',\n",
              "  '건물주 아들이면   지금자리 월세 주고 세받아먹는게 ㅋㅋㅋ',\n",
              "  '시작전 청각장애인 택시 광고가 너무 감동적이어요,',\n",
              "  '인성은 괜찮으신대 장사는 하지마세요 절대로',\n",
              "  '에효.... 내 동생이 저래.....제일 지 인생에 중요한거를 메인에 두어야하는데... 부차적인 거 신경쓰고 열심히 하는거...지금 아둥바둥 연습하고 고민해도 모자른데... 모임은 그대 인생을 해결해주지 않아요....잠깐 스트레스를 풀지는 모르겠지만...'],\n",
              " ['장사 시작한지 얼마안되서 준비가 안된게 아니라 그냥 기본이 안되있었다. 장사뿐일까? 그 마인드면 유치원생들이 주방놀이 소꿉놀이도 안 놀아줄듯~ 근데 영어 스터디 튜터 같은거 하면 잘 할거같다. 사람 좋아하고 노는거 좋아하고 영어에 자부심 있는듯 하니. 5명정도 모아서 하루 3시간 1인 2만원 정도씩 걷고 프리토킹 하고 노는걸로 돈 벌어라 그게 낫다~',\n",
              "  '걍 놀자니 뽀데안나고 다른거 하자니 그도 재주 없고~~심심풀이로 식당 열고 있는거면 돈 없는 영세업자에게 가게 내주고 오며가며들러서 커피나한잔씩 얻어먹으며 살지.',\n",
              "  '사람들이 이걸보고 양심없고 소질없는 자영업자가 없었으면 좋겠어요',\n",
              "  '아오OOOㅋㅋ그냥장사하지맠ㅋㅋ',\n",
              "  '장사가 너무 잘되도 혼자서 어떻게 할까????',\n",
              "  '근데 제작진들도 시청률 올릴라고 저 사람 욕먹을거 알고 섭외한거 같은데 좀 그렇다 이렇게 될꺼면 섭외를 말아야지 전국민한테 욕먹는거 보통 멘탈로는 버티기 힘들건데 에휴 사람은 좋은 분 같은데',\n",
              "  '시청률은 잘나왔겠네  큰그림 그리셨구나 제작진분들시청자와 저런분 섭외한 제작진의 콜라보',\n",
              "  '이른 시기라기 보다는 나이가 잇는분이니 바뀌기는 힘들꺼고그냥 이 행운을 받을수 없는사람이죠',\n",
              "  '핑계는 이유있는 핑계라야 국민들이 이해를 하지!이유같지 않은 핑계로 국민들을 당신(피자집) 생각에 맞추지 말아요~ 당신(피자집)& 고로케는 정신차릴려면, 한참 멀었어요~남자들이 무슨 그런 핑계를 대는건지?? 같은 남자로써 정말 열받는 말만 늘어 놓네요~ 그러니 방송에 나와도 소득도 없이 욕만 무지하게 먹네요~ 자신이 무얼 잘못했고, 또 어찌 해야 하는지 스스로 깨우치시기를... 그리고 고로케집은 백종원 대표님께서 조언을 해주실때, 한쪽팔은 테이블에 기대고 하는 모습이 정말 보기 싫었습니다. 그래도 사람에게 기본적인 예의가 있는법, 듣는 자세에도 그 사람을 알수 있습니다. 건들거리는 것 또한 피자집 못지 않게 불편하군요~ 정신들 차리세요~',\n",
              "  '아진짜 짜증나서 못보겠네 태어나서 첨 댓글다네여피자집사장은 음식에 대해서도 모르고, 음식도 못하는 사람이 왜 음식장사를 하는건지 저런사람은 장사를 못하게 하거나 아예 창업자체를 못하게 해야되는 법이라도 있었으면 좋겠다는 생각까지 했다 음식장사 정말 정성을 다해서 열심히 하시는 분들에게 욕보이는 짓이지ᆢ 손이 느린게 아니고 개을러 터진거고 그나이에 생각이란 자체가 없는사람이다',\n",
              "  '척!',\n",
              "  '이사람 어떻게 보면 좀 불쌍하다금수저라는데 왜 틱장애인지 불안장애같은게왔지?? 가끔 있는집 애가 폭력적이거나 갑질하는건봤어도 저런느낌아니고뻔뻔한만큼 당당하게 지내던데..',\n",
              "  '장사가 잘되면 그것도 걱정 ㅋㅋㅋㅋㅋㅋㅋㅋㅋㅋㅋㅋㅋ이래ㅋㅋㅋㅋㅋㅋ 아 측은했는데역시나... 사람은 안변해요 ㅋㅋㅋㅋㅋㅋ',\n",
              "  '사람은 나쁘지 않은데, 요리하는 사람으로서는 너무 별로에요....',\n",
              "  '그냥봐도 나쁜사람처럼 보이지 않는데 왜 이렇게 다들 비난하시나요? 상대방이 받을 상처는 생각안하고 그냥 아무렇지 않게 글을 남기시는겁니까?  보기 싫으면 본인이 TV를 안보면 되는거고 우리나라 댓글 문화 너무 마녀사냥이 지나친거 같네요 댓글도 실명제와 나이를 공개하는게 좋을것 같네요~그냥 본인과 생각이 다르면 다 잘못된 사람처럼 보이시나요? 모든사람들이 다 똑같을 수는 없고 그냥 다르다는걸 인정하시면 되는겁니다. 솔루션을 받아야 하는 부분이 오로지 레시피에만 달려 있는것이 아니라 장사를 하는 마인드 조차도 솔루션이 필요한겁니다. 물론 개인의 노력에 차이는 있겠지만 그 노력또한 사람마다 자기 그릇이 다르기때문에 함부로 판단해서는 안된다고 생각합니다.',\n",
              "  '제발 여기랑 고로케집은 방송나가도 사람들이 안가줬으면 좋겠다',\n",
              "  '건물주 아들 맞나보네. 가게세 내려면 죽기살기로 벌어야 적자 안날텐데 저렇게 태평스럽게 모임 얘기나 하는거보니.',\n",
              "  '모임 나갔다고ㅜ?정신 못차린다,,,,나 같음 옆집들 장사 잘되는거 보면 속상하고 이겨 낼려고 이를 갈건데,,,진짜 결혼하지말고 혼자 사세요 귀한집 딸 데려다 고생시키지말고ㅜ',\n",
              "  '성격진짜 맘에 안들어 능력없으면서 뻔뻔하달까 배우고자하는자세가 안되어있음',\n",
              "  '머리에 무스 바르는동안 연습좀 하지 ㅋㅋㅋㅋㅋㅋㅋ 참 건물주 아들이라 부러구만 ㅋㅋㅋㅋㅋㅋㅋㅋㅋㅋ고생없이 이득보려는 인간 부류'],\n",
              " ['형 유튜브 해봐~ 구독자 10만은 거뜬 할 듯.',\n",
              "  '이사람은 더 고생하고 배고파봐야한다마지막 인터뷰인데도 듣고 있으니 속터짐이른시기에 온 행운이라 제대로 받아들이질 못한게아니라 아마 언제 왔어도 절대 못잡았을 행운이다 정신상태, 마인드가 이미 노답~',\n",
              "  '보아가 뭔 죄야 ㅋ',\n",
              "  '생겨먹은게 양아치같이 생겼냐',\n",
              "  '진짜 신청자 분들도 대단하시고 내가 이렇게 성질을 오래 참은 것도 대단하다...내가 저기에 있으면 표정도 확 바뀔텐데..진짜 까오+더러움+싸가지 등 이런거 참느라 고생하신 신청자에게 감사해라!! 내가 솔루션 실패를 하면 어떻게 되는지 똑똑히 알려준다.(솔루션 못 받음=노답 가게라는 걸 증명함=망하는건 순식간) 까오라도 좀 풀어라 진짜 내가 저기 피자집 갔는데 까오부리면 내가 싸움을 접은지 1달도체 안되서 다시 하게 된다!! 까오라도 좀 풀고 다녀라 예전에 찐따였냐? 폼은 겁나게 잡네🤬',\n",
              "  '배드민턴칠때 존나 패배 인정안할거같음 (채가 안좋아서 졌다 )',\n",
              "  '나쁜사람은 아닌데.. 안타깝네요.',\n",
              "  '장사가 잘 됐어도..?',\n",
              "  '3:11 조보아 \"아휴\" 진짜 많은게 담은 한숨이었닼ㅋㅋㅋㅋㅋㅋ',\n",
              "  '참 ..ㅠ',\n",
              "  '사장님이정신적으로 문제가 있든데...',\n",
              "  '건물주 아들이신데 보증금, 임대료 걱정도 없으니 무인기 카페 장사를 하심을 추천 드립니다.',\n",
              "  '여유되니 봉사하고 놀고 좋겠다',\n",
              "  '사람은 좋아보이던데...인심공격은 하지말자',\n",
              "  '봉사 하는거나 그런거 보면 이거임.모임같은데 나가면서 주변 지인들하고 친목쌓고 좀 인싸되었으니까 방송 나가서 돈도 벌어보려하다가 망하고.. 차라리 방송 나오지말고 꾸준히 봉사나 하시면서 사시지...그게 더 바람직할듯. 그래도 자원 봉사를 할줄 안다는 것은 어느정도 선의를 가진 사람이라는 건데...괜히 방송나와서 자기 없는 요리실력 보여주다 욕먹고ㅋㅋㅋ...그냥 저 사람은 방송이나 요리나 요식업에는 손 안대는 것이나을듯',\n",
              "  '그래도 마지막멋있네요 조보아도 울고',\n",
              "  '조보아 왜케 이뻐~~♡♡♡',\n",
              "  '진짜 댓글 잘 안다는데 이거는 달아야 겠다는 생각이 들어서 남기는데...이분은 아직까지도 뭐가 뭔지 모르시는것 같네요이런 인터뷰도 왜 했는지...말 속에서 절실함이라던가 본인의 문제점 인식이 느껴지지 않아서 안타깝네요사람은 고쳐쓰는 거 아니라는 말이 문득 납니다',\n",
              "  '이분 영어학원 차리는게...',\n",
              "  '사람대하는 서비스직은 지금 당장 저 사람은 못해냄. 요새 초중딩들이 말빨 더 세고 똑똑한데ㅋㅋㅋㅋㅋㅋ 학생들이 속 뒤집어져서 먼저 그만두고 학부모들 학원 뒤엎음ㅋㅋㅋㅋㅋㅋ돈 많으니까 봉사일이나 배워라'],\n",
              " ['댓글보니 강사 일 말하는 분들 계시는데.. 강사일도 뭐 아무나 하는 건가... ㅋㅋㅋㅋㅋ 강사도 서비스직인데 절대 저 사람은 못함',\n",
              "  '방송타서 어떻해보려는 의도  동네 마다 저런집있어요',\n",
              "  '체질이 안맞아 ㅋㅋ',\n",
              "  '태도가 아닌듯 장사할사람이 아냐',\n",
              "  '장사를 하겠다는거네',\n",
              "  '배드민턴도 치는입장인데..저런 사람 특징이..후..걍 같이 게임하기 싫은스타일ㅋ',\n",
              "  '이 분은 장사 보다 강사나 선생 했의면 좋겠다',\n",
              "  '그래요 혼자 취미로 하면 되요. 장사와는 인연이 없는 분이신것 같습니다. 본인 인생을 크게 봤을때 몇년을 마음고생하면서 허송세월 보내고 나서야 깨달았을 것들을 컴팩트한 시간에 강력하게 깨우쳐준 백대표에게 평생 감사하면서 사세요',\n",
              "  '조보아는 마주 앉아 있는거 자체가 힘들겠다.',\n",
              "  '욕하지 마라 건물주다.......',\n",
              "  '적성에도 안맞는 음식장사 말고 차라리 좋아하는 배드민턴 용품점을 하세요 ~',\n",
              "  '장사에대해선 욕먹어야할 부분 많지만 장사 외 필요 이상의 욕하는 사람들은 저 사장님보다 훨씬 잘못됐다. 사회부적응자라니 쓰레기라니 .. 꾸준히 자원봉사 다니고 성격은 좋은 사람같은데  겉모습으로 욕하는 사람들은 저사람 욕할 자격도 없음',\n",
              "  '부디 열심히  하셔서  좋은 결과 있으시길 바랍니다~~',\n",
              "  '힘내세요',\n",
              "  '난 진짜 피자집보면서 10대들 장래희망 찾아주는 프로그램임줄알았음 OOO',\n",
              "  '행운은 준비된 사람에게만 찾아오는 건데.....',\n",
              "  '아니 맛이 없다니깐요 맛이ㅋㅋㅋㅋ 맛있게 하면 사람들이 왜 안오겠냐고요?ㅋㅋㅋㅋ',\n",
              "  '군대에가면 저런부류를 고문관이라 부른다ㅋㅋㅋ',\n",
              "  '조보아 너무 착하게 대하는거 같당 ㅋ',\n",
              "  '이른시기에 찾아온 행운이라..개인적으론 그분전국적으로 망신을 당해서 안타깝지만그말 또한 하나의 변명일뿐충분한 시간을 주었음에도 시기 운운할수 있다는건 정말 뻔뻔하다는 생각밖에 안드네요.일년후에 그집에 찾아갔더라면 접객이나 음식맛 뭐가 달라졌을지 의문입니다'],\n",
              " ['눈이 커졌으',\n",
              "  '보아씨 왜보냈냐 제작진 의도 뭐냐 중단할꺼면서 애초에 방송내보내지나 말지 뭐하냐 어그로도 작작해라 제작진 이 이따위니 프로그램상도 못타는거다',\n",
              "  '피자집사장은 학원강사가 어울리는듯외국어를 하니까',\n",
              "  '나쁜사람은 아닌데 방법을 잘 모르시는거같아요.꼭 깨닫길 ..',\n",
              "  '마지막에 고로케집 뭐죠??? 저만 이해못했나요?',\n",
              "  '조보아씨 극한직업이네...',\n",
              "  '사장얼굴 보는순간 알바면접 보는애들 바로 도망간다에 내 손목아지 건다',\n",
              "  '그냥 학원 운영 하셔요.',\n",
              "  '아 보느라 힘들었다.. 수고하셨어요 보아 언니',\n",
              "  '예전에 연예인 문희준을 필요 이상으로 집단 혐오하던 그때 분위기가 생각나네요. 본질은 흐려지고 점점 조롱의 대상으로서만 인식되었죠. 나쁜 사람은 아닌 거 알겠고 솔루션 못 받았으면 그쯤에서들 손가락질은 그만 합시다. 신체적 특징 가지고 비하하는 것도 보기 안좋네요.',\n",
              "  '그래도 칠리덮밥 팔고있는거 보면 백종원아재가 촬영 외로도와주셔서 팔고잇는거아님? 요새 장사 잘된다며',\n",
              "  '제발 귀 뒤 좀 구만 만져 ㅠㅠ',\n",
              "  '찐내남',\n",
              "  '제작진들 참 대단하다. 솔루션은 중단된 상태였는데 방송에는 다 내보낸거야? ㅋㅋㅋ 진짜 너무하네 출연한 사장은 욕먹고 싶어서 나오는줄 아나',\n",
              "  '좋아하는 일과 잘하는 일은 다릅니다 여러분..건물주 아들이든 뭐든..창업을 한다는거 자체가 도전인데..이 일이 나와 안맞는다는 걸 지금에라도 알았으면 된거지..방송 내보내 달라고 로비한것도 아니고..담당피디가 사전미팅 분명히 해봤을텐데..인격 문제를 떠나서..제작진이 화제성으로 시청률 올리려고 사람하나 공개 매장시키는걸로 밖에 안보이는데..맞는 길 찾아가시길 바랍니다..',\n",
              "  '이분은 나쁜사람은 아닌데 뭔가 심하게 특이함.. 쉬는날없이 주말이면 봉사활동가고 모임가고 하는데 사람이랑 어울리는것도 본인이 좋아하고 사회성이 없는건 아닌거같은데 손님대하는거보면 왜그럴까...',\n",
              "  '다른각도에서 보자  당신들이 피자집사장 이면 방송에 내보내라고 했겠는가?  결국 방송은 사람하나 바보만들어서 시청율 올린거 아닌지ㅡ피자집 사장은 공감능력이 떨어지는 우리주위에도 흔치안게 볼수있는 타입의 사람이다 .  어차피 이익본거 하나없는데 방송을 왜 허락 했겠나....제작진은 진심으로  피자집사장에게 사과해야한다',\n",
              "  '근데,착한 집 만 도와주자는 기준은 도데체 어떤기준 방송 카메라 앞에서의 모습? 아니면 그냥 사장님 인상? 여기서 봉사 활동 하는 사람은 피자집 사장 인데..방송이 자극적으로 다뤄서 그렇지 착하고 나쁘고는 아무도 모름...',\n",
              "  '골목식당 제작진 양심있으면 금수저들은 받지 마라 좀 골목상권 뜻도 모르나',\n",
              "  '모임 나가는 것도 유대관계를 배우는 거니까.. 그리고 남을 위해 봉사활동을 하는 것은 본받아야하는 점이다.'],\n",
              " ['방송나가서 젤힘들었을 사람이 본인일텐데멋모르고 시작했던 식당이였으니인생공부했다 생각하시고 ...제작진들도 왠만함절실한 식당주인들 찾아가서 도와주시길^^',\n",
              "  '조보아 언니 좋아하지마',\n",
              "  '뭐 기본이나 서비스가 갖춰지진 않았지만 에이미 세바스찬급이 심성이 아닌건 다행이네요.',\n",
              "  '제작진도 자아성찰 좀 하시길...',\n",
              "  '고로케집은 얼마나 노답이였으면 통편집이냐',\n",
              "  '장사를 취미로 할 수 있다니.. 금수저 부럽다 ',\n",
              "  '봉사하고 그러는거보면 착한 사람같은데 사회성과 공감능력이 결여된거같네요.',\n",
              "  '청파동 틱장애 ㅅㄲ',\n",
              "  '내 눈에 띄면 바로 통수 치며 장사 하지말라고 한다',\n",
              "  '한심이  모질이 몬돌이',\n",
              "  'ㅋㅋㅋㅋㅋㅋㅋㅋㅋㅋㅋㅋㅋ조보아 웃는거ㅋㅋ나같아도 배때기잡고 뒹굴면서 웃을듯',\n",
              "  '고로케 궁금해서 봤는데 이거 뭐 거의 통편집이니 어우 고구마 ...',\n",
              "  '요리계의 김주영쓰앵이 와도 못살린다 여긴',\n",
              "  '우셨나? 부었네',\n",
              "  '무슨복으로 저런 삶을 살지 부럽다',\n",
              "  '나는 이정도욕먹었으면 정신병왔다맨탈좋은거는 부럽네요 ㅋㅋ',\n",
              "  '저런 남자들 특징: 조보아처럼 나긋나긋 억지로 얘기해주면 자기를 좋아하는 줄 알고 고백함. 여자가 거절하면 돌변함',\n",
              "  '구구절절 배부른소리네~ 배고파봐야지~',\n",
              "  '가게가  왜  망하는지  보여주는것같다',\n",
              "  '돈이 얼마나 많으면 저렇게 모임이나 하고 봉사활동 하고 살 수 있지?부럽네'],\n",
              " ['그놈의 배드민턴 하......',\n",
              "  '좀 유명해졌다고 머리도 만진건가....',\n",
              "  '난 조보아가 왜 웃는지 알것같다',\n",
              "  '가게월세도 안내도 되니 걱정할것없고 개인놀이공간간으로 있는 느낌이네요  햄버거가게한테 월세받아서 생활비쓰고',\n",
              "  '사람은 쉽게 변하지 않는다는 정석을 보여줌. 참 한결같다...',\n",
              "  '끝까지 바보네.. ㅋ 절실함 1도없어..',\n",
              "  '이런 결말도 졔작진 미리짠시나리오아니었나 의심갈정도로..이프로..신뢰감이 떨어졌어요',\n",
              "  '왜저럴까?',\n",
              "  '조용히 운영하세요. 손님이 있을진 모르겠지만... ',\n",
              "  '저사람은 tv출연으로 이미 성공한듯. 모임의장으로 취미로 장사한다는거잖아. 정말 절실한분들 기회를 저사람때문에 빼앗긴 기분이드네.',\n",
              "  '걱정안해도되는 부잣집아들',\n",
              "  '입만 살았엉',\n",
              "  '절대 저집 가지맙시다.',\n",
              "  '그냥 배드민턴 선수 하세요',\n",
              "  '이세상 멘탈이 아니다ㅋㅋㅋㅋㅋ졸라 튼튼하네',\n",
              "  '모임이 중요하고 사실상 우선시 하는분이 무슨 생각으로 설루션 받겠다고 나선건지 덕분에 누군가에겐 희망이 될 기회가 오지 않았고 시청률 올라가는 방송사만 웃었네',\n",
              "  '요리 연구를 좋아하고 나름  이론적 지식  있지만    실전에선  꽝이예요.     손님응대도  너무  떨어지고  국수삶는거부터   기초가 안되어있는데 ..  어디가서  알바라도  하시고  요식업  실전경험으로  배우셔야할듯. 사람이 나쁘진 않는데 너무 뭘 몰라  .',\n",
              "  '말은 ㅈㄴ 잘하네',\n",
              "  '취미로 장사할게요 어차피 전 건물주 아들이거든요 모임하면 문닫습니다. 버거집 대박나면 월세 올려받으면되죠 전 배드민턴이나 치며 취미로 실험요리할게요',\n",
              "  '사람이 못된건아닌데 왜 저랬을까'],\n",
              " ['틱',\n",
              "  '이분 멘탈도 갑이라고 봄. 보통사람은 아닌....',\n",
              "  '잘못된부분 지적하는 사람들 - 정상피자집 사장 (가게운영안할때) - 정상웃어주는 조보아 - 정상사장 인신공격하는사람 - 비정상사장이 가게 운영할때 - 비정상',\n",
              "  '보아언니... 진짜 고생하셨어요',\n",
              "  '냉혹한 현실에서도 저리 웃을수 있을까요?고칠껀 고치시고 힘든상황을 잘 이겨나가시길 바랍니다.',\n",
              "  '돈이 절실하지 않구나..',\n",
              "  '에휴~ 알겟습니다 ㅋㅋㅋㅋ ㅋㅋㅋㅋ뽀야 힘들엇겟다',\n",
              "  '마인드가 난 딱히 장사 잘 안 되도 먹고 살고 노는데 지장 없으니까~이거네. 본인 입으로도 손님 많이 와도 싫다잖아. 감당 안 되고 힘드니까. 이 사람 눈에는 요식업 자영업자들 한심해보이겠다. 한 사람이라도 더 오게 하려고 노력하고 고민하고 하는 행동들이 우습게 보이겠어.',\n",
              "  '마지막 인터뷰를 보고 느꼈다.. 이사람은 절실함이 없는게 가장 문제다',\n",
              "  '좋은일하시고 잘하는일 만나시길바래요',\n",
              "  '좋은사람인데 ...하다보면 장사도 늘거에요...고객의 소리에 귀를 한번더 귀울이고. 번창하길 바랍니다',\n",
              "  '여기에는 안나온 고로케 사장님과 백대표가 대화하는 장면에서 고로케 사장님 테이블에 한쪽팔 걸고 짝다리 짚고 실실 웃으며 대화하는게 진짜 꼴보기 싫었음.기본도 안되어있고 예의도 없고 참... 사회생활 저리하면 안될텐데...',\n",
              "  '보아쓰 넘 고생 많다 ㅠㅠㅠ',\n",
              "  '보아쓰 넘 고생 많다 ㅠㅠㅠ',\n",
              "  '오늘 처음으로 틱장애 안보이네. 가만가만 말하는거 처음봄',\n",
              "  '불쌍한 사람 같아요',\n",
              "  '잘하는걸 찾아보세요음식은 절대 하지마세요',\n",
              "  '피자집 사장님 아니 건물주 아드님 당신은 그냥 건물주하면서 페라리 타고다니는게 본인 인생이야 ... 고로케집도 마찬가지',\n",
              "  '그냥 망했으면 좋겠다 장사하지마라',\n",
              "  '그럼 배드민턴 용품점이나 영어학원을 하시죠'],\n",
              " ['나쁜애는 아냐그냥 히키코모리라서사람이랑 대화를 별로 안해본듯혼자만의 시간을 줘라',\n",
              "  '지들이 일하는 꼬라지다 저것보다 나을줄 아냐?? ㅉㅉ',\n",
              "  '돈이 많아서 그래..아쉬운 게 없잖아..',\n",
              "  '나쁜사람은 아닌데 봉사도 하고 나보다 낫다',\n",
              "  '장사가 너무 잘되도 힘들테니 잘된거다라니....대박이네',\n",
              "  '음식점할 마인드는아니다 나쁘진않은데 답답하다',\n",
              "  '그래도 마녀사냥하는 개돼지들 보다 건물주 아들이 훨씬 낫지^^',\n",
              "  '조보아가 진짜 천사다... ',\n",
              "  '제발 망했으면 ㅠㅠ 다음주터 골목식당 이런 사람은 속시원하게 중단 원합니다 !!',\n",
              "  '조보아 영접한값 내놔라',\n",
              "  '그냥 배드민턴장을 차리시는게...',\n",
              "  '조보아 와~  뭐 저런 사람이 있을까? 라는 표정ㅋㅋ',\n",
              "  '휴..진짜 장가가지말고 혼자살아라.',\n",
              "  '참 안타깝다. 정말 열정적으로 손님들 입장 생각하면서 장사하시는분들에게 갈 기회가 저런데 갔다니..',\n",
              "  '끝까지 특이하신 분 ㅋㅋㅋ',\n",
              "  '저렇게알바생이간다해도 알바생도고생이다 손님없어서',\n",
              "  '일못하는 사람이 인성이 마냥 더럽지 않으면 더짜증난다고.. 일도 못하는데 인성이라도 같이 더러우면 상욕하면서 풀겠는데 딱히 사람자체가 나쁜건 아니라고 느껴지면 욕하는것도 미안해짐. 근데 일은 못해서 욕은 나옴. 근데 사람이 나쁜건 아니라서 욕하는게 미안해짐. 근데 일못해서 욕이나옴. 욕하고 미안하고 욕하고 미안하고 욕미욕미',\n",
              "  '지가 좋으면 된거지 꼴리는데로 쳐사세요',\n",
              "  '가만 보면 제작진이 문제가 있음. 애초에 결격사유가 많은 사람들 방송욕심에 무리해서 출연시켜서 문제생기면 다 출연잔 탓 나몰라라. 방송만 개이득. 출연진이 잘못을 하긴했지만 일반인이 방송으로 인해 돌이키기 힘든실패와 무자비한 인신공격까지 감수하게하는 거는 아닌 거 같다.',\n",
              "  '페라리잇는새끼가 불쌍한척 하니까 역겹다 퉤!! 퉤!! 내 남친은 겨우 신형K7인데 이 더러운 세상!!'],\n",
              " ['피자집사장은 나쁜사람은 아니다 개념이 없는거지. 근데 고로케네는 잔대가리 굴리면서 방송을 지네사업에 이용할려는거에 용서할수없다.',\n",
              "  '병자네 치료받아라',\n",
              "  'tv에서 사람 이상하게 만들어놨음 . 틱장애가 있어서 오해하는분들이 있다. 사람 쓰레기로 만들지마라',\n",
              "  '결국,절실함이 없는...',\n",
              "  '고생을 더 해봐야 정신차릴듯~',\n",
              "  '저 사람이 나쁜 사람은아닌데 그냥 무지한사람... 봉사활동 , 배드민턴 나가는게 뭐가 잘못된건지 모르는거지 일부러 그런거 아니에요... 그냥 모르고 그냥 무지한거라 오해하는거지..  나쁘면 가르치면 되는데 그걸 이해를 못하는거에요.. 그걸 두고',\n",
              "  '나쁜사람은 아닌거 같은데.. 마인드 자체가 다른사람이라서 이런 사람이 음식사업은 아니라고 본다. 다른 사업도 똑같아..',\n",
              "  '솔루션은 실패 했지만 백대표님을 통해서 본인에 미흡 했던 부분들을 알게되고 지적된것에 대해 고마움을 느껴야 한다고 본다 만약 이런 경험이 없었다면 여러가지 단점을 발견하지 못했을 것이다',\n",
              "  '어떤 장사든 않하시는게...',\n",
              "  '자기 실력도 모르고 음식장사를하겠다 하는 사람 극혐이다',\n",
              "  '일반인 한명 욕하는걸 왜이리 좋아할까 참....',\n",
              "  '분수를 모르는 거지. 주제 파악 전혀 안하는......',\n",
              "  '보아씨 웃어주지마 저사람 착각할거 같아',\n",
              "  '배드민턴용품을 파시지',\n",
              "  '얘는 그냥 병...,ㅡ신.. 대화조차 의미없다',\n",
              "  '고로케에 피자집에 이번편만큼 찝찝한편이 없었던거같다 주작논란받아도 할말없는편이었음',\n",
              "  '최양락 생각나시는분~~~',\n",
              "  '이빌런은 그냥 명함이 필요한거임.. 장사생각없이 레스토랑 사장 명함이 필요함',\n",
              "  '그래요...그동안 욕 먹은 건 다 둘째치고 그냥 장사만 안하시면 될 거 같아요~',\n",
              "  '이분이 죽을죄 지은건 아니지 않나? 우리나라는 방송만 보고 비난은 너무 한듯함. 그냥 순수하고 솔직하신분인거다.'],\n",
              " ['이 사람은 숙박업하면 괜찮을것같은데. 영어되고 청소..는 업체 부르고 사람만나는거 좋아하고 가끔씩 실험요리하고',\n",
              "  '참생각없이사는듯...',\n",
              "  '솔직히 다들 지랄 좀 하지 마세요;; 마녀사냥 개 무섭네.. 솔직히 저 분이 잘못 한 것도 있죠 근데 사람이 나쁜 사람은 아닌 것같아요 사람의 한 모습만 보고 너무 몰아가지는 않았으면 좋겠네요 좀!!!!!!!',\n",
              "  '저기 비듬 먹으러 가는 흑우없제?비듬먹고 인스타나 이런데 올리지마라 흑우들아ㅜㅋㅋㅋㅋ',\n",
              "  '끝까지 죄송합니다 라는 말은 못하는구나.. 저정도 여러번 기회를 줬으면 마지막에는 사과한마디하고 떠나야 정상이지.. 장사가 너무 잘되도 고민이라고??? 정신병원에 솔루션 받으러가세요. 백종원씨 말대로 사람과 마주치는일을해서는 안됩니다. 난 니가 어디 밤길에 칼맞거나 누구한테 봉변당할까봐 진심 걱정이네 너 가게 유리창 누가 돌맹이로 던져서 깰거같은 예상이다. 숙명여대라서 다행인줄알아라 일반대학이었으면 너 남학생들이 멱살잡고 난리났을거야. 처음부터 건물주 아들에 해외유학에 돈이궁한게아니라 그냥 취미로 레스토랑 열어본거잖니. 배드민턴, 영어모임 사람들한테만 요리해주고 절대 일반인 손님한테 돈받고 쓰레기음식 팔지마라',\n",
              "  '사람 뱃 속으로 들어가는 음식 아무나 파는 것 아닙니다. 이번 편 보면서 괜히 열심히 묵묵히 일하시는 다른 식당 사장님들 의심하는 마음이 들어서 참...',\n",
              "  '이분은 요리학원부터 다녀야될뜻 자만하지말자건방지지말자 말대꾸하지말고 핑계대지말자 그래도처음보단 성격이죽어서 다행이네',\n",
              "  '탈락  저 마인드는 뭘해도 탈락',\n",
              "  '진짜 골목식당 피자집편 보다가 암걸릴꺼 같은 트라우마 생겨서 골목식당 못보겠어;',\n",
              "  '면 종류는 달라도 냉면집 사장님한테 가서 면 삶는 법이라도 배웠더라면 그나마 욕을 덜 먹었을텐데.. 봉사 다니고 모임을 할 시간에 파스타집에 아르바이트라도 하든지..여러가지로 답답했던 분이였네요. 손님 응대법에서도 공감능력 떨어지고..ㅡㅡ',\n",
              "  '진짜 보아언니 힘들었겠다... 맴찣.. ',\n",
              "  '시청률 얼마나 올려줬는데 ㅅㅂ sbs 방송국놈들아 돌려줘야 될꺼 아니냐',\n",
              "  '처음이 어려운거지....앞으로도 프로그램에서 솔루션 중단이 있을 수 있다는 전제가 깔린다는 점에서 매우 현명한 마무리인듯... 저분도 아마 몇주만에는 무리더라도 아주 천천히 많은 시행착오를 거쳐서 나아지겠죠... 더 맞는 일을 찾을 수도 있고....',\n",
              "  '많이 힘드셨을거 같은데 장사만 하지말아요..... ',\n",
              "  '아.꼴보기 싫어 왜 나왔어 그럼 애초에',\n",
              "  '음식장사를 할 사람이 아닌 거 같아요.. 사람은 좋아보이는데',\n",
              "  '변화가 없구나.',\n",
              "  '장사꾼 마인드는 아닌듯....정신못차렸네~~~~',\n",
              "  '준비가 안된 사람에게는 기회가 찾아와도...잡지 못한다는걸 보여주는 케이스',\n",
              "  '피자집 사장 그문에 봉사 지가 높은사람인줄아나 높은사람도 그렇게 자주는 봉사안가 결국엔 장사할 마음이 없다 이소리잔아 그냥 취미로 해봤다 이소리잔아 솔루션을 왜못받았는지 생각좀해라 손님을 20명이상 못받는건 요리사가 아니지 20명도 못받을꺼면 장사를 하지마 지금 상황보니까 손님 한명도 없고 장사 안되는구먼 장사 잘되는상상에서 꿈깨 사람고용하고싶다고 해도 아무도 안와 음식도 제대로 못만드는 사장이랑은 일못해 꿈깨 정신차려'],\n",
              " ['그냥 가게를 하지마 ㅂ;ㅅ아 진짜 아오;;;;;;;',\n",
              "  '사장님 진심으로 요리는 안맞는것 같아요 차라리 커피와 맥주를 파시는게 좋을것 같아요',\n",
              "  '나는 너에게 끝까지 썅욕을 하고싶다......',\n",
              "  '저런 여유가 있고 하는거보니 진짜 건물주아들인가봄 장사하려는 적극적인 맘은없어보임 이번일을 계기로 장사는 안하셨음 좋겠음',\n",
              "  '별다른 고생 없이 자란 저런 사람이 근데 한편으론 은근히 여리고 착한 면도 있죠. 남들 몰래 선행도 하고 그럴 수 있습니다',\n",
              "  '절대 나쁜분아님 다만 장사레 센스가 정말 많이 부족한분',\n",
              "  '사람은 괜찮은데 음식 장사하는 사람으로서는 별로인 것 같네요. 잠시 악플때문에 힘들긴 하겠지만 이겨내세요. 그리고 만약 계속 장사를 이어나가실거면 지금보다 더 연구하시고 노력하시고 열심히 하셔야 먹었던 욕이 사장님께 긍정적인 부분으로 돌아갈 겁니다.',\n",
              "  '남이야 취미로 장사를 하든 말든 피해준거 있나. 자기 돈 나가는데 안가면 그만이고...  뭐 그리 욕을 하나. 니들 인생이나 잘 살아.',\n",
              "  '제작진새귀들아, 시청률 제조할 생각으로 하지말고 진정으로 사람을 생각해라 개색들아',\n",
              "  '병원상담을좀받아 진심..',\n",
              "  '1분 40초에 조보아 눈물맺힌표정 나오는데 내가 다 뭉클하더라 진심으로 공감하고 안타까워하고 있다는게 느껴진다',\n",
              "  '주변에 피자집 사장님같은 친구 있었는데 한편으론 안타깝네요. (피자집 사장님 사정과는 다를수도 있지만 그친구는) 부모한테 사랑못받고 부모가 주위사람 업신여기는거 보고, 부모가 나는 잘했는데 너는 왜 못하니 이렇게 가정교육(?)받고 자라면서 타인한테 엄격해지고 배려하는게 미숙한 친구였는데.. 그러면서 자기만의 방식으로 상대를 위해주는건 있고 참 복잡한.. 왠지 그녀석 보는 느낌.. 그친구한테 몇번 쓴소리하다 결국 질려서 연은 끊었는데,, 사람이 실수할수있으니까 돈으로 먼저 해결하려하지말고 변명하지말고 본인을 인정하면서 살아갔으면 한다 나xx야.',\n",
              "  '장사만 안하면 사람은 착한거 같은데 참 답답하네',\n",
              "  '제작진은 그냥 피자집 사장 시청률 올리는 데 이용하기만 했네.....에휴 OOO들',\n",
              "  '조보아 너무 착해...',\n",
              "  '보아가 고생이 많네',\n",
              "  '실제로월세나전세내고.관리비내고.유지비내고아둥바둥살겠다고노력하는사람이얼마나많은데..저렇게가게차려놓고모임의장으로만들겠다는마인드는..아직정신못하린거지..',\n",
              "  '돈에 대한 욕심이 없어서 그런거죠 뭐',\n",
              "  '끝까지  핑계지  저놈  뇌속에  뇌세포들은 무슨죄냐?',\n",
              "  '모임..대봑..저사람은안바뀜..주변친한지인님들아...정신차리게한마디들좀해주세요...'],\n",
              " ['아무나  배드민턴채로 대가리 쳐서  정상사람으로 만들길',\n",
              "  '피자집 사장 그 예전 영화 콘스탄틴?? 그거랑 매트릭스에 나왔던 키아누 리브스?? 걔랑 닮았다 잘생김',\n",
              "  '돈이좀있는집안인갑네돈벌려고 낸 가게가아님첨부터주방장비최고급으로 사논거보고 느꼈다난',\n",
              "  '베댓 가관이다....',\n",
              "  '사람이 꽤 독특해서 그렇지 안 좋은 사람 같지는 않은데, 앞으로 음식 장사를 하고프면, 요리 학원에서 배운 후 장사를 하면 어떨까 싶네요.',\n",
              "  '굴러온 복을 계속 줄려고했는데 본인이 걷어차버리네ㅎ',\n",
              "  '백종원도 제작진들도 정말 답없다 싶었겠지...',\n",
              "  '사람자체가 여유로운 마인드라 장사랑은 안맞는듯, 인간 그 자체로 봤을땐 그리 나쁜사람은 아닌 것 같은데 방송 악플땜에 힘들텐데 잘 이겨냈으면 좋겠다',\n",
              "  '제작비날리고  출연료받고 끝인데장사안하면되는데   먹고살만하니깐저러지    참나',\n",
              "  '왜 서운하죠? 하아...',\n",
              "  '그냥..노답..',\n",
              "  '정말 자신이 뭘 잘못했는지 모르거나 인정하지 않는 사람은 질책조차도 싫어하고 질책하는 사람을 나쁘게 생각합니다 그러나 사장님은 싫어하지 않는다는 것으로 보아 나쁜 분은 아닙니다 다만 진심으로 장사를 계속하실 생각이시면 문제점은 하나씩 고쳐나가시는 게 좋으실 겁니다 그렇게 하면 언젠가 지금의 경험이 피와 살이 되는 날이 올 겁니다^^',\n",
              "  '저사람 욕하지마세요.. 보니까 사람은 좋은 사람이고 싶어하는데 인지 능력이 떨어지는 것 같아요. 봉사활동도 다니며 남들에게 선을 베풀잖아요.. 여러분들은 봉사활동하시나요? 마음만 있지 실천하긴 힘들잖아요.. 저 사람은 그래도 우리보다 지적능력. 공감능력은 떨어지지만 노력하시는 분이에요... 욕하지마세요. 이 영상보니 짠하네요..',\n",
              "  '요리학원부터 다니며 재정비한다는줄 알았더니 이게 무슨.. ㅡㅡ 황당하네.',\n",
              "  '말이냐 방구냐 똥이냐 조보아 웃을때 기가막히더라 인간아',\n",
              "  '똑똑하고 아는것도 많으시던데 서비스와 요식업의 길은 아니신거 같습니다. 다른 좋은일 하셔요!',\n",
              "  '솔루션 보다 조보아 만난게 개이득인것 같은데 표정이 옷도 차려입고 나왔네 OOO',\n",
              "  '근데...... 조보아는 저기서 하는 역할이 뭐에요?',\n",
              "  '여러모로 나쁜 사람이라기 보단 특이한 사람인듯',\n",
              "  '웃음이 나오냐'],\n",
              " ['요식업말고 차라리 물건파는 장사를 하세요..그게 서로 다 좋을 듯',\n",
              "  '고로케는 그래서 어떻게 된거임?',\n",
              "  '정신과를 추천한다',\n",
              "  '일주일동안 영업을 안하면 손해가 클텐데.... 건물주니깐 그런 걱정안하네...',\n",
              "  '솔직히 화나기 보다는 안타까웠음... 너무 아직 미숙한 상태에서 방송을 타 버려서 필요 이상으로 심한 비난을 받은 것 같다. 사람 자체가 못된 사람은 아닌 것 같다만... 섭외가 어렵다지만 제작진들이 앞으로는 더욱 조심해야 할듯',\n",
              "  '결국 개선된건 1도 없네. 이제 제발 폐업길만 걸으세요',\n",
              "  '건물주 아들님 그냥 편하게 사세요',\n",
              "  '이럴거면 방송 왜나와 결국 제자리걸음이네',\n",
              "  '🌸이제 페업길만 걸으세요🌸',\n",
              "  '연습 부족이라구요......이사람아',\n",
              "  '고로케는 피자집 때문에 얼렁뚱땅 넘어가네',\n",
              "  '댓글이 삭제되었습니다.',\n",
              "  '장사가 너무 잘돼도ㅋㅋㅋㅋㅋㅋㅋ 어우 그렇게 욕먹고도 근자감은 안사라지네 제대로 깨달은것도 아닌듯',\n",
              "  '개콘 시청률 높일 녀석 발견 ㅎㅎ',\n",
              "  '조보아 극한직업ㅠㅠㅠㅠㅠ 맛있는거 많이 주세요...',\n",
              "  '전적으로 시청자를 믿으셔야합니다 제작진님ㅎㅎ솔루션 못한거 통쾌 그 자체ㅋㅋ',\n",
              "  '나쁜사람은 아닌데...그냥 장사하면 안되는 사람의 요건을 다 갖추고 계신듯..',\n",
              "  '취미로 장사하겠다는 얘기네',\n",
              "  '보아씨 고생많아요....',\n",
              "  '정신병원은 누구나 갈 수 있어요... 어서 가보세요 빨리!!!'],\n",
              " ['이런 식당을 하면 안되는 피자집사장님',\n",
              "  '인간성이 안되었는데 무슨 장사를 해요',\n",
              "  '시청률 올릴라고 OOO하나 섭외해서 그러지 말자 ㅡㅡ',\n",
              "  '걍 말투부터가 ㅋ ㅋ ㅋ ㅋ ㅋ',\n",
              "  '망해서 가족들다 대리고 나앉아도 모자랄정도의 정신상태임 이런사람이 잘먹고 잘사는 나라가 대한민국이라면 정말 크게잘못된거임',\n",
              "  '새우 소시지 얼마나 들어가요? 다다르길래ㅋㅋ <--- 시식단분들도 말을 조금 예쁘게 하셨으면 좋았을 텐데.. 이건 어떻고 이렇게 수정하면 더 좋을 거 같다. 이런 식으로 조언해주셔야지 일부러 그런 것도 아닌데 무슨 따지는 것도 아니고 너무 상대방이 듣기에 기분 나쁘게 말하시네요.',\n",
              "  '이 방송을 볼 이유가 있나',\n",
              "  '그래도 학생들 친절하네;;',\n",
              "  '아니 이러면 저번에 나왔던 피자집한테는 아가리를 왜턴거야 ㅉㅉ',\n",
              "  '제작진이 문제야. 나쁜것들이고.',\n",
              "  'ㅇㅎ..제작진',\n",
              "  '이 가게사장 손님대하는 태도도 별루고 요리실력도없고 눈치도 없네. 손님먹는모습보니까 답 나오는데 반문할 정도면 답나온거다',\n",
              "  '피자집 솔루션 끝~~~축하합니다~ㅉㅉㅉㅉㅉ기본이 안댄사람이 무슨장사를ㅜㅜㅜ',\n",
              "  '따로 식사 대접했습니다에서 터졌네 ㅋㅋㅋ',\n",
              "  '시식단이 문제네. ㅈㄴ게 잘먹으니깐 사장이 오해하자나.',\n",
              "  '나나나나 나나나나 헤에이 굿바이',\n",
              "  '난 다른데서 잠발라야 맛있게 잘먹음. 잠발라야 자체는 맛있는 음식이에요. 저도 새우 들은걸로 먹었었고 소세지 같은 건 안들어있었는데..사장님이 요리를...',\n",
              "  '그냥 커피 무인기 장사가 답일듯 건물주 아들이니까 보증금, 임대료 걱정도 없으니.. 무인기 장사로 대박 나시길 요리는 하지마세요..',\n",
              "  '음식장사하시려면기본부터다시배우시고다른가게도가서맛도좀보시고손님에대한배려와서비스부터교육받고새롭게시작하시길~',\n",
              "  '끝까지 손님탓이냐 어휴 진짜'],\n",
              " ['사탄: 나도 보기에 이건 답이없다 오늘도 파업이다',\n",
              "  '잘되는 집만 보여주는게 더이상한거지잘되는집은 왜잘되고 못되는집을 보요줘야지.. 그게 더 자영업자들과앞으로 할 생각하는 사람들에게 도움이 되는게 아닐까생각되는데...여타 방송들처럼 맛집소개 프로인가 이게? 골목상권 살리기가 목적이면  그목적에 맞게 왜 안되는지 알아야되고 무엇을 고치고 개선해야하는지 보여줘야 하는데 되는집만 보여주라? 그건 방송의취지에 맞지도 않고 그건 사기지 감정적으로 해서 해결될 문제가 저게?',\n",
              "  '감히 시청자를 협박을해? 고발하라고?분명 문제가 있다는걸 사전에 알았을텐테 시청률때문에 불괘한건 생각도안하지?개같은방송국놈들 니네가 그럴자격있다고보나?',\n",
              "  '이거 보고 잠발라야가 싫어졌다',\n",
              "  '2:43 절레절레가 포인트 ㅋㅋ',\n",
              "  '새우랑 소세지양 물어보면서 양이다다르길래 이렇게 물어봤으면 진짜 궁금해서 물어보것도있겠지만 대략 뭔가 문제가있다는걸 파악을못하나? 진짜 눈치없는듯..',\n",
              "  '어디가서 요리학교 다녔다고 하지말길ㅋㅋㅋㅋ 그 학교 명성은 어쩔거;;',\n",
              "  '시식단ㅋㅋㅋㅋ중간에 깻잎먹는거 졸귀',\n",
              "  '진짜ㅋㅋㅋㅋㅋㅋㅋㅋㅋㅋㅋ대박이다ㅋㅋㅋㅋㅋㅋㅋㅋㅋㅋ존나웃김 ',\n",
              "  '친구 집들이도 저거보단 잘 준비한다.....',\n",
              "  '20명 개업이래 가장 많았던 손님ㅋㅋㅋㅋㅋㅋㅋㅋㅋㅋㅋㅋㅋㅋㅋㅋㅋㅋㅋㅋㅋㅋㅋ',\n",
              "  '국수 20그릇 만들고 힘들다 ㅈㄹ이면 배드민턴은 어떻게 친대?',\n",
              "  '미국  서~~타~~일 ~~배드민체 장사하세요',\n",
              "  '이정도면 정신세계가 외계인보다 못한거아니냐 사장 정신세계가 난해하니 저 음식들도 난해할수밖에..ㅋㅋㅋ 하 시식단들 불쌍',\n",
              "  'ㅋㅋㅋㅋ생소할 수도 있음. 우리나라 사람 입맛이 아직 퉁퉁 불은 국수를 소화 못하고 걸레냄새나는 볶음밥을 못 먹지.',\n",
              "  '남들은 1시간에 20그릇씩 팔텐데 고작 하루에 20그릇 만들어놓고 진짜 별 생색은 ㅋㅋㅋㅋ 진짜 꼴보기싫다 앞으로 안보게 된게 정말 다행',\n",
              "  '방송 보면 볼수록 골목에 있는 식당들 가기가 싫어짐. 점점 피디수첩같은 느낌을 받음ㅋㅋ 백종원의 골목식당은 가도 되는집과 가면 안되는 집을 방송에서 구분해주는 프로그램같아요. 여기 나와서 극찬 받은곳만 가야할 듯',\n",
              "  '우웩',\n",
              "  '그냥 입이 좀 이상한 사람같음... 요리학원이라도 좀 가서 기본부터 익혀야될거같은데',\n",
              "  '48초에 쌈싸먹는겈ㅋㅋㅋㄱㅋ신박하다'],\n",
              " ['저런 요알못 기본이 안 되는 사람은 요리학원 가서 훈련해도 힘들다.',\n",
              "  'ㅜㅜ',\n",
              "  '저런 사람이 가게차릴 돈이 있다는게 가장 신기하다. 가족도 뭘믿고 돈을 빌려준건지...',\n",
              "  '나도 못보겠다',\n",
              "  '불쌍타 여학생들 시식을 가도 저길 가게됫나',\n",
              "  '공감능력이 뭔가 쫌...',\n",
              "  '에휴 저 입만 나불나불',\n",
              "  '이프로그램은 솔루션하믄사람이나 보는사람 열받으라고 만든거임?',\n",
              "  '손님들이 되려 이해하려 애쓰는 중. .',\n",
              "  '들어온 복을 자기 스스로 차버린꼴이네요 솔루션 포기 잘하셨습니다 더 절박하면서 노력하는 모습을 보이는곳을 지원해주세요',\n",
              "  '1:39 보아 언니 핵존예탱구리...',\n",
              "  'ㅋㅋㅋ 음식 다 남긴 건 보고 손님들 나갈 때 표정 나쁘지 않았다고 말하신 거임?? 상황 파악이 안 되고, 아니 상황을 본인 맘대로 해석하는 기괴함ㅡㅡ',\n",
              "  'ㅅㅂㅋㅋㅋㅋㅋ 새우랑 햄 몇개 들어가냐고 묻는데 그거 하나 대답하기가 힘드냐 ㅉㅉ ',\n",
              "  '한대치고싶다',\n",
              "  '불쌍한 인간이 망신살이 뻗쳤구나 전국적으로. 천치인가.',\n",
              "  '손님이 질문하니까 또 긴장해서 바로 입만지고 난리낫네',\n",
              "  '50초쯤 ㅋㅋㅋㅋㅋㅋㅋㅋ 빨간가디건 시식단분 쌈싸드시는거 ㅋㅋㅋㅋㅋㅋㅋㅋㅋㅋㅋㅋㅋ',\n",
              "  '겉 멋 하나는 역대급. 변명은 탈 우주급',\n",
              "  '대중성없다= 니들은 내 요리 이해 못한다제 멋에 취해 사는 사람 ㅎㅎ페라리 타고 다니는 건물주 아들이 뭐가 아쉬워서 솔루션에 목을 매겠어요~ 이런 사람을 4주동안 방송내보낸 골목식당 제작진들도 반성하셔야할듯',\n",
              "  'TV보면서 개쌍욕 연발하긴 이 인간이 처음이자 마지막일듯싶다..  앙ᆢ..'],\n",
              " ['정말 심각하네요...  첫시험 망쳐서 다시 기회준건데 다시 잘해보겠다고 한 사람이 노력한 모습은 없다...자신감이 넘치나...해보지도 않은 20인분에 밥이 두렵지도 않았을까...? 첫실패도 저 사람에겐 아무런 반성과 교훈은 커녕... 아무 느낌이 없었나보다...아니 본인의 부족함에 대한 자각도 없었다는 것에 놀라울뿐이다... 국수면발을 미리 삶아 제공하는 사람에게 무슨 솔루션인지... 된장인지 똥인지도 구별 못하는 사람과 음식을 이야기하는 거 자체가 방송불가이다...',\n",
              "  '어 서 와 개 발라야는 처음이지~',\n",
              "  '귀걸이 진짜 중학교 일진같네',\n",
              "  '00:49 빨간옷여자분 먹는거 나보는거같엌ㅋㅋㅋㅋ',\n",
              "  '제발 이 많은 댓글들좀 봐주이소. 아저씨 보라고 다들 글 쓴거니까 ㅎㅎ',\n",
              "  '제작진의 태도는 오직 시청률말곤없는듯',\n",
              "  '사람이 인성이 못된건 아닌거같은데 음식 장사는 하면 안될듯...먹는 사람도 만든 사람도 시간낭비인... 분명 다른 잘하는 일이 있으실텐데 본인이 좋아하고 잘하는일을 하면 어떨까요..?',\n",
              "  '사람과의 공감능력이 완전 제로임..ㅋㅋㅋㅋ 어떻게 저럴수가있나..',\n",
              "  '돈먹엇나',\n",
              "  '공짜로 먹으면서 새우,소세지 갯수 세고있네.....아....적당히 처먹고 나가서 다른거 사 처먹어라. 남자의 하얀국물',\n",
              "  '넘웃겨',\n",
              "  '싸이코패스가  지적성이 뭔지를 모르고지랄발광쇼다 진짜',\n",
              "  '이젠 불쌍해보인다 사람들 반응 제대로 캐치도 못하고',\n",
              "  '조보아표정=모든시청자들표정',\n",
              "  '아오 ㅅㅂ 틱장애인가 저런검 어릴때 교육 안시키냐 ㅈㄴ 꿈틀거리네',\n",
              "  '손을..제발가만히좀 둬.. 입만지고 얼근맍ㄴㄱㆍㄷ',\n",
              "  '최근 10년간 제일 크게 웃었다',\n",
              "  'ㅋㅋㅋ  빨간셔츠 깻잎에 쌈싸먹는거 시강쩌네 ㅋㅋ',\n",
              "  '근데 솔직히 피자집도 사회성 결여 및 장사소질없는건 맞는데 더꼴보기싫고 인간성없는건 고로케집아니냐',\n",
              "  '사람 까면서 시청률올리는 방송에 조정당하지맙시다!! 태어나서 이런 저질 예능 첨 봅니다'],\n",
              " ['홍탁집도 닭도리탕 토막시 몇개인지 몰라 욕먹은거랑 새우 똑같이 안넣은거랑 같음.차이점이라면, 홍탁은 자기 잘못 이해하고 수정했는데피자집은 이해를 안하는 것뿐.고로 저기는 지금 칠리볶음밥 팔아도 바빠지면  내용물 정량대로 안넣는다에 1000프로',\n",
              "  '보아 넘 이쁘다',\n",
              "  '자기 맘대로 넣는거지 뭐....시식단분들 고생하셨네요빨리 접어라',\n",
              "  '식당안하시면안되요 안타까워요',\n",
              "  '\"못보겠다\" 이 방송.. 백종원님은 완전 교만 인성이고 그걸 이용해서 시청률 올리겠다는 저질방송이네요 참 나뿌다..이 방송만든 사람들.. 흠.. 인성갖추지 않고는 절대 좋은방송 못만듭다!',\n",
              "  'PD야 니 솔직히 뒷돈받았잖아 ㅋㅋㅋ 니들 작가랑 PD들 진짜 조사받아야된다.  에휴 ㅇㄱㅆㄹㄱ',\n",
              "  '진짜 너무하다 하.... 할말없다 ',\n",
              "  '48초 여자 깻잎 싸먹는거 진짜 귀엽네ㅋㅋ',\n",
              "  '백종원이 해명하는거 보고 다음주부터는 이 프로그램 거른다.백종원때문에 본건데..피자집은 진작에 그만해야할꺼..사람하나 매장시키고 확인사살까지하고 솔루션중지.고로케는 통편집.마무리는 맛집사장님들 눈물로..방송국놈들 대단하다 진짜..',\n",
              "  '그래도 많이 개선 됐네. 태도도 근넣고.  노력은 하셨는데 안타깝네요',\n",
              "  '왜 계속하는건가요? 진짜궁금해서요',\n",
              "  '글쎄 피자집의 문제는 현실의 자기문제를 인식못하고 자꾸 주변을 탓하는게 문제인것같다 자기는 잘났는데 다른사람이 인정을 못해준다고 생각하는게 그냥 시청자인 내눈에도 보이는데 현실인식하기전까지는 장사는 하면 안될것같다..모두에게 상처인듯..',\n",
              "  '하...진짜.. 아....',\n",
              "  '저런곳을 골라서 섭외한 제작진은 석고대죄라도 해라 이 xxx 진짜 짜증나서 글쓰는 도중에도 욕이 나오네......',\n",
              "  '아무리 시식단이라지만 음식물 쓰레기를 주는데 먹겠냐..저건 음식이 아니야..먹는게 아니야..',\n",
              "  '우리 아이가 달라졌어요 먼저 가시는게 좋을듯',\n",
              "  '믹싱볼에 불붙혀서 국수삶을때 소름',\n",
              "  '혼자서 뭘 해낼 인지능력이 안됨..',\n",
              "  '이쯤되면 누구의 잘못인가 헷갈린다.. 제작진이 잘못 섭외했나 싶으면 백대표가 국감에서 밝혔듯 기초지식없이 뛰어들어 스스로 손해보는 사람이 많다했는데 실제로 그런 샘플들이 소개되고 있다.. 이걸 제작진 탓을 해야할지 저 양반 탓을 해야 할지..',\n",
              "  '손님이 뜬금없이 핫소스 찾으면 자기음식에 문제가 있구나, 생각해야되는데 그게 안됨 ㅋㅋㅋㅋ;;; 휴'],\n",
              " ['일주일 기회를 줬구만 20인분밥을 한번도 연습을 안했다는게  기가찼다.맛이없어서가 아니라 사람들이 내 음식을 이해못한다. 인즉슨  외국에서 공불 얼마만틈 하셨는지 모르지만 본인에 대한 퀼리티가 남다른분...  아..  참..  모두가 기다린 일주일이었을거라 생각하고 ..  혹시나하였을분들이 많으셨겠죠.. 나또한..  그런데 솔루션동안 변하신게 없다..  실력을 떠나 노력이라도 성의라도 보여주시는게 기본이라고 생각하는데..  에휴..  백종원씨를 비롯해 방송MC들 속많이 꿇였을 것이다. 시청자들도 ..  본인은 천지분간도 못하는데 시청자들의 감정은 참 복잡하고 씁쓰리하다..',\n",
              "  '진짜 인간 대 인간으로 백종원 아저씨 존경스러워요',\n",
              "  '조보아님은 왜케 피곤해보이는지.. ㅡㅜ ',\n",
              "  '백종원님 그동안 수고 많으셨습니다',\n",
              "  '타인에 대한 이해도가 떨어지면 어떤 결과가 나오는지... 예능 프로그램에서 큰 교훈 얻었네요. 반면교사라는 사자성어, 누가 만들었는지 참 잘 만들었네요. 그리고 TV 보면서 보기 힘들다, 라는 생각을 한 건 처음이네요.',\n",
              "  '이미 솔루션 더 받고 저기에서 치킨커리 팔고있음 ㅋㅋㅋ',\n",
              "  '진짜 아닌건 아니다...백종원님이 진짜 왜 사과를 하지????',\n",
              "  '숙대생들은....ㅠㅠㅠ다 보살인가요....? ㅠㅠㅠㅠ',\n",
              "  '백종원님이 왜 해명을 하고 사과를 함..?? 진짜 이해가 안됨..',\n",
              "  '이분은 대중성?있는 요리를만들어도 안된다',\n",
              "  '댓글이 삭제되었습니다.',\n",
              "  '진짜 음식 하면 안되는 사람...',\n",
              "  '아오;;',\n",
              "  '진짜 장사를 할려면 연습도하고 요리에대한것을 자꾸먹어야하는데 피자집은 연습안하고 기본이 안된게 이유죠!',\n",
              "  '축구나봐야지 에휴',\n",
              "  '버거 하나를 만들기위해 한판을 써가며 스크렘블 에그를 만든 분이 계신데.. 미리 몇명인지 몇시인지 예고까지해줬는데 준비를 어떻게 저렇게... 제가 집에 친구 초대해서 요리할 때도 이렇게 기본 준비조차 안된 상태로 사람 맞지는 않았어요...',\n",
              "  '조보아의 빡친 표정과 백종원의 찝찝한 표정에서 알았다... 피자집 사장은 장사하면 안 되는 사람인 것을...',\n",
              "  '마지막 기회마저 못살리는 놈',\n",
              "  '진짜 이런 기회를 가진것이 부러울 정도인데 왜 그렇게 행동하는 지 이해를 할 수가 없네요. 무슨 믹싱볼에 면을 삶지 않나 냄비밥 20인분을 하지않나 잘하면 말안하는데 무슨...말이 안나옵니다 프랑스 요리학교 나오셨다는데 거기서 문제아들도 당신보단 잘할거같아요..진ㅁ자 상황파악부터 하세요 ',\n",
              "  'ㅋㅋㅋㅋㅋㄱㅋㅋㄱㅋㄱㅋㅋ진짜 역대급 노답이다'],\n",
              " ['나갈때 표정 어둡지는 않았댘ㅋㅋㅋㅋㅋㅋㅋㅋㅋㅋㅋㅋㅋㅋㅋㅋㅋㅋㅋㅋㅋㅋㅋ당연하지 어이가 없어서 웃기니까 ...',\n",
              "  '식당을 손님을 접대하는 공간이 아니라 본인의 놀이터로 생각하는 듯....피자를 선택한 이유가 나만의 조형물을 만드는 느낌이라고 말했을 때부터 범상치는 않았는데...백대표님도 수고하셨슈.....',\n",
              "  '저 시식단도 참 대단한 것 같다. 어떻게 저런 집에 시식을 갈 생각을 하지....',\n",
              "  '댓글이 삭제되었습니다.',\n",
              "  '적당히 좀 하고 끝내지 ㅡㅡ',\n",
              "  '자꾸대중성이야기함 맛없다니까요 ㅠ',\n",
              "  '이런 가게와 사장이란 인간을 솔루션받게해준 제작진들 참 나쁘다.  사전미팅 분명히했을테고,그 과정에서 저 사람의 정신상태를 분명히 파악했을텐데. . 이건  골목상권 살린다는 취지에 전혀 맞지않는다.시청률 물론 중요하지 근데 프로그램의 취지가 퇴색해버리면 무슨의미가 있는건지. .',\n",
              "  '눈치도 없고 생각도 없고'],\n",
              " ['이런 식당을 하면 안되는 피자집사장님',\n",
              "  '인간성이 안되었는데 무슨 장사를 해요',\n",
              "  '시청률 올릴라고 OOO하나 섭외해서 그러지 말자 ㅡㅡ',\n",
              "  '걍 말투부터가 ㅋ ㅋ ㅋ ㅋ ㅋ',\n",
              "  '망해서 가족들다 대리고 나앉아도 모자랄정도의 정신상태임 이런사람이 잘먹고 잘사는 나라가 대한민국이라면 정말 크게잘못된거임',\n",
              "  '새우 소시지 얼마나 들어가요? 다다르길래ㅋㅋ <--- 시식단분들도 말을 조금 예쁘게 하셨으면 좋았을 텐데.. 이건 어떻고 이렇게 수정하면 더 좋을 거 같다. 이런 식으로 조언해주셔야지 일부러 그런 것도 아닌데 무슨 따지는 것도 아니고 너무 상대방이 듣기에 기분 나쁘게 말하시네요.',\n",
              "  '이 방송을 볼 이유가 있나',\n",
              "  '그래도 학생들 친절하네;;',\n",
              "  '아니 이러면 저번에 나왔던 피자집한테는 아가리를 왜턴거야 ㅉㅉ',\n",
              "  '제작진이 문제야. 나쁜것들이고.',\n",
              "  'ㅇㅎ..제작진',\n",
              "  '이 가게사장 손님대하는 태도도 별루고 요리실력도없고 눈치도 없네. 손님먹는모습보니까 답 나오는데 반문할 정도면 답나온거다',\n",
              "  '피자집 솔루션 끝~~~축하합니다~ㅉㅉㅉㅉㅉ기본이 안댄사람이 무슨장사를ㅜㅜㅜ',\n",
              "  '따로 식사 대접했습니다에서 터졌네 ㅋㅋㅋ',\n",
              "  '시식단이 문제네. ㅈㄴ게 잘먹으니깐 사장이 오해하자나.',\n",
              "  '나나나나 나나나나 헤에이 굿바이',\n",
              "  '난 다른데서 잠발라야 맛있게 잘먹음. 잠발라야 자체는 맛있는 음식이에요. 저도 새우 들은걸로 먹었었고 소세지 같은 건 안들어있었는데..사장님이 요리를...',\n",
              "  '그냥 커피 무인기 장사가 답일듯 건물주 아들이니까 보증금, 임대료 걱정도 없으니.. 무인기 장사로 대박 나시길 요리는 하지마세요..',\n",
              "  '음식장사하시려면기본부터다시배우시고다른가게도가서맛도좀보시고손님에대한배려와서비스부터교육받고새롭게시작하시길~',\n",
              "  '끝까지 손님탓이냐 어휴 진짜'],\n",
              " ['사탄: 나도 보기에 이건 답이없다 오늘도 파업이다',\n",
              "  '잘되는 집만 보여주는게 더이상한거지잘되는집은 왜잘되고 못되는집을 보요줘야지.. 그게 더 자영업자들과앞으로 할 생각하는 사람들에게 도움이 되는게 아닐까생각되는데...여타 방송들처럼 맛집소개 프로인가 이게? 골목상권 살리기가 목적이면  그목적에 맞게 왜 안되는지 알아야되고 무엇을 고치고 개선해야하는지 보여줘야 하는데 되는집만 보여주라? 그건 방송의취지에 맞지도 않고 그건 사기지 감정적으로 해서 해결될 문제가 저게?',\n",
              "  '감히 시청자를 협박을해? 고발하라고?분명 문제가 있다는걸 사전에 알았을텐테 시청률때문에 불괘한건 생각도안하지?개같은방송국놈들 니네가 그럴자격있다고보나?',\n",
              "  '이거 보고 잠발라야가 싫어졌다',\n",
              "  '2:43 절레절레가 포인트 ㅋㅋ',\n",
              "  '새우랑 소세지양 물어보면서 양이다다르길래 이렇게 물어봤으면 진짜 궁금해서 물어보것도있겠지만 대략 뭔가 문제가있다는걸 파악을못하나? 진짜 눈치없는듯..',\n",
              "  '어디가서 요리학교 다녔다고 하지말길ㅋㅋㅋㅋ 그 학교 명성은 어쩔거;;',\n",
              "  '시식단ㅋㅋㅋㅋ중간에 깻잎먹는거 졸귀',\n",
              "  '진짜ㅋㅋㅋㅋㅋㅋㅋㅋㅋㅋㅋ대박이다ㅋㅋㅋㅋㅋㅋㅋㅋㅋㅋ존나웃김 ',\n",
              "  '친구 집들이도 저거보단 잘 준비한다.....',\n",
              "  '20명 개업이래 가장 많았던 손님ㅋㅋㅋㅋㅋㅋㅋㅋㅋㅋㅋㅋㅋㅋㅋㅋㅋㅋㅋㅋㅋㅋㅋ',\n",
              "  '국수 20그릇 만들고 힘들다 ㅈㄹ이면 배드민턴은 어떻게 친대?',\n",
              "  '미국  서~~타~~일 ~~배드민체 장사하세요',\n",
              "  '이정도면 정신세계가 외계인보다 못한거아니냐 사장 정신세계가 난해하니 저 음식들도 난해할수밖에..ㅋㅋㅋ 하 시식단들 불쌍',\n",
              "  'ㅋㅋㅋㅋ생소할 수도 있음. 우리나라 사람 입맛이 아직 퉁퉁 불은 국수를 소화 못하고 걸레냄새나는 볶음밥을 못 먹지.',\n",
              "  '남들은 1시간에 20그릇씩 팔텐데 고작 하루에 20그릇 만들어놓고 진짜 별 생색은 ㅋㅋㅋㅋ 진짜 꼴보기싫다 앞으로 안보게 된게 정말 다행',\n",
              "  '방송 보면 볼수록 골목에 있는 식당들 가기가 싫어짐. 점점 피디수첩같은 느낌을 받음ㅋㅋ 백종원의 골목식당은 가도 되는집과 가면 안되는 집을 방송에서 구분해주는 프로그램같아요. 여기 나와서 극찬 받은곳만 가야할 듯',\n",
              "  '우웩',\n",
              "  '그냥 입이 좀 이상한 사람같음... 요리학원이라도 좀 가서 기본부터 익혀야될거같은데',\n",
              "  '48초에 쌈싸먹는겈ㅋㅋㅋㄱㅋ신박하다'],\n",
              " ['저런 요알못 기본이 안 되는 사람은 요리학원 가서 훈련해도 힘들다.',\n",
              "  'ㅜㅜ',\n",
              "  '저런 사람이 가게차릴 돈이 있다는게 가장 신기하다. 가족도 뭘믿고 돈을 빌려준건지...',\n",
              "  '나도 못보겠다',\n",
              "  '불쌍타 여학생들 시식을 가도 저길 가게됫나',\n",
              "  '공감능력이 뭔가 쫌...',\n",
              "  '에휴 저 입만 나불나불',\n",
              "  '이프로그램은 솔루션하믄사람이나 보는사람 열받으라고 만든거임?',\n",
              "  '손님들이 되려 이해하려 애쓰는 중. .',\n",
              "  '들어온 복을 자기 스스로 차버린꼴이네요 솔루션 포기 잘하셨습니다 더 절박하면서 노력하는 모습을 보이는곳을 지원해주세요',\n",
              "  '1:39 보아 언니 핵존예탱구리...',\n",
              "  'ㅋㅋㅋ 음식 다 남긴 건 보고 손님들 나갈 때 표정 나쁘지 않았다고 말하신 거임?? 상황 파악이 안 되고, 아니 상황을 본인 맘대로 해석하는 기괴함ㅡㅡ',\n",
              "  'ㅅㅂㅋㅋㅋㅋㅋ 새우랑 햄 몇개 들어가냐고 묻는데 그거 하나 대답하기가 힘드냐 ㅉㅉ ',\n",
              "  '한대치고싶다',\n",
              "  '불쌍한 인간이 망신살이 뻗쳤구나 전국적으로. 천치인가.',\n",
              "  '손님이 질문하니까 또 긴장해서 바로 입만지고 난리낫네',\n",
              "  '50초쯤 ㅋㅋㅋㅋㅋㅋㅋㅋ 빨간가디건 시식단분 쌈싸드시는거 ㅋㅋㅋㅋㅋㅋㅋㅋㅋㅋㅋㅋㅋ',\n",
              "  '겉 멋 하나는 역대급. 변명은 탈 우주급',\n",
              "  '대중성없다= 니들은 내 요리 이해 못한다제 멋에 취해 사는 사람 ㅎㅎ페라리 타고 다니는 건물주 아들이 뭐가 아쉬워서 솔루션에 목을 매겠어요~ 이런 사람을 4주동안 방송내보낸 골목식당 제작진들도 반성하셔야할듯',\n",
              "  'TV보면서 개쌍욕 연발하긴 이 인간이 처음이자 마지막일듯싶다..  앙ᆢ..'],\n",
              " ['정말 심각하네요...  첫시험 망쳐서 다시 기회준건데 다시 잘해보겠다고 한 사람이 노력한 모습은 없다...자신감이 넘치나...해보지도 않은 20인분에 밥이 두렵지도 않았을까...? 첫실패도 저 사람에겐 아무런 반성과 교훈은 커녕... 아무 느낌이 없었나보다...아니 본인의 부족함에 대한 자각도 없었다는 것에 놀라울뿐이다... 국수면발을 미리 삶아 제공하는 사람에게 무슨 솔루션인지... 된장인지 똥인지도 구별 못하는 사람과 음식을 이야기하는 거 자체가 방송불가이다...',\n",
              "  '어 서 와 개 발라야는 처음이지~',\n",
              "  '귀걸이 진짜 중학교 일진같네',\n",
              "  '00:49 빨간옷여자분 먹는거 나보는거같엌ㅋㅋㅋㅋ',\n",
              "  '제발 이 많은 댓글들좀 봐주이소. 아저씨 보라고 다들 글 쓴거니까 ㅎㅎ',\n",
              "  '제작진의 태도는 오직 시청률말곤없는듯',\n",
              "  '사람이 인성이 못된건 아닌거같은데 음식 장사는 하면 안될듯...먹는 사람도 만든 사람도 시간낭비인... 분명 다른 잘하는 일이 있으실텐데 본인이 좋아하고 잘하는일을 하면 어떨까요..?',\n",
              "  '사람과의 공감능력이 완전 제로임..ㅋㅋㅋㅋ 어떻게 저럴수가있나..',\n",
              "  '돈먹엇나',\n",
              "  '공짜로 먹으면서 새우,소세지 갯수 세고있네.....아....적당히 처먹고 나가서 다른거 사 처먹어라. 남자의 하얀국물',\n",
              "  '넘웃겨',\n",
              "  '싸이코패스가  지적성이 뭔지를 모르고지랄발광쇼다 진짜',\n",
              "  '이젠 불쌍해보인다 사람들 반응 제대로 캐치도 못하고',\n",
              "  '조보아표정=모든시청자들표정',\n",
              "  '아오 ㅅㅂ 틱장애인가 저런검 어릴때 교육 안시키냐 ㅈㄴ 꿈틀거리네',\n",
              "  '손을..제발가만히좀 둬.. 입만지고 얼근맍ㄴㄱㆍㄷ',\n",
              "  '최근 10년간 제일 크게 웃었다',\n",
              "  'ㅋㅋㅋ  빨간셔츠 깻잎에 쌈싸먹는거 시강쩌네 ㅋㅋ',\n",
              "  '근데 솔직히 피자집도 사회성 결여 및 장사소질없는건 맞는데 더꼴보기싫고 인간성없는건 고로케집아니냐',\n",
              "  '사람 까면서 시청률올리는 방송에 조정당하지맙시다!! 태어나서 이런 저질 예능 첨 봅니다'],\n",
              " ['홍탁집도 닭도리탕 토막시 몇개인지 몰라 욕먹은거랑 새우 똑같이 안넣은거랑 같음.차이점이라면, 홍탁은 자기 잘못 이해하고 수정했는데피자집은 이해를 안하는 것뿐.고로 저기는 지금 칠리볶음밥 팔아도 바빠지면  내용물 정량대로 안넣는다에 1000프로',\n",
              "  '보아 넘 이쁘다',\n",
              "  '자기 맘대로 넣는거지 뭐....시식단분들 고생하셨네요빨리 접어라',\n",
              "  '식당안하시면안되요 안타까워요',\n",
              "  '\"못보겠다\" 이 방송.. 백종원님은 완전 교만 인성이고 그걸 이용해서 시청률 올리겠다는 저질방송이네요 참 나뿌다..이 방송만든 사람들.. 흠.. 인성갖추지 않고는 절대 좋은방송 못만듭다!',\n",
              "  'PD야 니 솔직히 뒷돈받았잖아 ㅋㅋㅋ 니들 작가랑 PD들 진짜 조사받아야된다.  에휴 ㅇㄱㅆㄹㄱ',\n",
              "  '진짜 너무하다 하.... 할말없다 ',\n",
              "  '48초 여자 깻잎 싸먹는거 진짜 귀엽네ㅋㅋ',\n",
              "  '백종원이 해명하는거 보고 다음주부터는 이 프로그램 거른다.백종원때문에 본건데..피자집은 진작에 그만해야할꺼..사람하나 매장시키고 확인사살까지하고 솔루션중지.고로케는 통편집.마무리는 맛집사장님들 눈물로..방송국놈들 대단하다 진짜..',\n",
              "  '그래도 많이 개선 됐네. 태도도 근넣고.  노력은 하셨는데 안타깝네요',\n",
              "  '왜 계속하는건가요? 진짜궁금해서요',\n",
              "  '글쎄 피자집의 문제는 현실의 자기문제를 인식못하고 자꾸 주변을 탓하는게 문제인것같다 자기는 잘났는데 다른사람이 인정을 못해준다고 생각하는게 그냥 시청자인 내눈에도 보이는데 현실인식하기전까지는 장사는 하면 안될것같다..모두에게 상처인듯..',\n",
              "  '하...진짜.. 아....',\n",
              "  '저런곳을 골라서 섭외한 제작진은 석고대죄라도 해라 이 xxx 진짜 짜증나서 글쓰는 도중에도 욕이 나오네......',\n",
              "  '아무리 시식단이라지만 음식물 쓰레기를 주는데 먹겠냐..저건 음식이 아니야..먹는게 아니야..',\n",
              "  '우리 아이가 달라졌어요 먼저 가시는게 좋을듯',\n",
              "  '믹싱볼에 불붙혀서 국수삶을때 소름',\n",
              "  '혼자서 뭘 해낼 인지능력이 안됨..',\n",
              "  '이쯤되면 누구의 잘못인가 헷갈린다.. 제작진이 잘못 섭외했나 싶으면 백대표가 국감에서 밝혔듯 기초지식없이 뛰어들어 스스로 손해보는 사람이 많다했는데 실제로 그런 샘플들이 소개되고 있다.. 이걸 제작진 탓을 해야할지 저 양반 탓을 해야 할지..',\n",
              "  '손님이 뜬금없이 핫소스 찾으면 자기음식에 문제가 있구나, 생각해야되는데 그게 안됨 ㅋㅋㅋㅋ;;; 휴'],\n",
              " ['일주일 기회를 줬구만 20인분밥을 한번도 연습을 안했다는게  기가찼다.맛이없어서가 아니라 사람들이 내 음식을 이해못한다. 인즉슨  외국에서 공불 얼마만틈 하셨는지 모르지만 본인에 대한 퀼리티가 남다른분...  아..  참..  모두가 기다린 일주일이었을거라 생각하고 ..  혹시나하였을분들이 많으셨겠죠.. 나또한..  그런데 솔루션동안 변하신게 없다..  실력을 떠나 노력이라도 성의라도 보여주시는게 기본이라고 생각하는데..  에휴..  백종원씨를 비롯해 방송MC들 속많이 꿇였을 것이다. 시청자들도 ..  본인은 천지분간도 못하는데 시청자들의 감정은 참 복잡하고 씁쓰리하다..',\n",
              "  '진짜 인간 대 인간으로 백종원 아저씨 존경스러워요',\n",
              "  '조보아님은 왜케 피곤해보이는지.. ㅡㅜ ',\n",
              "  '백종원님 그동안 수고 많으셨습니다',\n",
              "  '타인에 대한 이해도가 떨어지면 어떤 결과가 나오는지... 예능 프로그램에서 큰 교훈 얻었네요. 반면교사라는 사자성어, 누가 만들었는지 참 잘 만들었네요. 그리고 TV 보면서 보기 힘들다, 라는 생각을 한 건 처음이네요.',\n",
              "  '이미 솔루션 더 받고 저기에서 치킨커리 팔고있음 ㅋㅋㅋ',\n",
              "  '진짜 아닌건 아니다...백종원님이 진짜 왜 사과를 하지????',\n",
              "  '숙대생들은....ㅠㅠㅠ다 보살인가요....? ㅠㅠㅠㅠ',\n",
              "  '백종원님이 왜 해명을 하고 사과를 함..?? 진짜 이해가 안됨..',\n",
              "  '이분은 대중성?있는 요리를만들어도 안된다',\n",
              "  '댓글이 삭제되었습니다.',\n",
              "  '진짜 음식 하면 안되는 사람...',\n",
              "  '아오;;',\n",
              "  '진짜 장사를 할려면 연습도하고 요리에대한것을 자꾸먹어야하는데 피자집은 연습안하고 기본이 안된게 이유죠!',\n",
              "  '축구나봐야지 에휴',\n",
              "  '버거 하나를 만들기위해 한판을 써가며 스크렘블 에그를 만든 분이 계신데.. 미리 몇명인지 몇시인지 예고까지해줬는데 준비를 어떻게 저렇게... 제가 집에 친구 초대해서 요리할 때도 이렇게 기본 준비조차 안된 상태로 사람 맞지는 않았어요...',\n",
              "  '조보아의 빡친 표정과 백종원의 찝찝한 표정에서 알았다... 피자집 사장은 장사하면 안 되는 사람인 것을...',\n",
              "  '마지막 기회마저 못살리는 놈',\n",
              "  '진짜 이런 기회를 가진것이 부러울 정도인데 왜 그렇게 행동하는 지 이해를 할 수가 없네요. 무슨 믹싱볼에 면을 삶지 않나 냄비밥 20인분을 하지않나 잘하면 말안하는데 무슨...말이 안나옵니다 프랑스 요리학교 나오셨다는데 거기서 문제아들도 당신보단 잘할거같아요..진ㅁ자 상황파악부터 하세요 ',\n",
              "  'ㅋㅋㅋㅋㅋㄱㅋㅋㄱㅋㄱㅋㅋ진짜 역대급 노답이다'],\n",
              " ['개선하지않으면 이프로도 골로 간다잉',\n",
              "  '제로페이ㅋㅋ이렇게 상인들을 이용하네요현금매출100프로다 잡히고일부 업장들 카드매출1.3프로 세금에서 공제해주는데어차피 카드수수료는없는거나마찬가지입니다결국 정부에서 현금매출다잡아들여서간이과세자들 일반으로돌리는거죠',\n",
              "  '피자집 사장 이상함',\n",
              "  '골목식당은 백종원을 정말 잘 캐스팅한거 같다. 본인이 여유가있어서 저렇게 해주는것도 있겠지만 여유가있다고 저렇게 해줄수있는사람 많이 없다...',\n",
              "  '제로페이 좋아보이네요!',\n",
              "  '저렇게 티나게 홍보를 하냐 ㅋㅋㅋㅋㅋㅋㅋ',\n",
              "  '카드사 평균연봉 1억인데   저거 많이써서 줄였음 좋겠다남잘되는껄 못봄 배아픔ㅋㅋ',\n",
              "  '그와중에 포스 홍보.ㅋㅋㅋ어처구니가 없다. 완전 이게 음식점, 포스업체 홍보프로그램이지.닝기미.',\n",
              "  '피자집 거기 아님? 그 건물주 아들',\n",
              "  '그냥 식당 접어',\n",
              "  '조보아 피부트러불이있네',\n",
              "  '고로케집 어떻게 됬나???',\n",
              "  '갑분제',\n",
              "  '도넛집은 통편이네',\n",
              "  '돕지마요ㅠㅠ 진짜 어렵개 자영업을 하시는 분들한테 도움주시지 피자집 사장님은 안좋은 영향만 끼치는 데....',\n",
              "  '근데저렇게 결제하면 결제를 했는지 안했는지 확인을어떻게하지? 다먹고 계산했다고하고 나가면어째?',\n",
              "  '개인적으로 돕는대 대표님 ㅜㅜㅜㅜ 진짜 최고..',\n",
              "  '제로페이 써줘야겠네 ㅋㅋㅋㅋㅋㅋ 오늘 지하철역 나갔더니 가는데마다 제로페이 제로페이 붙어있더라',\n",
              "  '고로케는 뭐 ㅋㅋ',\n",
              "  '원숭이 저기에 밥숫갈 언젖네'],\n",
              " ['고로케집 방송에서도 후다닥 지나갔어여 가격안내린다고 계속 그래서....와사비고로케만들었는데 실패하공ㅇㅇ 솔류션보다 백대표랑 장사의방향에대한 대화를 나눴다하고 끝났음',\n",
              "  '제발 피자집 제발 백종원이 저렇게까지 신경써주는데 ㅠㅠㅠ 변화좀',\n",
              "  '와 QR코드다 ㅋㅋㅋㅋㅋ',\n",
              "  '백대표님. 사람너무조타...피자집. 좀 걱정했는데..ㅡ',\n",
              "  '뭔 뜬금없이 결제 시스템광고~ 엠씨들이 대놓고 광고질~~  능력도 안되는 창업 3개월차들 뽑아놓고 당연 미숙하니 욕은 바가지고 얻어 먹겠지~~  시청률 도구로 이용하려 뽑은거 같은 햄버거집 피자집 ~~  걸려든것들도 한심하고~~아무리 시청률도 좋다지만 ~~  더더욱 실망한건 결제시스템 대놓고 광고질 하는 김성준가 뭔가 하는  저 인간은 원래 대한민국에서 단 한사람도 좋아 하는 사람이 없을거임 ~ 다 백종원 하나 보고 믿고 시청했는데 ~  백종원이란 작자또한 제작진과 같이 미숙한 사람들 뽑아 시청률 도구로 삼으려 하자 안되니  뭔 병명과 개소리 하기 급급함~  욕얻어 먹을거 뻔히 보이는사람들 뽑아놓고선 착한척 하는 소시오패스 집단임 ~  시청률 도구로 뽑힌 무능한 인간들도 시청자들도 이용당하고 있음 ~~',\n",
              "  '피자집은 뭐랄까.. 모의고사 10회문제집 답은 안맞춰보고 계속 문제만 풀어나가는 느낌. 채점하면서 뭐가 틀렸는지 맞았는지 확인은 안하고 모의 시험지는 계속 풀어내니까 자기는 공부했다고 하는거지! 요리하는데에만 뜻을 뒀지 위생 재료 맛 서비스 등을 확인을 안한거지..',\n",
              "  '성수동골목처럼 오래 못갈듯..',\n",
              "  '조보아는 뭔죄 ㅜㅜ',\n",
              "  '고로케는 그냥 고로케 끝나버림??',\n",
              "  '제작진은 그냥 피자집 사장 시청률 올리는 데 이용하기만 했네.....에휴 OOO들',\n",
              "  '서울시 ㅋㅋㅋㅋ 여기에 홍보를 끼울줄이얔ㅋㅋㅋㅋ',\n",
              "  '그 와중에 장점을 찾아내는 백종원 대단하다...',\n",
              "  '고로케 이번주에 방송된다던 제작진들 어디갔음??',\n",
              "  '개인적으로도 도와주지 마세요 제발',\n",
              "  '초반 대놓고 ppl ㅋㅋㅋㅋ',\n",
              "  '피자집은 신경써주면서 고로케는 통편집인 이번 편 참 의도가 궁금하군요',\n",
              "  '제로페이 서울  되어있는데 서울만 되는건가요?ㅜ',\n",
              "  'ㅠㅠ이거보니 백대표님 당신은 날개없는 천사입니다 ㅠㅠㅠ',\n",
              "  '고로케 어디감???',\n",
              "  '이번골목 정말 고생많이하셨네요ㅋㅋ'],\n",
              " ['와 극찬이네..맛있겠다..비쥬얼도 완벽',\n",
              "  '와 너무맛있겠다 ㅜㅜㅜ 어디임 ㅜ와',\n",
              "  '오늘첫방문햄버거는참맛있었어요표받아야먹을수있음하루에2번오전11시오후4시30분11시10분방문표받고1시40분가령먹을수있었다햄버거먹기전바로앞냉면집에가서온면먼저먹었다너무나친절하셨다기분쵝오반면햄버거집은장사가너무나잘되서인지주문안내하시는분이너무나딱딱하게불친절했었다아무리맛있어도햄버거집은다시는절대안가고싶었다',\n",
              "  '쉑쉑 버거보다 훨씬 질 좋아보이네',\n",
              "  '🍔 대박!!! 새해.. 좋겠어요 ~~  돈 많이 버세요 ~~ ㅎ',\n",
              "  '맛있겠다 너무먹고싶네요 ㅜㅜ',\n",
              "  '와 백선생 저리 감탄하는 거 돈카 이후 처음봄.',\n",
              "  '나만 본방때 백종원 아저씨 뿜뿜 보고 겁나 웃었나.. ㅋㅋㅋㅋㅋㅋㅋㅋ',\n",
              "  '공격!!!',\n",
              "  '방송용은 튼실한 반면 유투브체험보면 총체적 부실방송타면 로또네요',\n",
              "  '너무 맛있게 드셔서 더 먹고싶다 ㅋㅋㅋㅋ',\n",
              "  '햄버거 사장님보면 기분좋아짐ㅠㅠ 진짜 한달에 햄버거 한두번먹는데 사장님때문에 햄버거 일주일에 네번이나 먹었어요ㅠㅠㅠ그래도 방송볼때마다 침나와요ㅠㅠㅠㅠ진짜 저버거 먹어보고싶다ㅠㅠㅠㅠㅠ',\n",
              "  '이제는 햄버거집 앞에 새벽부터 줄서야되는건가...',\n",
              "  '맛있겠다 침이 좔좔',\n",
              "  'ㅋㅋ',\n",
              "  '별로 싼거같진않은데ㅇㅅㅇ',\n",
              "  '사장님이 말죽거리 잔혹사의 햄버거 닮았네 ㅋㅋㅋㅋㅋㅋㅋㅋㅋㅋ',\n",
              "  '진짜 맛있게 먹는다 햄버거 그렇게 좋아하는 편은 아닌데 먹는 거 보니까 먹어보고 싶네! 저기 진짜로 가보고 싶다!!',\n",
              "  '버거사장님 좋아 ㅋㅋ 버거집 사장님 피자집 가게보다 더 크게 해서 초 대박나셨으면 좋겠다.',\n",
              "  '아씨이이이잉이잉 저기 진자로 꼭 가서 먹는다'],\n",
              " ['비쌀거 같다 재료 많이 들어가네 ㅋㅋ',\n",
              "  '진짜 맛있게 드신다',\n",
              "  '진~~~~짜 먹어보고싶다 ㅜㅜ',\n",
              "  '볼때마다 인상이 배우 배성우님이랑 비슷 ㅋㅋㅋㅋㅋㅋㅋ',\n",
              "  '백종원개귀옄ㅋㅋㅋㅋㅋㅋㅋㅋ으왕',\n",
              "  '한입만 주세요..',\n",
              "  ' ㅠㅠㅠ 이가게 진짜 잘됐으면 좋겟다 ㅠㅠ ',\n",
              "  '나 햄버거 진짜 좋아하는데...정말 내가 원정가야겠다. 사장님 제가 재료 거덜나게 해줄게요',\n",
              "  '백종원 너무 좋은 사람이야💓',\n",
              "  '아..먹어보고싶다',\n",
              "  '와...진짜 맛있겠다...',\n",
              "  '아 진짜 맛이어보인다...... 먹어보고싶다',\n",
              "  '역시 자기잘못을 인정하고 개선하시는 분이 빨리성공하네',\n",
              "  '백종원 귀여웤ㅋㅋㅋㅋㅋㅋㅋㅋㅋㅋ',\n",
              "  '맛있겠다ㅠㅠ',\n",
              "  '하 진짜 야채 넘 싱싱해보이고 계란도 부드러워보이는게 넘 맛잇겟다',\n",
              "  '저 가격에.. 진짜 대단하다. 요즘 어떻게든 비싸게 받으려고 하는데.. 좋은 제품 박리다매 대단하세요!!!',\n",
              "  '맛잇겟당',\n",
              "  '근데 피자집 멍ㅊ이가 가게 주인 아들이면... 지하 세입자 버거아저씨 세 엄청 올리는 건 아닌가요???',\n",
              "  '이렇게 실력좋은 분들도 본인이 뭐가 부족한지 깨닫고 공부하고 연습하는데.  소위 머리에 똥만 차있는 분들은 본인이 뭐가 문제인지 조차도 모르고 있으니...'],\n",
              " ['와 극찬이네..맛있겠다..비쥬얼도 완벽',\n",
              "  '와 너무맛있겠다 ㅜㅜㅜ 어디임 ㅜ와',\n",
              "  '오늘첫방문햄버거는참맛있었어요표받아야먹을수있음하루에2번오전11시오후4시30분11시10분방문표받고1시40분가령먹을수있었다햄버거먹기전바로앞냉면집에가서온면먼저먹었다너무나친절하셨다기분쵝오반면햄버거집은장사가너무나잘되서인지주문안내하시는분이너무나딱딱하게불친절했었다아무리맛있어도햄버거집은다시는절대안가고싶었다',\n",
              "  '쉑쉑 버거보다 훨씬 질 좋아보이네',\n",
              "  '🍔 대박!!! 새해.. 좋겠어요 ~~  돈 많이 버세요 ~~ ㅎ',\n",
              "  '맛있겠다 너무먹고싶네요 ㅜㅜ',\n",
              "  '와 백선생 저리 감탄하는 거 돈카 이후 처음봄.',\n",
              "  '나만 본방때 백종원 아저씨 뿜뿜 보고 겁나 웃었나.. ㅋㅋㅋㅋㅋㅋㅋㅋ',\n",
              "  '공격!!!',\n",
              "  '방송용은 튼실한 반면 유투브체험보면 총체적 부실방송타면 로또네요',\n",
              "  '너무 맛있게 드셔서 더 먹고싶다 ㅋㅋㅋㅋ',\n",
              "  '햄버거 사장님보면 기분좋아짐ㅠㅠ 진짜 한달에 햄버거 한두번먹는데 사장님때문에 햄버거 일주일에 네번이나 먹었어요ㅠㅠㅠ그래도 방송볼때마다 침나와요ㅠㅠㅠㅠ진짜 저버거 먹어보고싶다ㅠㅠㅠㅠㅠ',\n",
              "  '이제는 햄버거집 앞에 새벽부터 줄서야되는건가...',\n",
              "  '맛있겠다 침이 좔좔',\n",
              "  'ㅋㅋ',\n",
              "  '별로 싼거같진않은데ㅇㅅㅇ',\n",
              "  '사장님이 말죽거리 잔혹사의 햄버거 닮았네 ㅋㅋㅋㅋㅋㅋㅋㅋㅋㅋ',\n",
              "  '진짜 맛있게 먹는다 햄버거 그렇게 좋아하는 편은 아닌데 먹는 거 보니까 먹어보고 싶네! 저기 진짜로 가보고 싶다!!',\n",
              "  '버거사장님 좋아 ㅋㅋ 버거집 사장님 피자집 가게보다 더 크게 해서 초 대박나셨으면 좋겠다.',\n",
              "  '아씨이이이잉이잉 저기 진자로 꼭 가서 먹는다'],\n",
              " ['비쌀거 같다 재료 많이 들어가네 ㅋㅋ',\n",
              "  '진짜 맛있게 드신다',\n",
              "  '진~~~~짜 먹어보고싶다 ㅜㅜ',\n",
              "  '볼때마다 인상이 배우 배성우님이랑 비슷 ㅋㅋㅋㅋㅋㅋㅋ',\n",
              "  '백종원개귀옄ㅋㅋㅋㅋㅋㅋㅋㅋ으왕',\n",
              "  '한입만 주세요..',\n",
              "  ' ㅠㅠㅠ 이가게 진짜 잘됐으면 좋겟다 ㅠㅠ ',\n",
              "  '나 햄버거 진짜 좋아하는데...정말 내가 원정가야겠다. 사장님 제가 재료 거덜나게 해줄게요',\n",
              "  '백종원 너무 좋은 사람이야💓',\n",
              "  '아..먹어보고싶다',\n",
              "  '와...진짜 맛있겠다...',\n",
              "  '아 진짜 맛이어보인다...... 먹어보고싶다',\n",
              "  '역시 자기잘못을 인정하고 개선하시는 분이 빨리성공하네',\n",
              "  '백종원 귀여웤ㅋㅋㅋㅋㅋㅋㅋㅋㅋㅋ',\n",
              "  '맛있겠다ㅠㅠ',\n",
              "  '하 진짜 야채 넘 싱싱해보이고 계란도 부드러워보이는게 넘 맛잇겟다',\n",
              "  '저 가격에.. 진짜 대단하다. 요즘 어떻게든 비싸게 받으려고 하는데.. 좋은 제품 박리다매 대단하세요!!!',\n",
              "  '맛잇겟당',\n",
              "  '근데 피자집 멍ㅊ이가 가게 주인 아들이면... 지하 세입자 버거아저씨 세 엄청 올리는 건 아닌가요???',\n",
              "  '이렇게 실력좋은 분들도 본인이 뭐가 부족한지 깨닫고 공부하고 연습하는데.  소위 머리에 똥만 차있는 분들은 본인이 뭐가 문제인지 조차도 모르고 있으니...'],\n",
              " ['피자집코만지고 귀만지고 머리쓰다듬고 겨드랑이만지는 틱있는 사람이만든거 누가먹냐 먹다토나온다 ',\n",
              "  '와 ㅠㅠ 진짜 만나겠다 ㅠㅠ',\n",
              "  '버거집 사장님 쓰레기통 뒤지면서 연구하시던 그 열정이 열매를맺으면 좋겠네요. 화이팅 응원을 보냅니다!~',\n",
              "  '리액션이 진심이시네ㅋㅋㅋ 맥널가격에 저정도 수제버거를 흑 가까운사람들 부럽',\n",
              "  '저 계란 포실포실...',\n",
              "  '딱봐도 맛나보임 가격도 너무 싼거 아녀요',\n",
              "  '맛이없을수없는 조합..',\n",
              "  '사장님 웃는거 넘 귀엽다',\n",
              "  '영상 썸네일 강용석 ㅋㅋ',\n",
              "  '진짜 맛있겠다...스크램블 비주얼 미쳤어ㅠㅠㅠ',\n",
              "  '백종원 선생님 남 싫은말 못하고 참 좋은얘기 많이해주시는 분이다.  차기 대통령 가즈아 |o|',\n",
              "  '이 버거 진짜 한번 먹어보고싶다아ㅏㅠㅠㅠㅠ',\n",
              "  '아진짜 너무맛있겠다ㅠㅠ 서울사시는분들 부럽습니다~',\n",
              "  '가격이 개사기네',\n",
              "  '보통은 백종원씨만난 사장님이 부러워야하는데 이영상은 백종원씨가 부럽다... 저렇게 대박맛있는 버거를 맛보다니..',\n",
              "  '으왕!!!귀여우셬ㅋㅋㅋㅋ',\n",
              "  '잘되세요 꼭',\n",
              "  '아ㅠㅠㅠㅠ맛있겠다ㅠㅠ',\n",
              "  '진짜... 아............... 먹고싶다',\n",
              "  '회냉면 첫방송 이후로 진짜 먹고싶어지는거 첨이다.. 먹고싶다...'],\n",
              " ['화이팅입니다. 최고^^',\n",
              "  '여기진짜 먹고프네요 ㅜㅜ',\n",
              "  '솔루션을  받아도 받아들이는  마인드와  자세도 중요한듯',\n",
              "  'ㅋㅋㅋㅋㅋㅋㅋㅋㅋㅋㅋㅋ귀여웤ㅋㅋㅋ',\n",
              "  '정말 맛있게 드신다앙~~~| 소여사 결혼 잘했어 정말~!!!',\n",
              "  '와 계란있는부분 쩐다 그냥봐도 존맛예상가능ㅠㅠ',\n",
              "  '와 저게 6500이면 진짜 프랜차이즈랑 겨뤄도 가격 면에서 밀리지 않는데 수제라는 타이틀까지 붙으니.. 가까이 있으면 무조건 저기 갈듯 ㅜㅜㅠㅠㅠㅠㅜㅜㅠ 사장님 곧 번창하셔서 전국에 2호점,3호점도 내주세요',\n",
              "  '먹어보고싶닼ㅋㅋㅋㅋㅋㅋㅋㅋㅋ진짜ㅠㅠㅠ',\n",
              "  '진짜 저런 사장님보고 배우세요 제대로 준비도 안한 상태에서 무작정 가게 차려서 장사하려는 사람들 진짜 한심합니다. 그래놓고 경기가 안좋니 인건비 올라가니 장사가 안되니 정부욕만 하지 말고 노력을 하세요 그런 가게들 알바비 시간당 만원씩 줘도 전혀 전~~혀 아깝지 않아요 우리나라는 너무 쉽게 장사를 하게 하는게 문제야 문제 너나 나나 다 장사 하겠다고 하니 진짜 .. 강력하게 말리고 싶다',\n",
              "  '소리가 대박이다 진짜 맛잇겟다 ㅋㅋㅋ',\n",
              "  '진짜 먹어보고싶다',\n",
              "  '와 무슨맛인지 상상가서 미치겠다 진짴ㅋㅋㅋ',\n",
              "  '비주얼부터 JMT이네',\n",
              "  '아 근데 새삼.. 백종원님 너무 잘드신다....',\n",
              "  '사장님 너무 귀여우셔 ㅜㅜ',\n",
              "  '방송 나가기전에 와야겠뎈ㅋㅋㅋㅋㅋ',\n",
              "  '버거사장님!~인상이 너무좋으세요!~',\n",
              "  '여태껏 골목식당에서 제대로 음식 만드셨던 분들 보면 다 너구리 상이심, 해방촌 알탕집, 포방터 돈가스집 , 청파동 버거집 사장님',\n",
              "  '저기서 못 먹으니 맥모닝이나 인크레더블 버거로 대리만족 해야겠네요 ㅜㅜ',\n",
              "  '근처 나름 유명하다는 수제버거집 두군데 가봤는데 영...가격만 비싸고 ㅠㅠ 맛은 뭐...프랜차이즈보다 조금나은정도? 근데 저긴 가격도 괜찮구 한번 가보고싶네요..너무 맛있겠다진짜...미치겠네..ㅠㅠ'],\n",
              " ['아...먹으면서보는데도 배고프고 침넘어가네;; ㅠㅠ 넘 먹어보고싶다..한입만 제발..(물론 한입으로 안끝나겠지만..)',\n",
              "  '이분은 솔루션을 줬다기보단 한번 스스로 점검할쉬있는 계기를. 줬고 스스로 길을 찾으신거기때문에 정말 오래가실거같다 이게 진짜 자기꺼라',\n",
              "  '사장님 웃는거 진짜 귀엽닼ㅋㅋㅋㅋㅋㅋㅋㅋ',\n",
              "  'ㅜㅜ 정말 열심히 하시는 모습 너무 보기좋았어요 ㅠ 노력의 댓가라고 생각합니다. 나중에 줄서도 괜찮은 날씨가 되면 꼭 찾아가서 먹어보고싶어요 ㅠㅠ',\n",
              "  '피자집 <<<<<<<<<<<<<<<<<<<<<<<<<버거집',\n",
              "  '맛있겠다...',\n",
              "  '먹기위해사냐  대한민국국민들아~!?왜케 식충들이 많니~~',\n",
              "  '배쪼원 햄벅ASMR 대박치네유ㄷㄷㄷㄷㄷㄷㄷ',\n",
              "  '백주부 먹방 실화냐ㄷㄷㄷㄷ이거보고 배고파지는 마법의 영상임 휴',\n",
              "  '아내 생각하시네요 ㅎㅎㅎ 😍😍',\n",
              "  '뽀로로 친구 포비 ㅎ',\n",
              "  '미치겟다 ㅋㅋ대댓글 센스보소',\n",
              "  '너구리 형사 닮으셨네',\n",
              "  '오늘점심은 시그니처번 시켜묵어야긋다',\n",
              "  '이름까지 지어주셨네. 지.못.미 버거~',\n",
              "  '맛있겠다',\n",
              "  'ㅁㅊ 이거보니까 배존나고프네',\n",
              "  '뿜뿜하는데 백대표님 귀엽네요. ㅋㅋㅋ',\n",
              "  '먹고싶다...ㅠㅠ',\n",
              "  '백종원님 식사하시는거 첨보는거같은뎈ㅋㅋ'],\n",
              " ['와 백종원 사랑꾼 와이프 생각부터 나다니 ㅎㅎ',\n",
              "  '자산 4-500억 의 사업가 체면 날려버리는 버거 ㅋ',\n",
              "  '나 서울에서 살거나 아님 방문할 기회가 있다면 수제버거 세트 먹어보고 싶어요~^^',\n",
              "  '아버거진짜먹고싶다',\n",
              "  '먹고싶다 저집도 줄서서 먹겠네ㅎㅎ',\n",
              "  '진짜 멋있다 사장님 본인 분야 사랑하고 겸손하고',\n",
              "  '이미 방송에 공개된 레시피니까 제가 써도 되겠죠?프랜차이즈 만들어서 전세계인에게 맛보여주고 싳습니다!!!',\n",
              "  '아귀를 따라하는 문세윤님 닮음',\n",
              "  '이거먹다가 맥날 버거킹 못먹겠더라고요;;;; 진짜 맛있어요',\n",
              "  '뱅종원 아저씨 졸귀 ㅜㅜㅜㅜㅜㅜㅜㅜㅜㅜ',\n",
              "  '쓰레기 뒤진 사람은 다르다 버거집사장님 처럼 일을 해야 성공하는거야 골목식당 일부사장들은 좀 보고 배워야할듯',\n",
              "  '너무 먹고싶다 ㅠㅠ',\n",
              "  '백대표 으왕 하는거보고 댓글남겨요  솔직표현이면어 귀엽ㅋㅋ',\n",
              "  '난 이런 거 칭찬받을때마다 울컥함 ㅠㅠ',\n",
              "  '아ㅡㅡㅡㅡㅡㅡ먹고싶다ㅠㅠ',\n",
              "  'ㅁㅊ 존나먹고싶다 이건 꼭 ㅠ',\n",
              "  '진짜 맛있게 드시네요 ㅋㅋ',\n",
              "  '새벽인데 너무 먹고싶다~~^^♡♡',\n",
              "  '아씨 너무 맛있어보여ㅠㅠㅠㅠㅠㅠㅠ 줄 한번 서볼까 엉엉 근황 검색하러 갑니다...',\n",
              "  '콜드플레이 노래 여기서 들으니 너무 좋네요~'],\n",
              " ['이집은 콜라도 맛있을것같아...',\n",
              "  '버거때문에 숙대 들어가고싶은 생각을 하다니ㅠㅠ',\n",
              "  '수제버거에 한번 당해서  수제버거 안먹는데  이거보고 먹고싶어서 수제버거 시켯는데 이물질나옴 존나짜증나네 ',\n",
              "  '한국 사람들 부정적이고 불만이 많은 사람들 같음 이렇게 칭찬할 일엔 인색하고 욕할때만 개떼같이 몰려들고 더 이슈가 됨 그러니 열심히 하는 사람들이 많이 성공을 못하는것 같음',\n",
              "  '가격대비 너무 훌륭하네요. 딱봐도 맛있겠다.. 확신이.ㄷㄷ',\n",
              "  '진짜 맛있게 드신다ㅋㅋㅋㅋ',\n",
              "  '와 진짜 맛있게 먹네...',\n",
              "  '사장님 번창하세요!!!!!!!!!!!',\n",
              "  '맛잇뎃당 ㅜㅠㅠㅠ',\n",
              "  '1:41 김 나는거 ㅠㅠ대박ㅠㅠㅠ먹어보고싶당',\n",
              "  '이분은 진짜 노력하는 모습이 너무 보기좋다!! 사장님 힘내세요!!!',\n",
              "  '아 버거 좋아하는데 맛있겠다..',\n",
              "  '맛있겠다ㅠㅜㅜㅡㅜㅠ',\n",
              "  '배고파진다 ㅠㅠ 비주얼 대박이고 백종원ㄴ님이 너무 맛있게 드심 ㅠㅠ',\n",
              "  '사장님 문세윤님 닮으셨넹',\n",
              "  '와...계란 들어간 요리 정말 좋아하는데 ㅜㅜ 비주얼부터 아름답네',\n",
              "  '버거집 사장님 진짜 대받나셨으면 좋겠어요ㅠㅠ 인상도 너무 좋으세요',\n",
              "  '아 맛있겠다 ㄹㅇ 침고여',\n",
              "  '아 쩐다',\n",
              "  '사장님 너무 사람이 좋아보영'],\n",
              " ['맛있겠당 ㅠㅠㅠㅠ',\n",
              "  '진짜 맛있겠다',\n",
              "  'ㅠㅜㅜ ㅜ ㅠㅠㅠㅠㅠ ㅠ아 너무 맛있게드신다ㅠㅠ ㅠㅜ ㅜ ㅠㅠㅜㅠㅠㅠ',\n",
              "  '흑흑 먹어보고싶어요ㅠㅠㅠㅠㅠㅠ',\n",
              "  '먹는와중에도 와이프생각 ㅎ ㅎ 사랑꾼~',\n",
              "  '얼마나 맛있길래 구러눈거예어ㅜㅜㅜㅜㅜ먹구싶네ㅜㅜ',\n",
              "  '대박나서 부산에서도 맛보고싶음 ㅠㅠ',\n",
              "  '30대분들 댓이 압도적이네 ㄷ',\n",
              "  '이거 진심 먹어보고싶다',\n",
              "  '버거집 사장님 너무 착하게 생기셨어ㅠㅠㅠㅠ',\n",
              "  '나도 가서 먹어봐야지',\n",
              "  '고로케는 거의 통편집! 중간중간  드문드문 나오긴 했지만!',\n",
              "  '예능을 다큐로 보는 시청자들은 ㅋㅋㅋㅋㅋ',\n",
              "  '원래 계란후라이 베이컨 로메인 요 세가지만 식빵껴먹어도 환장함',\n",
              "  '백종원님 우왕하면서 먹는거 너무 귀엽다ㅋㅎㅋㅎㅋㅎㅋㅎㅋㅎㅋㅎㅎㅋ',\n",
              "  '먹고싶어 멀리는 못가고 동네 수제버거 검색하고 있네요. ㅜㅜ',\n",
              "  '으왕',\n",
              "  '눈으로 봐도 맛있겠다 조선미식가 백종원형님이 종이까지핥았으면 말다했지 대박맛집 되겠다 맛집은 요리에 사장님들의자부심과 정성이들어가 있다 자신있게 설명하고 평가기다리는모습 보기좋고 멋집니다 하나더 드시쥬~ 예?! 조보아씨 내려와봐유~ ^^',\n",
              "  '아 진짜 가보고싶다 으아아ㅠㅠㅠ',\n",
              "  '뿜뿜 ㅋㅋㅋㅋㅋ귀여우시다'],\n",
              " ['백종원 선생님 드실 때 소리 내시는거 너무 귀야우시다ㅎㅎ',\n",
              "  '대박나세요',\n",
              "  '고로케는 프렌차이즈 홍보인거 속이다가 걸려서 2주째 거의 통편집급이네',\n",
              "  '와ㄹㅇ먹고싶다ㅜㅜ',\n",
              "  '볼때마다느끼는건데 버거집사장님진짜성실하시고항상배우려는자세가참보기좋아요~!👍',\n",
              "  '저 동네가 유동인구 많은길인데 .. 그전까지 아 무슨 저딴 햄버거 먹어 이럼서 맥도날드 드시던 분들이 ... 이제와서 줄서서 먹는거 참 가증스럽네요... 그럼 결국 모든 가게는백종원이 필요한거네요....',\n",
              "  '백종원 대표는 기분 좋을걸....어떻게든 한번 더 도와주고싶을거고...',\n",
              "  '고로케 집 프렌차이즈 실화?',\n",
              "  '햄버거를 뭐 저렇게 맛나게 드셔..',\n",
              "  '가보고싶은데 너무멀다 ㅜ 서울말고 분당 용인 이런대도 좀해주지 맨날 서울이냐...멀다멀어',\n",
              "  '맛없어도 이 분은 언젠가는 대박내실듯성실함과  요리에대한 애착 겸손함이 몸에서 베어나옵니다꼭 대박나서 흥하세요!!!',\n",
              "  '2:15 귀여우셔ㅋㅋㅋㅋㅋㅋ😂😂😍',\n",
              "  '사장님 진짜진짜잘되실거에요. 우시는데 같이 눈물이 나고 난리ㅠㅠㅠㅠㅠ 돈길만 걸어요💰💰💰💰💰',\n",
              "  \"사장님이꾸준히 노력하고 연구한 결과물이어 그런지 뉴욕에서 먹어본 쉑쉑버거와 밀크쉐이크에 전혀 뒤지지 않을거  같아요 '지못미버거' 진짜 너무 먹어보고싶네요 사장님 흘린 눈물보니 골목식당의 취지에 가장 맞는 식당 같아 보이네요 대박나세요^^\",\n",
              "  '먹어보고싶다ㅠ',\n",
              "  '냉면집사장님 버거집사장님 우시는거보고 울컥했습니다ㅠㅠ열심히노력한결과이니 앞으로도 승승장구하세욥♡',\n",
              "  '맛있겠다......',\n",
              "  '근데 우리 님들은 왜 백종원이 가기전엔 저 사장님을 개무시하면서 폐업 직전으로 몰았을까요? 사장님입장에선 얼마나 열받어... 백종원 오기전엔 처 오지도 않더니 막상 방송타니까 줄서서 엄지척 하면서 존맛탱 이럼서 군중심리로 맛없어도 인싸 되고 싶어서 인스타에 사진 올리면서 맛있다 할꺼 아냐 ㅋㅋㅋ 🤣',\n",
              "  '피자집이랑 너무 차이나네...ㅋㅋㅋ 사장님 열심히 하시는거 같고 피자집보다 청결하고 피자집은 먹다가 토할 듯...',\n",
              "  '백종원 맛에 이성을 잃었다ㅋㅋ'],\n",
              " ['먹는거봐 ㅋ ㅋ 우걱우걱 으휴',\n",
              "  '사장님 내년쯤가볼게요ㅠㅠ번창하세요',\n",
              "  '사장님 건강 챙기며 일하시길^^ 잘 되실겁니다!!!',\n",
              "  '저 햄버거 나도 보름전에 먹었는데 진짜 개꿀맛 ㅋㅋ',\n",
              "  '맛나겠다 사장님 표정도 넘나 인자함',\n",
              "  '혹시 버거집이 피자집 같은건물지하인건가요?',\n",
              "  '청파동은 끝~ 잼잇게 잘봣슴당~',\n",
              "  '좋은 식당들이 더 잘되었으면 좋겠어요~^^ 햄버거 집 사장님 ㅎㅇㅌ~',\n",
              "  '이런가게를살려줘야지.피자집슨빼라',\n",
              "  '그나저나 자기 업체 케어부터 해야할것 같은데..우리동네 종로상회   새마을 식당..하..',\n",
              "  'ㅋㅋㅋ아진짜 사장님 너무 귀여우신거같음ㅋㅋ 노력하는모습도 너무 보기좋아요!!^^',\n",
              "  '백종원 논리면 아보카도 버거는 재료비 비싸서 손님들한테 부담스러운 가격이고 트러플 오일 쳐서 파는 감튀는 괜찮냐 그럼 트러플 오일 없이 소금후추만 쳐서 2000원에 파는게 맞는 논리 아니냐 ㅋㅋ 요즘 다운타우너나 파이어벨 같은 유명한 버거집도 아보카도 버거로 엄청 인기끌고 있는데 ㅋㅋㅋ 비싸도 먹을사람은 알아서 먹을텐데 ㅋㅋ',\n",
              "  '저기가서 먹어보라고 광고하는건가??',\n",
              "  '아 이 집보니까 피자집 더 보기싫어졌어;;;;;',\n",
              "  '아 ㅠ 진짜맛있겠다 ㅠㅠㅠㅠ',\n",
              "  '진짜 맛있나보다',\n",
              "  '피자집 같은덴 걍 혼자 장사하게 둡시다. 중간중간 떨어뜨려야지, 스스로 노력할 생각 없고 백종원 씨 덕에 그냥 뭐 하나 줏어 먹으려는 하이에나처럼 보임. 저번에 경양식도 그렇고... 지 하고 싶은데로 하면서 아집만 쎄고 배울 생각도 고칠 생각도 없는 가게 왜 붙잡아두고 개선시켜주려 함?',\n",
              "  '이분은 버거계의 백종원님',\n",
              "  '노력하는자는 언젠간 빛을 본다',\n",
              "  '아쉬운대로 흔한 버거에 스크램블 해서 넣어 먹어봐야지'],\n",
              " ['지못미~ 지못미~ 지켜주지 못해 미안해~',\n",
              "  '버거집 후기를 보니 줄서서 2 ~3시간 정도 기다려서 드시는 분도 계시더라구요저도 먹어보고 싶어요',\n",
              "  '사장님 얼굴 보면 괜히 가서 옆구리 콕 찌르고 싶어요~ ㅋㅋㅋㅋ 그래도 허허, 웃어줄 것만 같은~ 맛있는 햄버거 많이 만들어서 많은 행복 나눠주세요~',\n",
              "  '나 오믈렛 좋아서 서브웨이에서도 항상 오믈렛추가 해먹는데 햄버거에 오믈렛이라니 너무 맛있어보인다ㅠㅠㅠㅠㅠㅠㅠ',\n",
              "  '난왜이사장님 조만간 사고낼것같은기분이 들지??',\n",
              "  '폐지하세요  시청하기거북해요',\n",
              "  '이제 뭐로 이슈화 만드냐 ㅋㅋ 몇번보니까 작가의 스토리가 한바퀴 돈거같다 비슷비슷해',\n",
              "  '나는 나보다 못한 사람보고 안도를 느끼기 보다 나보다 열심히 하는 사람이 성공하는게 더 희열을 느낌 ㅋ 열심히 하는사람 노하우 알려주고 많이 알게 해주는게 더 재밌음 ㅋ 돈가스 집이나 버거집만 봄 피자집 짜증나서 안봄',\n",
              "  '고로케집은....얼렁뚱땅 이대로 조용히 묻나??',\n",
              "  '지못미버거 먹고싶다요',\n",
              "  '대박나시길!!!',\n",
              "  '배고파ㅠㅠㅠㅠㅠ맛있겠다',\n",
              "  '와 진짜 햄버거 먹고싶어죽는줄ㅜㅜ',\n",
              "  '자영업자의 모범 답안지 같으신 분',\n",
              "  '보는데 진짜...진짜 맛있어보이더라구요 ㅠㅠㅠㅠㅠㅠㅠ 아흐으.. 수제버거 6500원도 싼데 퀄리티가 진짜 너무 좋아요... ㅠㅠ',\n",
              "  '댓글이 삭제되었습니다.',\n",
              "  '디게 맛있는갑다',\n",
              "  '이분은 꼭 대박나시길',\n",
              "  '버거집 사장님 항상 긍정적이고 자기가 부족해도 배우려는 모습이 너무 잘 드러나서 너무 보기 좋았다',\n",
              "  '2019년 항상 꽃길걸으세요 사장님👏🏻👏🏻'],\n",
              " ['아니 저런분들한테 솔루션을 해야지.. 피자집을 왜자꾸 해주냐;;;',\n",
              "  '오늘도 피자집은 욕먹고있습니다',\n",
              "  '먹어보고 싶다 ㅠㅠㅠㅠㅠ하..줄이 길어서 힘들겠지',\n",
              "  '손님들 먹으러 많이 오시겠네요']]"
            ]
          },
          "metadata": {
            "tags": []
          },
          "execution_count": 199
        }
      ]
    },
    {
      "cell_type": "code",
      "metadata": {
        "id": "D173vPtuR5SR"
      },
      "source": [
        "#저장\n",
        "df=pd.DataFrame(comment)\n",
        "df.to_csv(\"comment_49.csv\")"
      ],
      "execution_count": null,
      "outputs": []
    },
    {
      "cell_type": "markdown",
      "metadata": {
        "id": "WHj1aHHTR5SU"
      },
      "source": [
        "------------------------ 연습 코드 정리 안됐음 ---------------------------------------"
      ]
    },
    {
      "cell_type": "code",
      "metadata": {
        "id": "7QWhNPzzR5SU"
      },
      "source": [
        ""
      ],
      "execution_count": null,
      "outputs": []
    },
    {
      "cell_type": "code",
      "metadata": {
        "id": "yB7uwJKNR5SW"
      },
      "source": [
        ""
      ],
      "execution_count": null,
      "outputs": []
    },
    {
      "cell_type": "code",
      "metadata": {
        "id": "Pw1tjHarR5SY"
      },
      "source": [
        ""
      ],
      "execution_count": null,
      "outputs": []
    },
    {
      "cell_type": "code",
      "metadata": {
        "id": "cFGTL-ytR5Sa"
      },
      "source": [
        "//*[@id=\"cbox_module\"]/div/div[8]/div/a[1]\n",
        "//*[@id=\"cbox_module\"]/div/div[8]/div/a[3]\n",
        "//*[@id=\"cbox_module\"]/div/div[8]/div/a[4]\n",
        "//*[@id=\"cbox_module\"]/div/div[8]/div/a[5]\n",
        "//*[@id=\"cbox_module\"]/div/div[8]/div/a[6]\n",
        "\n",
        "//*[@id=\"cbox_module\"]/div/div[8]/div/a[3]\n",
        "//*[@id=\"cbox_module\"]/div/div[8]/div/a[4]\n",
        "//*[@id=\"cbox_module\"]/div/div[8]/div/a[5]\n",
        "//*[@id=\"cbox_module\"]/div/div[8]/div/a[6]\n",
        "//*[@id=\"cbox_module\"]/div/div[8]/div/a[7]\n",
        "//*[@id=\"cbox_module\"]/div/div[8]/div/a[3]\n",
        "\n",
        "//*[@id=\"cbox_module\"]/div/div[8]/div/a[7]\n",
        "//*[@id=\"cbox_module\"]/div/div[8]/div\n",
        "//*[@id=\"cbox_module\"]/div/div[8]/div/a[3]"
      ],
      "execution_count": null,
      "outputs": []
    },
    {
      "cell_type": "code",
      "metadata": {
        "id": "fyfKFdjWR5Sc"
      },
      "source": [
        "//*[@id=\"cbox_module\"]/div/div[8]/div/a[1]"
      ],
      "execution_count": null,
      "outputs": []
    },
    {
      "cell_type": "code",
      "metadata": {
        "id": "eFcTecV7R5Se"
      },
      "source": [
        "var_list=[1,3,4,5,6,3,4,5,6,7,3,4,5,6,7,3]"
      ],
      "execution_count": null,
      "outputs": []
    },
    {
      "cell_type": "code",
      "metadata": {
        "id": "S85vbk7PR5Sg",
        "outputId": "657c6a4b-2dae-4661-f83f-f3d3a6d40ce8"
      },
      "source": [
        "driver = webdriver.Chrome(executable_path=r'/Users/hwangjaewon/Downloads/chromedriver-2')\n",
        "time.sleep(2)\n",
        "times=\"49회\"\n",
        "url = 'https://tv.naver.com/search?query=백종원의 골목식당'+str(times)+\"&page=1\" \n",
        "driver.get(url)\n",
        "time.sleep(0.5)\n",
        "for j in range(2,17):\n",
        "    comment=[]\n",
        "    xpath='//*[@id=\"cbox_module\"]/div/div[8]/div/a[{}]'\n",
        "    driver.find_element_by_xpath('//*[@id=\"clip_list\"]/div[1]/div/div/dl/dt/a').click()\n",
        "    for i in var_list :       \n",
        "        html= driver.page_source\n",
        "        soup= BeautifulSoup(html, 'lxml')\n",
        "        data=soup.find_all(\"div\",{'class':\"u_cbox_text_wrap\"})\n",
        "        a=[i.get_text() for i in soup.select('div.u_cbox_text_wrap')]\n",
        "        comment.append(a)\n",
        "        driver.execute_script(\"window.scrollTo(0, document.body.scrollHeight);\")   \n",
        "        driver.find_element_by_xpath(xpath.format(i)).click()\n",
        "        time.sleep(1)\n",
        "        driver.get(url)\n",
        "        time.sleep(0.5)\n",
        "        list_xpath='//*[@id=\"clip_list\"]/div[{}]/div/div/dl/dt/a'\n",
        "        driver.find_element_by_xpath(list_xpath.format(j)).click()\n",
        "        time.sleep(0.5)\n",
        "comment        "
      ],
      "execution_count": null,
      "outputs": [
        {
          "output_type": "error",
          "ename": "NoSuchElementException",
          "evalue": "Message: no such element: Unable to locate element: {\"method\":\"xpath\",\"selector\":\"//*[@id=\"cbox_module\"]/div/div[8]/div/a[1]\"}\n  (Session info: chrome=86.0.4240.183)\n",
          "traceback": [
            "\u001b[0;31m---------------------------------------------------------------------------\u001b[0m",
            "\u001b[0;31mNoSuchElementException\u001b[0m                    Traceback (most recent call last)",
            "\u001b[0;32m<ipython-input-136-8e09d41970c3>\u001b[0m in \u001b[0;36m<module>\u001b[0;34m\u001b[0m\n\u001b[1;32m     16\u001b[0m         \u001b[0mcomment\u001b[0m\u001b[0;34m.\u001b[0m\u001b[0mappend\u001b[0m\u001b[0;34m(\u001b[0m\u001b[0ma\u001b[0m\u001b[0;34m)\u001b[0m\u001b[0;34m\u001b[0m\u001b[0;34m\u001b[0m\u001b[0m\n\u001b[1;32m     17\u001b[0m         \u001b[0mdriver\u001b[0m\u001b[0;34m.\u001b[0m\u001b[0mexecute_script\u001b[0m\u001b[0;34m(\u001b[0m\u001b[0;34m\"window.scrollTo(0, document.body.scrollHeight);\"\u001b[0m\u001b[0;34m)\u001b[0m\u001b[0;34m\u001b[0m\u001b[0;34m\u001b[0m\u001b[0m\n\u001b[0;32m---> 18\u001b[0;31m         \u001b[0mdriver\u001b[0m\u001b[0;34m.\u001b[0m\u001b[0mfind_element_by_xpath\u001b[0m\u001b[0;34m(\u001b[0m\u001b[0mxpath\u001b[0m\u001b[0;34m.\u001b[0m\u001b[0mformat\u001b[0m\u001b[0;34m(\u001b[0m\u001b[0mi\u001b[0m\u001b[0;34m)\u001b[0m\u001b[0;34m)\u001b[0m\u001b[0;34m.\u001b[0m\u001b[0mclick\u001b[0m\u001b[0;34m(\u001b[0m\u001b[0;34m)\u001b[0m\u001b[0;34m\u001b[0m\u001b[0;34m\u001b[0m\u001b[0m\n\u001b[0m\u001b[1;32m     19\u001b[0m         \u001b[0mtime\u001b[0m\u001b[0;34m.\u001b[0m\u001b[0msleep\u001b[0m\u001b[0;34m(\u001b[0m\u001b[0;36m1\u001b[0m\u001b[0;34m)\u001b[0m\u001b[0;34m\u001b[0m\u001b[0;34m\u001b[0m\u001b[0m\n\u001b[1;32m     20\u001b[0m         \u001b[0mdriver\u001b[0m\u001b[0;34m.\u001b[0m\u001b[0mget\u001b[0m\u001b[0;34m(\u001b[0m\u001b[0murl\u001b[0m\u001b[0;34m)\u001b[0m\u001b[0;34m\u001b[0m\u001b[0;34m\u001b[0m\u001b[0m\n",
            "\u001b[0;32m~/anaconda3/lib/python3.8/site-packages/selenium/webdriver/remote/webdriver.py\u001b[0m in \u001b[0;36mfind_element_by_xpath\u001b[0;34m(self, xpath)\u001b[0m\n\u001b[1;32m    392\u001b[0m             \u001b[0melement\u001b[0m \u001b[0;34m=\u001b[0m \u001b[0mdriver\u001b[0m\u001b[0;34m.\u001b[0m\u001b[0mfind_element_by_xpath\u001b[0m\u001b[0;34m(\u001b[0m\u001b[0;34m'//div/td[1]'\u001b[0m\u001b[0;34m)\u001b[0m\u001b[0;34m\u001b[0m\u001b[0;34m\u001b[0m\u001b[0m\n\u001b[1;32m    393\u001b[0m         \"\"\"\n\u001b[0;32m--> 394\u001b[0;31m         \u001b[0;32mreturn\u001b[0m \u001b[0mself\u001b[0m\u001b[0;34m.\u001b[0m\u001b[0mfind_element\u001b[0m\u001b[0;34m(\u001b[0m\u001b[0mby\u001b[0m\u001b[0;34m=\u001b[0m\u001b[0mBy\u001b[0m\u001b[0;34m.\u001b[0m\u001b[0mXPATH\u001b[0m\u001b[0;34m,\u001b[0m \u001b[0mvalue\u001b[0m\u001b[0;34m=\u001b[0m\u001b[0mxpath\u001b[0m\u001b[0;34m)\u001b[0m\u001b[0;34m\u001b[0m\u001b[0;34m\u001b[0m\u001b[0m\n\u001b[0m\u001b[1;32m    395\u001b[0m \u001b[0;34m\u001b[0m\u001b[0m\n\u001b[1;32m    396\u001b[0m     \u001b[0;32mdef\u001b[0m \u001b[0mfind_elements_by_xpath\u001b[0m\u001b[0;34m(\u001b[0m\u001b[0mself\u001b[0m\u001b[0;34m,\u001b[0m \u001b[0mxpath\u001b[0m\u001b[0;34m)\u001b[0m\u001b[0;34m:\u001b[0m\u001b[0;34m\u001b[0m\u001b[0;34m\u001b[0m\u001b[0m\n",
            "\u001b[0;32m~/anaconda3/lib/python3.8/site-packages/selenium/webdriver/remote/webdriver.py\u001b[0m in \u001b[0;36mfind_element\u001b[0;34m(self, by, value)\u001b[0m\n\u001b[1;32m    974\u001b[0m                 \u001b[0mby\u001b[0m \u001b[0;34m=\u001b[0m \u001b[0mBy\u001b[0m\u001b[0;34m.\u001b[0m\u001b[0mCSS_SELECTOR\u001b[0m\u001b[0;34m\u001b[0m\u001b[0;34m\u001b[0m\u001b[0m\n\u001b[1;32m    975\u001b[0m                 \u001b[0mvalue\u001b[0m \u001b[0;34m=\u001b[0m \u001b[0;34m'[name=\"%s\"]'\u001b[0m \u001b[0;34m%\u001b[0m \u001b[0mvalue\u001b[0m\u001b[0;34m\u001b[0m\u001b[0;34m\u001b[0m\u001b[0m\n\u001b[0;32m--> 976\u001b[0;31m         return self.execute(Command.FIND_ELEMENT, {\n\u001b[0m\u001b[1;32m    977\u001b[0m             \u001b[0;34m'using'\u001b[0m\u001b[0;34m:\u001b[0m \u001b[0mby\u001b[0m\u001b[0;34m,\u001b[0m\u001b[0;34m\u001b[0m\u001b[0;34m\u001b[0m\u001b[0m\n\u001b[1;32m    978\u001b[0m             'value': value})['value']\n",
            "\u001b[0;32m~/anaconda3/lib/python3.8/site-packages/selenium/webdriver/remote/webdriver.py\u001b[0m in \u001b[0;36mexecute\u001b[0;34m(self, driver_command, params)\u001b[0m\n\u001b[1;32m    319\u001b[0m         \u001b[0mresponse\u001b[0m \u001b[0;34m=\u001b[0m \u001b[0mself\u001b[0m\u001b[0;34m.\u001b[0m\u001b[0mcommand_executor\u001b[0m\u001b[0;34m.\u001b[0m\u001b[0mexecute\u001b[0m\u001b[0;34m(\u001b[0m\u001b[0mdriver_command\u001b[0m\u001b[0;34m,\u001b[0m \u001b[0mparams\u001b[0m\u001b[0;34m)\u001b[0m\u001b[0;34m\u001b[0m\u001b[0;34m\u001b[0m\u001b[0m\n\u001b[1;32m    320\u001b[0m         \u001b[0;32mif\u001b[0m \u001b[0mresponse\u001b[0m\u001b[0;34m:\u001b[0m\u001b[0;34m\u001b[0m\u001b[0;34m\u001b[0m\u001b[0m\n\u001b[0;32m--> 321\u001b[0;31m             \u001b[0mself\u001b[0m\u001b[0;34m.\u001b[0m\u001b[0merror_handler\u001b[0m\u001b[0;34m.\u001b[0m\u001b[0mcheck_response\u001b[0m\u001b[0;34m(\u001b[0m\u001b[0mresponse\u001b[0m\u001b[0;34m)\u001b[0m\u001b[0;34m\u001b[0m\u001b[0;34m\u001b[0m\u001b[0m\n\u001b[0m\u001b[1;32m    322\u001b[0m             response['value'] = self._unwrap_value(\n\u001b[1;32m    323\u001b[0m                 response.get('value', None))\n",
            "\u001b[0;32m~/anaconda3/lib/python3.8/site-packages/selenium/webdriver/remote/errorhandler.py\u001b[0m in \u001b[0;36mcheck_response\u001b[0;34m(self, response)\u001b[0m\n\u001b[1;32m    240\u001b[0m                 \u001b[0malert_text\u001b[0m \u001b[0;34m=\u001b[0m \u001b[0mvalue\u001b[0m\u001b[0;34m[\u001b[0m\u001b[0;34m'alert'\u001b[0m\u001b[0;34m]\u001b[0m\u001b[0;34m.\u001b[0m\u001b[0mget\u001b[0m\u001b[0;34m(\u001b[0m\u001b[0;34m'text'\u001b[0m\u001b[0;34m)\u001b[0m\u001b[0;34m\u001b[0m\u001b[0;34m\u001b[0m\u001b[0m\n\u001b[1;32m    241\u001b[0m             \u001b[0;32mraise\u001b[0m \u001b[0mexception_class\u001b[0m\u001b[0;34m(\u001b[0m\u001b[0mmessage\u001b[0m\u001b[0;34m,\u001b[0m \u001b[0mscreen\u001b[0m\u001b[0;34m,\u001b[0m \u001b[0mstacktrace\u001b[0m\u001b[0;34m,\u001b[0m \u001b[0malert_text\u001b[0m\u001b[0;34m)\u001b[0m\u001b[0;34m\u001b[0m\u001b[0;34m\u001b[0m\u001b[0m\n\u001b[0;32m--> 242\u001b[0;31m         \u001b[0;32mraise\u001b[0m \u001b[0mexception_class\u001b[0m\u001b[0;34m(\u001b[0m\u001b[0mmessage\u001b[0m\u001b[0;34m,\u001b[0m \u001b[0mscreen\u001b[0m\u001b[0;34m,\u001b[0m \u001b[0mstacktrace\u001b[0m\u001b[0;34m)\u001b[0m\u001b[0;34m\u001b[0m\u001b[0;34m\u001b[0m\u001b[0m\n\u001b[0m\u001b[1;32m    243\u001b[0m \u001b[0;34m\u001b[0m\u001b[0m\n\u001b[1;32m    244\u001b[0m     \u001b[0;32mdef\u001b[0m \u001b[0m_value_or_default\u001b[0m\u001b[0;34m(\u001b[0m\u001b[0mself\u001b[0m\u001b[0;34m,\u001b[0m \u001b[0mobj\u001b[0m\u001b[0;34m,\u001b[0m \u001b[0mkey\u001b[0m\u001b[0;34m,\u001b[0m \u001b[0mdefault\u001b[0m\u001b[0;34m)\u001b[0m\u001b[0;34m:\u001b[0m\u001b[0;34m\u001b[0m\u001b[0;34m\u001b[0m\u001b[0m\n",
            "\u001b[0;31mNoSuchElementException\u001b[0m: Message: no such element: Unable to locate element: {\"method\":\"xpath\",\"selector\":\"//*[@id=\"cbox_module\"]/div/div[8]/div/a[1]\"}\n  (Session info: chrome=86.0.4240.183)\n"
          ]
        }
      ]
    },
    {
      "cell_type": "code",
      "metadata": {
        "id": "g0T7UZRTR5Si"
      },
      "source": [
        ""
      ],
      "execution_count": null,
      "outputs": []
    },
    {
      "cell_type": "code",
      "metadata": {
        "id": "HFjboGmWR5Sl"
      },
      "source": [
        ""
      ],
      "execution_count": null,
      "outputs": []
    },
    {
      "cell_type": "code",
      "metadata": {
        "id": "oiV2eKtNR5Sn"
      },
      "source": [
        ""
      ],
      "execution_count": null,
      "outputs": []
    },
    {
      "cell_type": "code",
      "metadata": {
        "id": "ZS4vT2zVR5Sp",
        "outputId": "3b5ba6e6-cfaa-4f6c-bbf4-123eb3000d29"
      },
      "source": [
        "comment=[]"
      ],
      "execution_count": null,
      "outputs": [
        {
          "output_type": "error",
          "ename": "NoSuchElementException",
          "evalue": "Message: no such element: Unable to locate element: {\"method\":\"xpath\",\"selector\":\"//*[@id=\"clip_list\"]/div[1]/div/div/dl/dt/a\"}\n  (Session info: chrome=86.0.4240.183)\n",
          "traceback": [
            "\u001b[0;31m---------------------------------------------------------------------------\u001b[0m",
            "\u001b[0;31mNoSuchElementException\u001b[0m                    Traceback (most recent call last)",
            "\u001b[0;32m<ipython-input-151-0095974c64cf>\u001b[0m in \u001b[0;36m<module>\u001b[0;34m\u001b[0m\n\u001b[1;32m      1\u001b[0m \u001b[0mcomment\u001b[0m\u001b[0;34m=\u001b[0m\u001b[0;34m[\u001b[0m\u001b[0;34m]\u001b[0m\u001b[0;34m\u001b[0m\u001b[0;34m\u001b[0m\u001b[0m\n\u001b[0;32m----> 2\u001b[0;31m \u001b[0mdriver\u001b[0m\u001b[0;34m.\u001b[0m\u001b[0mfind_element_by_xpath\u001b[0m\u001b[0;34m(\u001b[0m\u001b[0;34m'//*[@id=\"clip_list\"]/div[1]/div/div/dl/dt/a'\u001b[0m\u001b[0;34m)\u001b[0m\u001b[0;34m.\u001b[0m\u001b[0mclick\u001b[0m\u001b[0;34m(\u001b[0m\u001b[0;34m)\u001b[0m\u001b[0;34m\u001b[0m\u001b[0;34m\u001b[0m\u001b[0m\n\u001b[0m",
            "\u001b[0;32m~/anaconda3/lib/python3.8/site-packages/selenium/webdriver/remote/webdriver.py\u001b[0m in \u001b[0;36mfind_element_by_xpath\u001b[0;34m(self, xpath)\u001b[0m\n\u001b[1;32m    392\u001b[0m             \u001b[0melement\u001b[0m \u001b[0;34m=\u001b[0m \u001b[0mdriver\u001b[0m\u001b[0;34m.\u001b[0m\u001b[0mfind_element_by_xpath\u001b[0m\u001b[0;34m(\u001b[0m\u001b[0;34m'//div/td[1]'\u001b[0m\u001b[0;34m)\u001b[0m\u001b[0;34m\u001b[0m\u001b[0;34m\u001b[0m\u001b[0m\n\u001b[1;32m    393\u001b[0m         \"\"\"\n\u001b[0;32m--> 394\u001b[0;31m         \u001b[0;32mreturn\u001b[0m \u001b[0mself\u001b[0m\u001b[0;34m.\u001b[0m\u001b[0mfind_element\u001b[0m\u001b[0;34m(\u001b[0m\u001b[0mby\u001b[0m\u001b[0;34m=\u001b[0m\u001b[0mBy\u001b[0m\u001b[0;34m.\u001b[0m\u001b[0mXPATH\u001b[0m\u001b[0;34m,\u001b[0m \u001b[0mvalue\u001b[0m\u001b[0;34m=\u001b[0m\u001b[0mxpath\u001b[0m\u001b[0;34m)\u001b[0m\u001b[0;34m\u001b[0m\u001b[0;34m\u001b[0m\u001b[0m\n\u001b[0m\u001b[1;32m    395\u001b[0m \u001b[0;34m\u001b[0m\u001b[0m\n\u001b[1;32m    396\u001b[0m     \u001b[0;32mdef\u001b[0m \u001b[0mfind_elements_by_xpath\u001b[0m\u001b[0;34m(\u001b[0m\u001b[0mself\u001b[0m\u001b[0;34m,\u001b[0m \u001b[0mxpath\u001b[0m\u001b[0;34m)\u001b[0m\u001b[0;34m:\u001b[0m\u001b[0;34m\u001b[0m\u001b[0;34m\u001b[0m\u001b[0m\n",
            "\u001b[0;32m~/anaconda3/lib/python3.8/site-packages/selenium/webdriver/remote/webdriver.py\u001b[0m in \u001b[0;36mfind_element\u001b[0;34m(self, by, value)\u001b[0m\n\u001b[1;32m    974\u001b[0m                 \u001b[0mby\u001b[0m \u001b[0;34m=\u001b[0m \u001b[0mBy\u001b[0m\u001b[0;34m.\u001b[0m\u001b[0mCSS_SELECTOR\u001b[0m\u001b[0;34m\u001b[0m\u001b[0;34m\u001b[0m\u001b[0m\n\u001b[1;32m    975\u001b[0m                 \u001b[0mvalue\u001b[0m \u001b[0;34m=\u001b[0m \u001b[0;34m'[name=\"%s\"]'\u001b[0m \u001b[0;34m%\u001b[0m \u001b[0mvalue\u001b[0m\u001b[0;34m\u001b[0m\u001b[0;34m\u001b[0m\u001b[0m\n\u001b[0;32m--> 976\u001b[0;31m         return self.execute(Command.FIND_ELEMENT, {\n\u001b[0m\u001b[1;32m    977\u001b[0m             \u001b[0;34m'using'\u001b[0m\u001b[0;34m:\u001b[0m \u001b[0mby\u001b[0m\u001b[0;34m,\u001b[0m\u001b[0;34m\u001b[0m\u001b[0;34m\u001b[0m\u001b[0m\n\u001b[1;32m    978\u001b[0m             'value': value})['value']\n",
            "\u001b[0;32m~/anaconda3/lib/python3.8/site-packages/selenium/webdriver/remote/webdriver.py\u001b[0m in \u001b[0;36mexecute\u001b[0;34m(self, driver_command, params)\u001b[0m\n\u001b[1;32m    319\u001b[0m         \u001b[0mresponse\u001b[0m \u001b[0;34m=\u001b[0m \u001b[0mself\u001b[0m\u001b[0;34m.\u001b[0m\u001b[0mcommand_executor\u001b[0m\u001b[0;34m.\u001b[0m\u001b[0mexecute\u001b[0m\u001b[0;34m(\u001b[0m\u001b[0mdriver_command\u001b[0m\u001b[0;34m,\u001b[0m \u001b[0mparams\u001b[0m\u001b[0;34m)\u001b[0m\u001b[0;34m\u001b[0m\u001b[0;34m\u001b[0m\u001b[0m\n\u001b[1;32m    320\u001b[0m         \u001b[0;32mif\u001b[0m \u001b[0mresponse\u001b[0m\u001b[0;34m:\u001b[0m\u001b[0;34m\u001b[0m\u001b[0;34m\u001b[0m\u001b[0m\n\u001b[0;32m--> 321\u001b[0;31m             \u001b[0mself\u001b[0m\u001b[0;34m.\u001b[0m\u001b[0merror_handler\u001b[0m\u001b[0;34m.\u001b[0m\u001b[0mcheck_response\u001b[0m\u001b[0;34m(\u001b[0m\u001b[0mresponse\u001b[0m\u001b[0;34m)\u001b[0m\u001b[0;34m\u001b[0m\u001b[0;34m\u001b[0m\u001b[0m\n\u001b[0m\u001b[1;32m    322\u001b[0m             response['value'] = self._unwrap_value(\n\u001b[1;32m    323\u001b[0m                 response.get('value', None))\n",
            "\u001b[0;32m~/anaconda3/lib/python3.8/site-packages/selenium/webdriver/remote/errorhandler.py\u001b[0m in \u001b[0;36mcheck_response\u001b[0;34m(self, response)\u001b[0m\n\u001b[1;32m    240\u001b[0m                 \u001b[0malert_text\u001b[0m \u001b[0;34m=\u001b[0m \u001b[0mvalue\u001b[0m\u001b[0;34m[\u001b[0m\u001b[0;34m'alert'\u001b[0m\u001b[0;34m]\u001b[0m\u001b[0;34m.\u001b[0m\u001b[0mget\u001b[0m\u001b[0;34m(\u001b[0m\u001b[0;34m'text'\u001b[0m\u001b[0;34m)\u001b[0m\u001b[0;34m\u001b[0m\u001b[0;34m\u001b[0m\u001b[0m\n\u001b[1;32m    241\u001b[0m             \u001b[0;32mraise\u001b[0m \u001b[0mexception_class\u001b[0m\u001b[0;34m(\u001b[0m\u001b[0mmessage\u001b[0m\u001b[0;34m,\u001b[0m \u001b[0mscreen\u001b[0m\u001b[0;34m,\u001b[0m \u001b[0mstacktrace\u001b[0m\u001b[0;34m,\u001b[0m \u001b[0malert_text\u001b[0m\u001b[0;34m)\u001b[0m\u001b[0;34m\u001b[0m\u001b[0;34m\u001b[0m\u001b[0m\n\u001b[0;32m--> 242\u001b[0;31m         \u001b[0;32mraise\u001b[0m \u001b[0mexception_class\u001b[0m\u001b[0;34m(\u001b[0m\u001b[0mmessage\u001b[0m\u001b[0;34m,\u001b[0m \u001b[0mscreen\u001b[0m\u001b[0;34m,\u001b[0m \u001b[0mstacktrace\u001b[0m\u001b[0;34m)\u001b[0m\u001b[0;34m\u001b[0m\u001b[0;34m\u001b[0m\u001b[0m\n\u001b[0m\u001b[1;32m    243\u001b[0m \u001b[0;34m\u001b[0m\u001b[0m\n\u001b[1;32m    244\u001b[0m     \u001b[0;32mdef\u001b[0m \u001b[0m_value_or_default\u001b[0m\u001b[0;34m(\u001b[0m\u001b[0mself\u001b[0m\u001b[0;34m,\u001b[0m \u001b[0mobj\u001b[0m\u001b[0;34m,\u001b[0m \u001b[0mkey\u001b[0m\u001b[0;34m,\u001b[0m \u001b[0mdefault\u001b[0m\u001b[0;34m)\u001b[0m\u001b[0;34m:\u001b[0m\u001b[0;34m\u001b[0m\u001b[0;34m\u001b[0m\u001b[0m\n",
            "\u001b[0;31mNoSuchElementException\u001b[0m: Message: no such element: Unable to locate element: {\"method\":\"xpath\",\"selector\":\"//*[@id=\"clip_list\"]/div[1]/div/div/dl/dt/a\"}\n  (Session info: chrome=86.0.4240.183)\n"
          ]
        }
      ]
    },
    {
      "cell_type": "code",
      "metadata": {
        "id": "xMJigOUzR5Sr"
      },
      "source": [
        ""
      ],
      "execution_count": null,
      "outputs": []
    },
    {
      "cell_type": "code",
      "metadata": {
        "scrolled": true,
        "id": "9ncKZdqER5St",
        "outputId": "58a96e10-f236-42c0-e857-1b0d86bac079"
      },
      "source": [
        "comment=[]\n",
        "xpath='//*[@id=\"cbox_module\"]/div/div[8]/div/a[{}]'\n",
        "for i in var_list :       \n",
        "    html= driver.page_source\n",
        "    soup= BeautifulSoup(html, 'lxml')\n",
        "    data=soup.find_all(\"div\",{'class':\"u_cbox_text_wrap\"})\n",
        "    a=[i.get_text() for i in soup.select('div.u_cbox_text_wrap')]\n",
        "    comment.append(a)\n",
        "    \n",
        "    driver.execute_script(\"window.scrollTo(0, document.body.scrollHeight);\")   \n",
        "    driver.find_element_by_xpath(xpath.format(i)).click()\n",
        "    time.sleep(1)\n",
        "    \n",
        "driver.get(url)\n",
        "time.sleep(0.5)\n",
        "list_xpath='//*[@id=\"clip_list\"]/div[{}]/div/div/dl/dt/a'\n",
        "driver.find_element_by_xpath(list_xpath.format(j)).click()\n",
        "time.sleep(0.5)"
      ],
      "execution_count": null,
      "outputs": [
        {
          "output_type": "error",
          "ename": "NoSuchElementException",
          "evalue": "Message: no such element: Unable to locate element: {\"method\":\"xpath\",\"selector\":\"//*[@id=\"cbox_module\"]/div/div[8]/div/a[1]\"}\n  (Session info: chrome=86.0.4240.183)\n",
          "traceback": [
            "\u001b[0;31m---------------------------------------------------------------------------\u001b[0m",
            "\u001b[0;31mNoSuchElementException\u001b[0m                    Traceback (most recent call last)",
            "\u001b[0;32m<ipython-input-146-93e77d65979b>\u001b[0m in \u001b[0;36m<module>\u001b[0;34m\u001b[0m\n\u001b[1;32m     10\u001b[0m \u001b[0;34m\u001b[0m\u001b[0m\n\u001b[1;32m     11\u001b[0m     \u001b[0mdriver\u001b[0m\u001b[0;34m.\u001b[0m\u001b[0mexecute_script\u001b[0m\u001b[0;34m(\u001b[0m\u001b[0;34m\"window.scrollTo(0, document.body.scrollHeight);\"\u001b[0m\u001b[0;34m)\u001b[0m\u001b[0;34m\u001b[0m\u001b[0;34m\u001b[0m\u001b[0m\n\u001b[0;32m---> 12\u001b[0;31m     \u001b[0mdriver\u001b[0m\u001b[0;34m.\u001b[0m\u001b[0mfind_element_by_xpath\u001b[0m\u001b[0;34m(\u001b[0m\u001b[0mxpath\u001b[0m\u001b[0;34m.\u001b[0m\u001b[0mformat\u001b[0m\u001b[0;34m(\u001b[0m\u001b[0mi\u001b[0m\u001b[0;34m)\u001b[0m\u001b[0;34m)\u001b[0m\u001b[0;34m.\u001b[0m\u001b[0mclick\u001b[0m\u001b[0;34m(\u001b[0m\u001b[0;34m)\u001b[0m\u001b[0;34m\u001b[0m\u001b[0;34m\u001b[0m\u001b[0m\n\u001b[0m\u001b[1;32m     13\u001b[0m     \u001b[0mtime\u001b[0m\u001b[0;34m.\u001b[0m\u001b[0msleep\u001b[0m\u001b[0;34m(\u001b[0m\u001b[0;36m1\u001b[0m\u001b[0;34m)\u001b[0m\u001b[0;34m\u001b[0m\u001b[0;34m\u001b[0m\u001b[0m\n\u001b[1;32m     14\u001b[0m \u001b[0;34m\u001b[0m\u001b[0m\n",
            "\u001b[0;32m~/anaconda3/lib/python3.8/site-packages/selenium/webdriver/remote/webdriver.py\u001b[0m in \u001b[0;36mfind_element_by_xpath\u001b[0;34m(self, xpath)\u001b[0m\n\u001b[1;32m    392\u001b[0m             \u001b[0melement\u001b[0m \u001b[0;34m=\u001b[0m \u001b[0mdriver\u001b[0m\u001b[0;34m.\u001b[0m\u001b[0mfind_element_by_xpath\u001b[0m\u001b[0;34m(\u001b[0m\u001b[0;34m'//div/td[1]'\u001b[0m\u001b[0;34m)\u001b[0m\u001b[0;34m\u001b[0m\u001b[0;34m\u001b[0m\u001b[0m\n\u001b[1;32m    393\u001b[0m         \"\"\"\n\u001b[0;32m--> 394\u001b[0;31m         \u001b[0;32mreturn\u001b[0m \u001b[0mself\u001b[0m\u001b[0;34m.\u001b[0m\u001b[0mfind_element\u001b[0m\u001b[0;34m(\u001b[0m\u001b[0mby\u001b[0m\u001b[0;34m=\u001b[0m\u001b[0mBy\u001b[0m\u001b[0;34m.\u001b[0m\u001b[0mXPATH\u001b[0m\u001b[0;34m,\u001b[0m \u001b[0mvalue\u001b[0m\u001b[0;34m=\u001b[0m\u001b[0mxpath\u001b[0m\u001b[0;34m)\u001b[0m\u001b[0;34m\u001b[0m\u001b[0;34m\u001b[0m\u001b[0m\n\u001b[0m\u001b[1;32m    395\u001b[0m \u001b[0;34m\u001b[0m\u001b[0m\n\u001b[1;32m    396\u001b[0m     \u001b[0;32mdef\u001b[0m \u001b[0mfind_elements_by_xpath\u001b[0m\u001b[0;34m(\u001b[0m\u001b[0mself\u001b[0m\u001b[0;34m,\u001b[0m \u001b[0mxpath\u001b[0m\u001b[0;34m)\u001b[0m\u001b[0;34m:\u001b[0m\u001b[0;34m\u001b[0m\u001b[0;34m\u001b[0m\u001b[0m\n",
            "\u001b[0;32m~/anaconda3/lib/python3.8/site-packages/selenium/webdriver/remote/webdriver.py\u001b[0m in \u001b[0;36mfind_element\u001b[0;34m(self, by, value)\u001b[0m\n\u001b[1;32m    974\u001b[0m                 \u001b[0mby\u001b[0m \u001b[0;34m=\u001b[0m \u001b[0mBy\u001b[0m\u001b[0;34m.\u001b[0m\u001b[0mCSS_SELECTOR\u001b[0m\u001b[0;34m\u001b[0m\u001b[0;34m\u001b[0m\u001b[0m\n\u001b[1;32m    975\u001b[0m                 \u001b[0mvalue\u001b[0m \u001b[0;34m=\u001b[0m \u001b[0;34m'[name=\"%s\"]'\u001b[0m \u001b[0;34m%\u001b[0m \u001b[0mvalue\u001b[0m\u001b[0;34m\u001b[0m\u001b[0;34m\u001b[0m\u001b[0m\n\u001b[0;32m--> 976\u001b[0;31m         return self.execute(Command.FIND_ELEMENT, {\n\u001b[0m\u001b[1;32m    977\u001b[0m             \u001b[0;34m'using'\u001b[0m\u001b[0;34m:\u001b[0m \u001b[0mby\u001b[0m\u001b[0;34m,\u001b[0m\u001b[0;34m\u001b[0m\u001b[0;34m\u001b[0m\u001b[0m\n\u001b[1;32m    978\u001b[0m             'value': value})['value']\n",
            "\u001b[0;32m~/anaconda3/lib/python3.8/site-packages/selenium/webdriver/remote/webdriver.py\u001b[0m in \u001b[0;36mexecute\u001b[0;34m(self, driver_command, params)\u001b[0m\n\u001b[1;32m    319\u001b[0m         \u001b[0mresponse\u001b[0m \u001b[0;34m=\u001b[0m \u001b[0mself\u001b[0m\u001b[0;34m.\u001b[0m\u001b[0mcommand_executor\u001b[0m\u001b[0;34m.\u001b[0m\u001b[0mexecute\u001b[0m\u001b[0;34m(\u001b[0m\u001b[0mdriver_command\u001b[0m\u001b[0;34m,\u001b[0m \u001b[0mparams\u001b[0m\u001b[0;34m)\u001b[0m\u001b[0;34m\u001b[0m\u001b[0;34m\u001b[0m\u001b[0m\n\u001b[1;32m    320\u001b[0m         \u001b[0;32mif\u001b[0m \u001b[0mresponse\u001b[0m\u001b[0;34m:\u001b[0m\u001b[0;34m\u001b[0m\u001b[0;34m\u001b[0m\u001b[0m\n\u001b[0;32m--> 321\u001b[0;31m             \u001b[0mself\u001b[0m\u001b[0;34m.\u001b[0m\u001b[0merror_handler\u001b[0m\u001b[0;34m.\u001b[0m\u001b[0mcheck_response\u001b[0m\u001b[0;34m(\u001b[0m\u001b[0mresponse\u001b[0m\u001b[0;34m)\u001b[0m\u001b[0;34m\u001b[0m\u001b[0;34m\u001b[0m\u001b[0m\n\u001b[0m\u001b[1;32m    322\u001b[0m             response['value'] = self._unwrap_value(\n\u001b[1;32m    323\u001b[0m                 response.get('value', None))\n",
            "\u001b[0;32m~/anaconda3/lib/python3.8/site-packages/selenium/webdriver/remote/errorhandler.py\u001b[0m in \u001b[0;36mcheck_response\u001b[0;34m(self, response)\u001b[0m\n\u001b[1;32m    240\u001b[0m                 \u001b[0malert_text\u001b[0m \u001b[0;34m=\u001b[0m \u001b[0mvalue\u001b[0m\u001b[0;34m[\u001b[0m\u001b[0;34m'alert'\u001b[0m\u001b[0;34m]\u001b[0m\u001b[0;34m.\u001b[0m\u001b[0mget\u001b[0m\u001b[0;34m(\u001b[0m\u001b[0;34m'text'\u001b[0m\u001b[0;34m)\u001b[0m\u001b[0;34m\u001b[0m\u001b[0;34m\u001b[0m\u001b[0m\n\u001b[1;32m    241\u001b[0m             \u001b[0;32mraise\u001b[0m \u001b[0mexception_class\u001b[0m\u001b[0;34m(\u001b[0m\u001b[0mmessage\u001b[0m\u001b[0;34m,\u001b[0m \u001b[0mscreen\u001b[0m\u001b[0;34m,\u001b[0m \u001b[0mstacktrace\u001b[0m\u001b[0;34m,\u001b[0m \u001b[0malert_text\u001b[0m\u001b[0;34m)\u001b[0m\u001b[0;34m\u001b[0m\u001b[0;34m\u001b[0m\u001b[0m\n\u001b[0;32m--> 242\u001b[0;31m         \u001b[0;32mraise\u001b[0m \u001b[0mexception_class\u001b[0m\u001b[0;34m(\u001b[0m\u001b[0mmessage\u001b[0m\u001b[0;34m,\u001b[0m \u001b[0mscreen\u001b[0m\u001b[0;34m,\u001b[0m \u001b[0mstacktrace\u001b[0m\u001b[0;34m)\u001b[0m\u001b[0;34m\u001b[0m\u001b[0;34m\u001b[0m\u001b[0m\n\u001b[0m\u001b[1;32m    243\u001b[0m \u001b[0;34m\u001b[0m\u001b[0m\n\u001b[1;32m    244\u001b[0m     \u001b[0;32mdef\u001b[0m \u001b[0m_value_or_default\u001b[0m\u001b[0;34m(\u001b[0m\u001b[0mself\u001b[0m\u001b[0;34m,\u001b[0m \u001b[0mobj\u001b[0m\u001b[0;34m,\u001b[0m \u001b[0mkey\u001b[0m\u001b[0;34m,\u001b[0m \u001b[0mdefault\u001b[0m\u001b[0;34m)\u001b[0m\u001b[0;34m:\u001b[0m\u001b[0;34m\u001b[0m\u001b[0;34m\u001b[0m\u001b[0m\n",
            "\u001b[0;31mNoSuchElementException\u001b[0m: Message: no such element: Unable to locate element: {\"method\":\"xpath\",\"selector\":\"//*[@id=\"cbox_module\"]/div/div[8]/div/a[1]\"}\n  (Session info: chrome=86.0.4240.183)\n"
          ]
        }
      ]
    },
    {
      "cell_type": "code",
      "metadata": {
        "id": "oG8ETQ_oR5Sv"
      },
      "source": [
        "//*[@id=\"cbox_module\"]/div/div[8]/div/a[1]"
      ],
      "execution_count": null,
      "outputs": []
    },
    {
      "cell_type": "code",
      "metadata": {
        "id": "LpWpggGlR5Sw",
        "outputId": "71ef935a-e7b3-4ab9-af7e-540e2a5d9009"
      },
      "source": [
        "comment"
      ],
      "execution_count": null,
      "outputs": [
        {
          "output_type": "execute_result",
          "data": {
            "text/plain": [
              "[['접어라 ~~ 가즈아',\n",
              "  '아르바이트부터 해보면 어떨까?',\n",
              "  '와~~~피자집 사장님! 대박이네요..요리의 기본은 알고하시는 분인지 의심스럽네요!피자접고 동호회의주로? 뭐 갠 생각이니...한마디로 1도 받아들이거나 개선할 생각없음으로 들림!누구의 피와 살이 될런지...심히 걱정됩니다세상살이 넘 만만히 보시다 큰 코 다치시겠다',\n",
              "  '그냥 장사 접자',\n",
              "  '캬 결국 버림받앗네 ㅋㅋ',\n",
              "  '피자가게에 와인잔이 왜걸려있을까',\n",
              "  '뇌를뜯어보고싶다',\n",
              "  '사장님, 응원합니다~~♡',\n",
              "  '진짜 이 방송으로 조보아한테 반하게 됐다.. 어찌 사람이 저렇게 이쁘지..',\n",
              "  '일안하고 평생 놀면서 살려는 타입.. 부모 잘 만난 걸 행운으로 알아라.',\n",
              "  '매사 다른사람의 입장에서 생각하는 습관을 들이셔야겠어요..도통 벽이라ㅠㅠ 심성이 나쁘신분은 아닌거같은데...',\n",
              "  '진짜 더러워서 안먹고 싶음',\n",
              "  '기초도 커녕  마인드도 안된자가 가게하면 공공의적이다. . 잘못먹고 병이라도 나면 누가 책임지나',\n",
              "  '마지막 20인분 만들고, 백종원님이 조언해준 다음 나설 때조차 감사인사 조차 없던..!너무 놀랐네요...ㅠㅠ 고민 많이 해보시고 뭐든 일하시길 바래요.',\n",
              "  '이새기 얼굴만보면 재수때가리가없냐',\n",
              "  '진짜 재방은 언제까지 하는지 피자 이해 못하는 사장님이나 재방 계속하는 티비나 좀 적당히 하세요',\n",
              "  'OoO님 조보아가 자기하고 싶어해요 조보아랑 백종원이랑 상황실 같이 있으면 좀 불편해요 김성주가 가운데 있어야 편해요 김성주 화이팅',\n",
              "  '꼭 힘든 건 조보아만 시키더라... 김성주는도대체 무슨 역할이냐.. 이럴거면 백종원이랑 조보아 2인체제로 가라 제발.. 하기 싫은 건 다 조보아 시킴..',\n",
              "  '지랄이 풍년이네~~~',\n",
              "  '자아 성찰은 무슨..끝까지 손님들에게 그리고 자신의 태도에 대해 뉘우치는 기색 전혀 없구만~평생 요리하지 마시고요 요리사 이름 먹칠하지 마세요 돈 많다고 개념 밥 말아먹으신 분이?!'],\n",
              " ['그래도 마지막 AS는 해주네요. 전에 경양식집이 워낙 뒷말이 많아서 그런가..',\n",
              "  '더 못생겨졌넹 ㅎ 머리 스타일도 못생겨졌어 ㅠㅠ',\n",
              "  '장사 안해도 생계엔 문제없는 그냥 배가 부른 인간임. 절실함이란 1도 없고 머리엔 놀고 즐길 생각만 하고 있네',\n",
              "  '조보아 왜캐 이쁜척하냐 어깨에 외투 딱 걸치고 ㅋㅋㅋㅋㅋㅋㅋ난 저 웃음 왜캐 가식같지?',\n",
              "  '잠발라야씨 답없다.',\n",
              "  '어찌사람이그런지솔루션안될꺼라는거알았지만뻔뻔함이극에달하는거같음모임위주로하는돈을차라리불우이웃을도우는게나을듯완전짜증변명만하느라바쁘고가계하고파도못하는사람들이어찌나많은데참나',\n",
              "  '모임위주로 한다는거보고 건물주 확실하다고 생각했다 작은규모도 아니고 월세내면서 어케 모임위주로 장사를하지 나같으면 무릎꿇고 도와달라 빌었음',\n",
              "  '장사안하는게 나을듯 기본부터 다시배워야 할듯. 두번다시 보고싶지 않네',\n",
              "  '[ 피자집 사장님을 보면서 -- 주변상황에 대한 눈치가 아주 약합니다. - 뭐라하지 마세요. ] 과정은 설명하기 힘드나, 상황에 따라서 주변을 살피즌 능력이 딸리기에 변명하기에 급급하죠. 이분 인간성이 잘못되서 그런 것이 아닙니다. 분명 사람들로부터 오해를 받을 수 있는 부분이죠. 그러나, 님들이 이제껏 살아오면서 느껴보지 못하는 부분들입니다. 응애~~하면서 태어나서 부모와의 교감....성장기....',\n",
              "  \"[ 피자집 사장님을 보면서 -- 이분 태생적으로 몰라서 이럽니다. - 답답하시죠들 ? ] 골목식당을 애청하는 1인입니다. 피자집사장님의 언행을 보자면, 대다수는 화가 날 겁니다. 그런데 이런 말을 하고싶네요. 피자집 사장님은.... 사람들에게 잘하고 싶은데.... 뜻대로 되지를 않습니다. 이 분은 오감에 있어서 '자기몰입형'입니다. 주변을 향한 눈치가 약합니다. 너무 핀잔 주지 마세요. 오히려 주변인분들이 응원해 주시면, 더 잘 할 분입니다.\",\n",
              "  '조보아 꼴베기싫다 좀바꿔라ㅡㅡ가식적인조보아',\n",
              "  '여유있게 장사??있는분이니 그렇지ㅠ근데 왜 솔루션해주지',\n",
              "  '배드민턴 모임? 봉사모임? 전국에 계신 자영업을 하시는 사장님들은 안하고 싶어서 안하는가? 다 가족 먹여 살릴려고 죽자살자 열씨미 일하고 계시는데, 이렇게 태평하게 말만 늘어놓는 당신은 머리에 똥만 차 들었다는 말밖에는... 준비가 미흡했다?? 맞다! 미흡해도 너무 심하게 미흡했다. 그걸 아는 사람이 준비도 안하고, 노력도 안하는가? 당신은 국민들, 그리고 자영업 하시는 분들께 큰 실수를 한거다. 당신은 그냥 숨 죽이고, 산에가서 혼자 사는게 바람직하다 본다. 이런 서비스업은 당신한테 전혀 안어울린다. 이제부터, 당신은 모든 국민들한테 질타를 엄청 받을것이다. 각오를 해야 할것이다.',\n",
              "  '이제좀살거같다 재방으로도보기싫타',\n",
              "  '피자집은  어떻게하든 피해갈려구만하나 핑계만은사람은  믿음이 안가 졸라 짜증나네  요리 공부 안한 인간아닌가? 핑계라도 되지말아야지',\n",
              "  '피자집은  어떻게하든 피해갈려구만하나 핑계만은사람은  믿음이 안가 졸라 짜증나네  요리 공부 안한 인간아닌가? 핑계라도 되지말아야지',\n",
              "  '피자집사장도답이없고..시식단도 무조건 까러오는사람들인거같음..',\n",
              "  'ㅋ 맞다......아저씨는 음식장사는 안맞아',\n",
              "  '역시 더 자극적이고 더 막장을 시청자는 원합니다 더 심한걸로 갑시다 어차피 백종원도 시청률 나오는거 원하니 그래야 욕하믄서 사람들이 더봅니다',\n",
              "  '고로케집은 왜 갑자기 사라진거에요?'],\n",
              " ['이 사람은 힘들게 돈을 벌 생각이 없었어.. 하루에 몇 테이블만 받아서 그냥 새로운 사람들이랑 놀면서 살고싶은거야ㅋㅋ 음식은 거들뿐 맛이 중요한게 아닌거지..백종원이 사람만들려고 고생만한거지 그냥 헛수고',\n",
              "  '요리가 장난인줄 아네ㅉㅉㅉ 허세만 잔뜩들어서는 국수조차 못만들면서 외국음식은ㅡㅡ꼴깝도 가지가지다ㅉㅉㅉ',\n",
              "  '진짜 이기적인 🐦 2',\n",
              "  '저런사람도 보아언니 만나는데 나는ㅜㅜ',\n",
              "  '조보아 극한직업 ㅋㅋㅋ',\n",
              "  '부모가 너무 오냐오냐 키워서 잘못 자란 케이스 분명 부모의 잘못이야',\n",
              "  'ㅋㅋ 말만 청산유수네',\n",
              "  '건물주를 왜 도와주는데 짱나네',\n",
              "  '진짜 방송쪽이 양ㅇ치라고 느껴지는게 피자집 사장 문제는 있지만, 푸드트럭때 부터 이전 출연자들도 만만치않는 사람들로 넘쳐났지만 솔루션 가고, 결국 해피 엔딩으로 끝났음...하지만 최초로 이번 피자집, 고로케 집 솔루션 못받고 끝난 진짜 이유는 둘 다 좀 사는집안 사장님들인데 그게 인터넷에 떠돌고 사실이니까 방송 관계자들도 난감해짐...결국 과감히 금수저 두 출연자 컷트하고, 항상 그랬듯이 최악이여도 끌고 가서 솔루션으로 변화를 주는 뻔한 진부한 결과에 반전도 주는 두마리 토끼를 동시에 잡음...냉정히 피자집 확실히 문제지만, 위에서도 말했듯이 푸드트럭때 부터 더 심한 출연자들 정말 많았음.',\n",
              "  '뭔 말할때나 가만 있을 때도 계속 손으로 얼굴기름 더덕더덕 뭍이고 또 그 손으로 요리재료 만지고 그러던데 어후...',\n",
              "  '고로케 집 피자 집 보고 느낀 건데, 얘네는 박리다매 죽어라 하며 돈 벌고싶은 사람들이 절대 아님. 자기 여유시간 가지면서 부업식으로 가게를 운영하고 돈도 벌고 싶어하는 거 같음. 그럼 얘네는 백종원식 박리다매 스타일로 솔루션 받으면 안됨. 고로케를 재래시장 가격에 맞춰서 솔루션해줄게 아니라, 그 사장이 정말 차별화된 고급화된 고로케를 추구한다면 아예 고급식으로 가는 게 맞음. 1분에 8개를 말고 그런 속도전보다, 정말 고급재료 푸짐한 재료 2,000원대 고로케 그걸 맞춰주는 게 맞았음. 어차피 그 애 자체가 시간경쟁으로 죽어라 반죽만 마는 일을 하고싶었던 애가 아님. 피자집도 마찬가지. 손님 와서 수다떨고 봉사활동하고 배드민턴 치면서 소소히 가게 운영될 정도만 하고싶었던 애. 차별화고급화 전략으로 해야함',\n",
              "  '머리숱은 진짜 많다',\n",
              "  '골목식당 제작진 PD 님들아.. 진짜 작작합시다;; 화제성만 밝히지 마십시오. 홍탁집도 개판이지만... 뒤이어서 이번엔 피자집... 이렇게 안하면 골목식당이 안된답니까? 골목식당이 언제부터 사람 갱생 프로그램이였습니까?? 프로그램의 목적성을 잃어버린 것 같네요.진정으로 간절히 원하시는 분들의 고민들을 해결해주고 해결되어가는 모습에서 진정성을 보고, 보는사람이 위안을 얻고 위로를 받는데 인간 갱생프로그램입니까, 홍탁집이나 피자집 주인만 나오면 채널 돌리네요. 해도그만, 안해도 그만인 사람들말고.. 진짜 간절히 원하시는 분들께 그 기회가 돌아갔으면 좋겠네요. 보는 내내 인상찌푸려지네요.',\n",
              "  '본인 인싸됐다고 엄청좋아하든데 ㅎㅎㅎㅎ 모질라... 참',\n",
              "  '가벼운 입을 좀 막고, 생각은 좀 무겁게 하고 인생살아가시길...',\n",
              "  '사람 자체는 착하다. 투표 결과에도 수용한다고 인정하고 첫회보고 도마 옆에 끼고 일한 자기 잘못도 인정하는걸 보면 사람은 착함. 단지 식당 사장의 기본자세가 없었을 뿐임.. 고로케가 진짜 나빴지. 백종원이 피드백 해줘도 자기 잘못을 인정 안하고 대구 청년구단에서 막걸리 사장을 보는거 같았음. 난 개인적으로 피자사장 사람 자체를 나쁘게 보진 않음. 근데 식당을 앞으로 하실거면 제대로 준비하고 하셔야할듯.',\n",
              "  '건물주 아들이면   지금자리 월세 주고 세받아먹는게 ㅋㅋㅋ',\n",
              "  '시작전 청각장애인 택시 광고가 너무 감동적이어요,',\n",
              "  '인성은 괜찮으신대 장사는 하지마세요 절대로',\n",
              "  '에효.... 내 동생이 저래.....제일 지 인생에 중요한거를 메인에 두어야하는데... 부차적인 거 신경쓰고 열심히 하는거...지금 아둥바둥 연습하고 고민해도 모자른데... 모임은 그대 인생을 해결해주지 않아요....잠깐 스트레스를 풀지는 모르겠지만...'],\n",
              " ['장사 시작한지 얼마안되서 준비가 안된게 아니라 그냥 기본이 안되있었다. 장사뿐일까? 그 마인드면 유치원생들이 주방놀이 소꿉놀이도 안 놀아줄듯~ 근데 영어 스터디 튜터 같은거 하면 잘 할거같다. 사람 좋아하고 노는거 좋아하고 영어에 자부심 있는듯 하니. 5명정도 모아서 하루 3시간 1인 2만원 정도씩 걷고 프리토킹 하고 노는걸로 돈 벌어라 그게 낫다~',\n",
              "  '걍 놀자니 뽀데안나고 다른거 하자니 그도 재주 없고~~심심풀이로 식당 열고 있는거면 돈 없는 영세업자에게 가게 내주고 오며가며들러서 커피나한잔씩 얻어먹으며 살지.',\n",
              "  '사람들이 이걸보고 양심없고 소질없는 자영업자가 없었으면 좋겠어요',\n",
              "  '아오OOOㅋㅋ그냥장사하지맠ㅋㅋ',\n",
              "  '장사가 너무 잘되도 혼자서 어떻게 할까????',\n",
              "  '근데 제작진들도 시청률 올릴라고 저 사람 욕먹을거 알고 섭외한거 같은데 좀 그렇다 이렇게 될꺼면 섭외를 말아야지 전국민한테 욕먹는거 보통 멘탈로는 버티기 힘들건데 에휴 사람은 좋은 분 같은데',\n",
              "  '시청률은 잘나왔겠네  큰그림 그리셨구나 제작진분들시청자와 저런분 섭외한 제작진의 콜라보',\n",
              "  '이른 시기라기 보다는 나이가 잇는분이니 바뀌기는 힘들꺼고그냥 이 행운을 받을수 없는사람이죠',\n",
              "  '핑계는 이유있는 핑계라야 국민들이 이해를 하지!이유같지 않은 핑계로 국민들을 당신(피자집) 생각에 맞추지 말아요~ 당신(피자집)& 고로케는 정신차릴려면, 한참 멀었어요~남자들이 무슨 그런 핑계를 대는건지?? 같은 남자로써 정말 열받는 말만 늘어 놓네요~ 그러니 방송에 나와도 소득도 없이 욕만 무지하게 먹네요~ 자신이 무얼 잘못했고, 또 어찌 해야 하는지 스스로 깨우치시기를... 그리고 고로케집은 백종원 대표님께서 조언을 해주실때, 한쪽팔은 테이블에 기대고 하는 모습이 정말 보기 싫었습니다. 그래도 사람에게 기본적인 예의가 있는법, 듣는 자세에도 그 사람을 알수 있습니다. 건들거리는 것 또한 피자집 못지 않게 불편하군요~ 정신들 차리세요~',\n",
              "  '아진짜 짜증나서 못보겠네 태어나서 첨 댓글다네여피자집사장은 음식에 대해서도 모르고, 음식도 못하는 사람이 왜 음식장사를 하는건지 저런사람은 장사를 못하게 하거나 아예 창업자체를 못하게 해야되는 법이라도 있었으면 좋겠다는 생각까지 했다 음식장사 정말 정성을 다해서 열심히 하시는 분들에게 욕보이는 짓이지ᆢ 손이 느린게 아니고 개을러 터진거고 그나이에 생각이란 자체가 없는사람이다',\n",
              "  '척!',\n",
              "  '이사람 어떻게 보면 좀 불쌍하다금수저라는데 왜 틱장애인지 불안장애같은게왔지?? 가끔 있는집 애가 폭력적이거나 갑질하는건봤어도 저런느낌아니고뻔뻔한만큼 당당하게 지내던데..',\n",
              "  '장사가 잘되면 그것도 걱정 ㅋㅋㅋㅋㅋㅋㅋㅋㅋㅋㅋㅋㅋ이래ㅋㅋㅋㅋㅋㅋ 아 측은했는데역시나... 사람은 안변해요 ㅋㅋㅋㅋㅋㅋ',\n",
              "  '사람은 나쁘지 않은데, 요리하는 사람으로서는 너무 별로에요....',\n",
              "  '그냥봐도 나쁜사람처럼 보이지 않는데 왜 이렇게 다들 비난하시나요? 상대방이 받을 상처는 생각안하고 그냥 아무렇지 않게 글을 남기시는겁니까?  보기 싫으면 본인이 TV를 안보면 되는거고 우리나라 댓글 문화 너무 마녀사냥이 지나친거 같네요 댓글도 실명제와 나이를 공개하는게 좋을것 같네요~그냥 본인과 생각이 다르면 다 잘못된 사람처럼 보이시나요? 모든사람들이 다 똑같을 수는 없고 그냥 다르다는걸 인정하시면 되는겁니다. 솔루션을 받아야 하는 부분이 오로지 레시피에만 달려 있는것이 아니라 장사를 하는 마인드 조차도 솔루션이 필요한겁니다. 물론 개인의 노력에 차이는 있겠지만 그 노력또한 사람마다 자기 그릇이 다르기때문에 함부로 판단해서는 안된다고 생각합니다.',\n",
              "  '제발 여기랑 고로케집은 방송나가도 사람들이 안가줬으면 좋겠다',\n",
              "  '건물주 아들 맞나보네. 가게세 내려면 죽기살기로 벌어야 적자 안날텐데 저렇게 태평스럽게 모임 얘기나 하는거보니.',\n",
              "  '모임 나갔다고ㅜ?정신 못차린다,,,,나 같음 옆집들 장사 잘되는거 보면 속상하고 이겨 낼려고 이를 갈건데,,,진짜 결혼하지말고 혼자 사세요 귀한집 딸 데려다 고생시키지말고ㅜ',\n",
              "  '성격진짜 맘에 안들어 능력없으면서 뻔뻔하달까 배우고자하는자세가 안되어있음',\n",
              "  '머리에 무스 바르는동안 연습좀 하지 ㅋㅋㅋㅋㅋㅋㅋ 참 건물주 아들이라 부러구만 ㅋㅋㅋㅋㅋㅋㅋㅋㅋㅋ고생없이 이득보려는 인간 부류'],\n",
              " ['형 유튜브 해봐~ 구독자 10만은 거뜬 할 듯.',\n",
              "  '이사람은 더 고생하고 배고파봐야한다마지막 인터뷰인데도 듣고 있으니 속터짐이른시기에 온 행운이라 제대로 받아들이질 못한게아니라 아마 언제 왔어도 절대 못잡았을 행운이다 정신상태, 마인드가 이미 노답~',\n",
              "  '보아가 뭔 죄야 ㅋ',\n",
              "  '생겨먹은게 양아치같이 생겼냐',\n",
              "  '진짜 신청자 분들도 대단하시고 내가 이렇게 성질을 오래 참은 것도 대단하다...내가 저기에 있으면 표정도 확 바뀔텐데..진짜 까오+더러움+싸가지 등 이런거 참느라 고생하신 신청자에게 감사해라!! 내가 솔루션 실패를 하면 어떻게 되는지 똑똑히 알려준다.(솔루션 못 받음=노답 가게라는 걸 증명함=망하는건 순식간) 까오라도 좀 풀어라 진짜 내가 저기 피자집 갔는데 까오부리면 내가 싸움을 접은지 1달도체 안되서 다시 하게 된다!! 까오라도 좀 풀고 다녀라 예전에 찐따였냐? 폼은 겁나게 잡네🤬',\n",
              "  '배드민턴칠때 존나 패배 인정안할거같음 (채가 안좋아서 졌다 )',\n",
              "  '나쁜사람은 아닌데.. 안타깝네요.',\n",
              "  '장사가 잘 됐어도..?',\n",
              "  '3:11 조보아 \"아휴\" 진짜 많은게 담은 한숨이었닼ㅋㅋㅋㅋㅋㅋ',\n",
              "  '참 ..ㅠ',\n",
              "  '사장님이정신적으로 문제가 있든데...',\n",
              "  '건물주 아들이신데 보증금, 임대료 걱정도 없으니 무인기 카페 장사를 하심을 추천 드립니다.',\n",
              "  '여유되니 봉사하고 놀고 좋겠다',\n",
              "  '사람은 좋아보이던데...인심공격은 하지말자',\n",
              "  '봉사 하는거나 그런거 보면 이거임.모임같은데 나가면서 주변 지인들하고 친목쌓고 좀 인싸되었으니까 방송 나가서 돈도 벌어보려하다가 망하고.. 차라리 방송 나오지말고 꾸준히 봉사나 하시면서 사시지...그게 더 바람직할듯. 그래도 자원 봉사를 할줄 안다는 것은 어느정도 선의를 가진 사람이라는 건데...괜히 방송나와서 자기 없는 요리실력 보여주다 욕먹고ㅋㅋㅋ...그냥 저 사람은 방송이나 요리나 요식업에는 손 안대는 것이나을듯',\n",
              "  '그래도 마지막멋있네요 조보아도 울고',\n",
              "  '조보아 왜케 이뻐~~♡♡♡',\n",
              "  '진짜 댓글 잘 안다는데 이거는 달아야 겠다는 생각이 들어서 남기는데...이분은 아직까지도 뭐가 뭔지 모르시는것 같네요이런 인터뷰도 왜 했는지...말 속에서 절실함이라던가 본인의 문제점 인식이 느껴지지 않아서 안타깝네요사람은 고쳐쓰는 거 아니라는 말이 문득 납니다',\n",
              "  '이분 영어학원 차리는게...',\n",
              "  '사람대하는 서비스직은 지금 당장 저 사람은 못해냄. 요새 초중딩들이 말빨 더 세고 똑똑한데ㅋㅋㅋㅋㅋㅋ 학생들이 속 뒤집어져서 먼저 그만두고 학부모들 학원 뒤엎음ㅋㅋㅋㅋㅋㅋ돈 많으니까 봉사일이나 배워라'],\n",
              " ['댓글보니 강사 일 말하는 분들 계시는데.. 강사일도 뭐 아무나 하는 건가... ㅋㅋㅋㅋㅋ 강사도 서비스직인데 절대 저 사람은 못함',\n",
              "  '방송타서 어떻해보려는 의도  동네 마다 저런집있어요',\n",
              "  '체질이 안맞아 ㅋㅋ',\n",
              "  '태도가 아닌듯 장사할사람이 아냐',\n",
              "  '장사를 하겠다는거네',\n",
              "  '배드민턴도 치는입장인데..저런 사람 특징이..후..걍 같이 게임하기 싫은스타일ㅋ',\n",
              "  '이 분은 장사 보다 강사나 선생 했의면 좋겠다',\n",
              "  '그래요 혼자 취미로 하면 되요. 장사와는 인연이 없는 분이신것 같습니다. 본인 인생을 크게 봤을때 몇년을 마음고생하면서 허송세월 보내고 나서야 깨달았을 것들을 컴팩트한 시간에 강력하게 깨우쳐준 백대표에게 평생 감사하면서 사세요',\n",
              "  '조보아는 마주 앉아 있는거 자체가 힘들겠다.',\n",
              "  '욕하지 마라 건물주다.......',\n",
              "  '적성에도 안맞는 음식장사 말고 차라리 좋아하는 배드민턴 용품점을 하세요 ~',\n",
              "  '장사에대해선 욕먹어야할 부분 많지만 장사 외 필요 이상의 욕하는 사람들은 저 사장님보다 훨씬 잘못됐다. 사회부적응자라니 쓰레기라니 .. 꾸준히 자원봉사 다니고 성격은 좋은 사람같은데  겉모습으로 욕하는 사람들은 저사람 욕할 자격도 없음',\n",
              "  '부디 열심히  하셔서  좋은 결과 있으시길 바랍니다~~',\n",
              "  '힘내세요',\n",
              "  '난 진짜 피자집보면서 10대들 장래희망 찾아주는 프로그램임줄알았음 OOO',\n",
              "  '행운은 준비된 사람에게만 찾아오는 건데.....',\n",
              "  '아니 맛이 없다니깐요 맛이ㅋㅋㅋㅋ 맛있게 하면 사람들이 왜 안오겠냐고요?ㅋㅋㅋㅋ',\n",
              "  '군대에가면 저런부류를 고문관이라 부른다ㅋㅋㅋ',\n",
              "  '조보아 너무 착하게 대하는거 같당 ㅋ',\n",
              "  '이른시기에 찾아온 행운이라..개인적으론 그분전국적으로 망신을 당해서 안타깝지만그말 또한 하나의 변명일뿐충분한 시간을 주었음에도 시기 운운할수 있다는건 정말 뻔뻔하다는 생각밖에 안드네요.일년후에 그집에 찾아갔더라면 접객이나 음식맛 뭐가 달라졌을지 의문입니다'],\n",
              " ['눈이 커졌으',\n",
              "  '보아씨 왜보냈냐 제작진 의도 뭐냐 중단할꺼면서 애초에 방송내보내지나 말지 뭐하냐 어그로도 작작해라 제작진 이 이따위니 프로그램상도 못타는거다',\n",
              "  '피자집사장은 학원강사가 어울리는듯외국어를 하니까',\n",
              "  '나쁜사람은 아닌데 방법을 잘 모르시는거같아요.꼭 깨닫길 ..',\n",
              "  '마지막에 고로케집 뭐죠??? 저만 이해못했나요?',\n",
              "  '조보아씨 극한직업이네...',\n",
              "  '사장얼굴 보는순간 알바면접 보는애들 바로 도망간다에 내 손목아지 건다',\n",
              "  '그냥 학원 운영 하셔요.',\n",
              "  '아 보느라 힘들었다.. 수고하셨어요 보아 언니',\n",
              "  '예전에 연예인 문희준을 필요 이상으로 집단 혐오하던 그때 분위기가 생각나네요. 본질은 흐려지고 점점 조롱의 대상으로서만 인식되었죠. 나쁜 사람은 아닌 거 알겠고 솔루션 못 받았으면 그쯤에서들 손가락질은 그만 합시다. 신체적 특징 가지고 비하하는 것도 보기 안좋네요.',\n",
              "  '그래도 칠리덮밥 팔고있는거 보면 백종원아재가 촬영 외로도와주셔서 팔고잇는거아님? 요새 장사 잘된다며',\n",
              "  '제발 귀 뒤 좀 구만 만져 ㅠㅠ',\n",
              "  '찐내남',\n",
              "  '제작진들 참 대단하다. 솔루션은 중단된 상태였는데 방송에는 다 내보낸거야? ㅋㅋㅋ 진짜 너무하네 출연한 사장은 욕먹고 싶어서 나오는줄 아나',\n",
              "  '좋아하는 일과 잘하는 일은 다릅니다 여러분..건물주 아들이든 뭐든..창업을 한다는거 자체가 도전인데..이 일이 나와 안맞는다는 걸 지금에라도 알았으면 된거지..방송 내보내 달라고 로비한것도 아니고..담당피디가 사전미팅 분명히 해봤을텐데..인격 문제를 떠나서..제작진이 화제성으로 시청률 올리려고 사람하나 공개 매장시키는걸로 밖에 안보이는데..맞는 길 찾아가시길 바랍니다..',\n",
              "  '이분은 나쁜사람은 아닌데 뭔가 심하게 특이함.. 쉬는날없이 주말이면 봉사활동가고 모임가고 하는데 사람이랑 어울리는것도 본인이 좋아하고 사회성이 없는건 아닌거같은데 손님대하는거보면 왜그럴까...',\n",
              "  '다른각도에서 보자  당신들이 피자집사장 이면 방송에 내보내라고 했겠는가?  결국 방송은 사람하나 바보만들어서 시청율 올린거 아닌지ㅡ피자집 사장은 공감능력이 떨어지는 우리주위에도 흔치안게 볼수있는 타입의 사람이다 .  어차피 이익본거 하나없는데 방송을 왜 허락 했겠나....제작진은 진심으로  피자집사장에게 사과해야한다',\n",
              "  '근데,착한 집 만 도와주자는 기준은 도데체 어떤기준 방송 카메라 앞에서의 모습? 아니면 그냥 사장님 인상? 여기서 봉사 활동 하는 사람은 피자집 사장 인데..방송이 자극적으로 다뤄서 그렇지 착하고 나쁘고는 아무도 모름...',\n",
              "  '골목식당 제작진 양심있으면 금수저들은 받지 마라 좀 골목상권 뜻도 모르나',\n",
              "  '모임 나가는 것도 유대관계를 배우는 거니까.. 그리고 남을 위해 봉사활동을 하는 것은 본받아야하는 점이다.'],\n",
              " ['방송나가서 젤힘들었을 사람이 본인일텐데멋모르고 시작했던 식당이였으니인생공부했다 생각하시고 ...제작진들도 왠만함절실한 식당주인들 찾아가서 도와주시길^^',\n",
              "  '조보아 언니 좋아하지마',\n",
              "  '뭐 기본이나 서비스가 갖춰지진 않았지만 에이미 세바스찬급이 심성이 아닌건 다행이네요.',\n",
              "  '제작진도 자아성찰 좀 하시길...',\n",
              "  '고로케집은 얼마나 노답이였으면 통편집이냐',\n",
              "  '장사를 취미로 할 수 있다니.. 금수저 부럽다 ',\n",
              "  '봉사하고 그러는거보면 착한 사람같은데 사회성과 공감능력이 결여된거같네요.',\n",
              "  '청파동 틱장애 ㅅㄲ',\n",
              "  '내 눈에 띄면 바로 통수 치며 장사 하지말라고 한다',\n",
              "  '한심이  모질이 몬돌이',\n",
              "  'ㅋㅋㅋㅋㅋㅋㅋㅋㅋㅋㅋㅋㅋ조보아 웃는거ㅋㅋ나같아도 배때기잡고 뒹굴면서 웃을듯',\n",
              "  '고로케 궁금해서 봤는데 이거 뭐 거의 통편집이니 어우 고구마 ...',\n",
              "  '요리계의 김주영쓰앵이 와도 못살린다 여긴',\n",
              "  '우셨나? 부었네',\n",
              "  '무슨복으로 저런 삶을 살지 부럽다',\n",
              "  '나는 이정도욕먹었으면 정신병왔다맨탈좋은거는 부럽네요 ㅋㅋ',\n",
              "  '저런 남자들 특징: 조보아처럼 나긋나긋 억지로 얘기해주면 자기를 좋아하는 줄 알고 고백함. 여자가 거절하면 돌변함',\n",
              "  '구구절절 배부른소리네~ 배고파봐야지~',\n",
              "  '가게가  왜  망하는지  보여주는것같다',\n",
              "  '돈이 얼마나 많으면 저렇게 모임이나 하고 봉사활동 하고 살 수 있지?부럽네'],\n",
              " ['그놈의 배드민턴 하......',\n",
              "  '좀 유명해졌다고 머리도 만진건가....',\n",
              "  '난 조보아가 왜 웃는지 알것같다',\n",
              "  '가게월세도 안내도 되니 걱정할것없고 개인놀이공간간으로 있는 느낌이네요  햄버거가게한테 월세받아서 생활비쓰고',\n",
              "  '사람은 쉽게 변하지 않는다는 정석을 보여줌. 참 한결같다...',\n",
              "  '끝까지 바보네.. ㅋ 절실함 1도없어..',\n",
              "  '이런 결말도 졔작진 미리짠시나리오아니었나 의심갈정도로..이프로..신뢰감이 떨어졌어요',\n",
              "  '왜저럴까?',\n",
              "  '조용히 운영하세요. 손님이 있을진 모르겠지만... ',\n",
              "  '저사람은 tv출연으로 이미 성공한듯. 모임의장으로 취미로 장사한다는거잖아. 정말 절실한분들 기회를 저사람때문에 빼앗긴 기분이드네.',\n",
              "  '걱정안해도되는 부잣집아들',\n",
              "  '입만 살았엉',\n",
              "  '절대 저집 가지맙시다.',\n",
              "  '그냥 배드민턴 선수 하세요',\n",
              "  '이세상 멘탈이 아니다ㅋㅋㅋㅋㅋ졸라 튼튼하네',\n",
              "  '모임이 중요하고 사실상 우선시 하는분이 무슨 생각으로 설루션 받겠다고 나선건지 덕분에 누군가에겐 희망이 될 기회가 오지 않았고 시청률 올라가는 방송사만 웃었네',\n",
              "  '요리 연구를 좋아하고 나름  이론적 지식  있지만    실전에선  꽝이예요.     손님응대도  너무  떨어지고  국수삶는거부터   기초가 안되어있는데 ..  어디가서  알바라도  하시고  요식업  실전경험으로  배우셔야할듯. 사람이 나쁘진 않는데 너무 뭘 몰라  .',\n",
              "  '말은 ㅈㄴ 잘하네',\n",
              "  '취미로 장사할게요 어차피 전 건물주 아들이거든요 모임하면 문닫습니다. 버거집 대박나면 월세 올려받으면되죠 전 배드민턴이나 치며 취미로 실험요리할게요',\n",
              "  '사람이 못된건아닌데 왜 저랬을까'],\n",
              " ['틱',\n",
              "  '이분 멘탈도 갑이라고 봄. 보통사람은 아닌....',\n",
              "  '잘못된부분 지적하는 사람들 - 정상피자집 사장 (가게운영안할때) - 정상웃어주는 조보아 - 정상사장 인신공격하는사람 - 비정상사장이 가게 운영할때 - 비정상',\n",
              "  '보아언니... 진짜 고생하셨어요',\n",
              "  '냉혹한 현실에서도 저리 웃을수 있을까요?고칠껀 고치시고 힘든상황을 잘 이겨나가시길 바랍니다.',\n",
              "  '돈이 절실하지 않구나..',\n",
              "  '에휴~ 알겟습니다 ㅋㅋㅋㅋ ㅋㅋㅋㅋ뽀야 힘들엇겟다',\n",
              "  '마인드가 난 딱히 장사 잘 안 되도 먹고 살고 노는데 지장 없으니까~이거네. 본인 입으로도 손님 많이 와도 싫다잖아. 감당 안 되고 힘드니까. 이 사람 눈에는 요식업 자영업자들 한심해보이겠다. 한 사람이라도 더 오게 하려고 노력하고 고민하고 하는 행동들이 우습게 보이겠어.',\n",
              "  '마지막 인터뷰를 보고 느꼈다.. 이사람은 절실함이 없는게 가장 문제다',\n",
              "  '좋은일하시고 잘하는일 만나시길바래요',\n",
              "  '좋은사람인데 ...하다보면 장사도 늘거에요...고객의 소리에 귀를 한번더 귀울이고. 번창하길 바랍니다',\n",
              "  '여기에는 안나온 고로케 사장님과 백대표가 대화하는 장면에서 고로케 사장님 테이블에 한쪽팔 걸고 짝다리 짚고 실실 웃으며 대화하는게 진짜 꼴보기 싫었음.기본도 안되어있고 예의도 없고 참... 사회생활 저리하면 안될텐데...',\n",
              "  '보아쓰 넘 고생 많다 ㅠㅠㅠ',\n",
              "  '보아쓰 넘 고생 많다 ㅠㅠㅠ',\n",
              "  '오늘 처음으로 틱장애 안보이네. 가만가만 말하는거 처음봄',\n",
              "  '불쌍한 사람 같아요',\n",
              "  '잘하는걸 찾아보세요음식은 절대 하지마세요',\n",
              "  '피자집 사장님 아니 건물주 아드님 당신은 그냥 건물주하면서 페라리 타고다니는게 본인 인생이야 ... 고로케집도 마찬가지',\n",
              "  '그냥 망했으면 좋겠다 장사하지마라',\n",
              "  '그럼 배드민턴 용품점이나 영어학원을 하시죠'],\n",
              " ['나쁜애는 아냐그냥 히키코모리라서사람이랑 대화를 별로 안해본듯혼자만의 시간을 줘라',\n",
              "  '지들이 일하는 꼬라지다 저것보다 나을줄 아냐?? ㅉㅉ',\n",
              "  '돈이 많아서 그래..아쉬운 게 없잖아..',\n",
              "  '나쁜사람은 아닌데 봉사도 하고 나보다 낫다',\n",
              "  '장사가 너무 잘되도 힘들테니 잘된거다라니....대박이네',\n",
              "  '음식점할 마인드는아니다 나쁘진않은데 답답하다',\n",
              "  '그래도 마녀사냥하는 개돼지들 보다 건물주 아들이 훨씬 낫지^^',\n",
              "  '조보아가 진짜 천사다... ',\n",
              "  '제발 망했으면 ㅠㅠ 다음주터 골목식당 이런 사람은 속시원하게 중단 원합니다 !!',\n",
              "  '조보아 영접한값 내놔라',\n",
              "  '그냥 배드민턴장을 차리시는게...',\n",
              "  '조보아 와~  뭐 저런 사람이 있을까? 라는 표정ㅋㅋ',\n",
              "  '휴..진짜 장가가지말고 혼자살아라.',\n",
              "  '참 안타깝다. 정말 열정적으로 손님들 입장 생각하면서 장사하시는분들에게 갈 기회가 저런데 갔다니..',\n",
              "  '끝까지 특이하신 분 ㅋㅋㅋ',\n",
              "  '저렇게알바생이간다해도 알바생도고생이다 손님없어서',\n",
              "  '일못하는 사람이 인성이 마냥 더럽지 않으면 더짜증난다고.. 일도 못하는데 인성이라도 같이 더러우면 상욕하면서 풀겠는데 딱히 사람자체가 나쁜건 아니라고 느껴지면 욕하는것도 미안해짐. 근데 일은 못해서 욕은 나옴. 근데 사람이 나쁜건 아니라서 욕하는게 미안해짐. 근데 일못해서 욕이나옴. 욕하고 미안하고 욕하고 미안하고 욕미욕미',\n",
              "  '지가 좋으면 된거지 꼴리는데로 쳐사세요',\n",
              "  '가만 보면 제작진이 문제가 있음. 애초에 결격사유가 많은 사람들 방송욕심에 무리해서 출연시켜서 문제생기면 다 출연잔 탓 나몰라라. 방송만 개이득. 출연진이 잘못을 하긴했지만 일반인이 방송으로 인해 돌이키기 힘든실패와 무자비한 인신공격까지 감수하게하는 거는 아닌 거 같다.',\n",
              "  '페라리잇는새끼가 불쌍한척 하니까 역겹다 퉤!! 퉤!! 내 남친은 겨우 신형K7인데 이 더러운 세상!!'],\n",
              " ['피자집사장은 나쁜사람은 아니다 개념이 없는거지. 근데 고로케네는 잔대가리 굴리면서 방송을 지네사업에 이용할려는거에 용서할수없다.',\n",
              "  '병자네 치료받아라',\n",
              "  'tv에서 사람 이상하게 만들어놨음 . 틱장애가 있어서 오해하는분들이 있다. 사람 쓰레기로 만들지마라',\n",
              "  '결국,절실함이 없는...',\n",
              "  '고생을 더 해봐야 정신차릴듯~',\n",
              "  '저 사람이 나쁜 사람은아닌데 그냥 무지한사람... 봉사활동 , 배드민턴 나가는게 뭐가 잘못된건지 모르는거지 일부러 그런거 아니에요... 그냥 모르고 그냥 무지한거라 오해하는거지..  나쁘면 가르치면 되는데 그걸 이해를 못하는거에요.. 그걸 두고',\n",
              "  '나쁜사람은 아닌거 같은데.. 마인드 자체가 다른사람이라서 이런 사람이 음식사업은 아니라고 본다. 다른 사업도 똑같아..',\n",
              "  '솔루션은 실패 했지만 백대표님을 통해서 본인에 미흡 했던 부분들을 알게되고 지적된것에 대해 고마움을 느껴야 한다고 본다 만약 이런 경험이 없었다면 여러가지 단점을 발견하지 못했을 것이다',\n",
              "  '어떤 장사든 않하시는게...',\n",
              "  '자기 실력도 모르고 음식장사를하겠다 하는 사람 극혐이다',\n",
              "  '일반인 한명 욕하는걸 왜이리 좋아할까 참....',\n",
              "  '분수를 모르는 거지. 주제 파악 전혀 안하는......',\n",
              "  '보아씨 웃어주지마 저사람 착각할거 같아',\n",
              "  '배드민턴용품을 파시지',\n",
              "  '얘는 그냥 병...,ㅡ신.. 대화조차 의미없다',\n",
              "  '고로케에 피자집에 이번편만큼 찝찝한편이 없었던거같다 주작논란받아도 할말없는편이었음',\n",
              "  '최양락 생각나시는분~~~',\n",
              "  '이빌런은 그냥 명함이 필요한거임.. 장사생각없이 레스토랑 사장 명함이 필요함',\n",
              "  '그래요...그동안 욕 먹은 건 다 둘째치고 그냥 장사만 안하시면 될 거 같아요~',\n",
              "  '이분이 죽을죄 지은건 아니지 않나? 우리나라는 방송만 보고 비난은 너무 한듯함. 그냥 순수하고 솔직하신분인거다.'],\n",
              " ['이 사람은 숙박업하면 괜찮을것같은데. 영어되고 청소..는 업체 부르고 사람만나는거 좋아하고 가끔씩 실험요리하고',\n",
              "  '참생각없이사는듯...',\n",
              "  '솔직히 다들 지랄 좀 하지 마세요;; 마녀사냥 개 무섭네.. 솔직히 저 분이 잘못 한 것도 있죠 근데 사람이 나쁜 사람은 아닌 것같아요 사람의 한 모습만 보고 너무 몰아가지는 않았으면 좋겠네요 좀!!!!!!!',\n",
              "  '저기 비듬 먹으러 가는 흑우없제?비듬먹고 인스타나 이런데 올리지마라 흑우들아ㅜㅋㅋㅋㅋ',\n",
              "  '끝까지 죄송합니다 라는 말은 못하는구나.. 저정도 여러번 기회를 줬으면 마지막에는 사과한마디하고 떠나야 정상이지.. 장사가 너무 잘되도 고민이라고??? 정신병원에 솔루션 받으러가세요. 백종원씨 말대로 사람과 마주치는일을해서는 안됩니다. 난 니가 어디 밤길에 칼맞거나 누구한테 봉변당할까봐 진심 걱정이네 너 가게 유리창 누가 돌맹이로 던져서 깰거같은 예상이다. 숙명여대라서 다행인줄알아라 일반대학이었으면 너 남학생들이 멱살잡고 난리났을거야. 처음부터 건물주 아들에 해외유학에 돈이궁한게아니라 그냥 취미로 레스토랑 열어본거잖니. 배드민턴, 영어모임 사람들한테만 요리해주고 절대 일반인 손님한테 돈받고 쓰레기음식 팔지마라',\n",
              "  '사람 뱃 속으로 들어가는 음식 아무나 파는 것 아닙니다. 이번 편 보면서 괜히 열심히 묵묵히 일하시는 다른 식당 사장님들 의심하는 마음이 들어서 참...',\n",
              "  '이분은 요리학원부터 다녀야될뜻 자만하지말자건방지지말자 말대꾸하지말고 핑계대지말자 그래도처음보단 성격이죽어서 다행이네',\n",
              "  '탈락  저 마인드는 뭘해도 탈락',\n",
              "  '진짜 골목식당 피자집편 보다가 암걸릴꺼 같은 트라우마 생겨서 골목식당 못보겠어;',\n",
              "  '면 종류는 달라도 냉면집 사장님한테 가서 면 삶는 법이라도 배웠더라면 그나마 욕을 덜 먹었을텐데.. 봉사 다니고 모임을 할 시간에 파스타집에 아르바이트라도 하든지..여러가지로 답답했던 분이였네요. 손님 응대법에서도 공감능력 떨어지고..ㅡㅡ',\n",
              "  '진짜 보아언니 힘들었겠다... 맴찣.. ',\n",
              "  '시청률 얼마나 올려줬는데 ㅅㅂ sbs 방송국놈들아 돌려줘야 될꺼 아니냐',\n",
              "  '처음이 어려운거지....앞으로도 프로그램에서 솔루션 중단이 있을 수 있다는 전제가 깔린다는 점에서 매우 현명한 마무리인듯... 저분도 아마 몇주만에는 무리더라도 아주 천천히 많은 시행착오를 거쳐서 나아지겠죠... 더 맞는 일을 찾을 수도 있고....',\n",
              "  '많이 힘드셨을거 같은데 장사만 하지말아요..... ',\n",
              "  '아.꼴보기 싫어 왜 나왔어 그럼 애초에',\n",
              "  '음식장사를 할 사람이 아닌 거 같아요.. 사람은 좋아보이는데',\n",
              "  '변화가 없구나.',\n",
              "  '장사꾼 마인드는 아닌듯....정신못차렸네~~~~',\n",
              "  '준비가 안된 사람에게는 기회가 찾아와도...잡지 못한다는걸 보여주는 케이스',\n",
              "  '피자집 사장 그문에 봉사 지가 높은사람인줄아나 높은사람도 그렇게 자주는 봉사안가 결국엔 장사할 마음이 없다 이소리잔아 그냥 취미로 해봤다 이소리잔아 솔루션을 왜못받았는지 생각좀해라 손님을 20명이상 못받는건 요리사가 아니지 20명도 못받을꺼면 장사를 하지마 지금 상황보니까 손님 한명도 없고 장사 안되는구먼 장사 잘되는상상에서 꿈깨 사람고용하고싶다고 해도 아무도 안와 음식도 제대로 못만드는 사장이랑은 일못해 꿈깨 정신차려'],\n",
              " ['그냥 가게를 하지마 ㅂ;ㅅ아 진짜 아오;;;;;;;',\n",
              "  '사장님 진심으로 요리는 안맞는것 같아요 차라리 커피와 맥주를 파시는게 좋을것 같아요',\n",
              "  '나는 너에게 끝까지 썅욕을 하고싶다......',\n",
              "  '저런 여유가 있고 하는거보니 진짜 건물주아들인가봄 장사하려는 적극적인 맘은없어보임 이번일을 계기로 장사는 안하셨음 좋겠음',\n",
              "  '별다른 고생 없이 자란 저런 사람이 근데 한편으론 은근히 여리고 착한 면도 있죠. 남들 몰래 선행도 하고 그럴 수 있습니다',\n",
              "  '절대 나쁜분아님 다만 장사레 센스가 정말 많이 부족한분',\n",
              "  '사람은 괜찮은데 음식 장사하는 사람으로서는 별로인 것 같네요. 잠시 악플때문에 힘들긴 하겠지만 이겨내세요. 그리고 만약 계속 장사를 이어나가실거면 지금보다 더 연구하시고 노력하시고 열심히 하셔야 먹었던 욕이 사장님께 긍정적인 부분으로 돌아갈 겁니다.',\n",
              "  '남이야 취미로 장사를 하든 말든 피해준거 있나. 자기 돈 나가는데 안가면 그만이고...  뭐 그리 욕을 하나. 니들 인생이나 잘 살아.',\n",
              "  '제작진새귀들아, 시청률 제조할 생각으로 하지말고 진정으로 사람을 생각해라 개색들아',\n",
              "  '병원상담을좀받아 진심..',\n",
              "  '1분 40초에 조보아 눈물맺힌표정 나오는데 내가 다 뭉클하더라 진심으로 공감하고 안타까워하고 있다는게 느껴진다',\n",
              "  '주변에 피자집 사장님같은 친구 있었는데 한편으론 안타깝네요. (피자집 사장님 사정과는 다를수도 있지만 그친구는) 부모한테 사랑못받고 부모가 주위사람 업신여기는거 보고, 부모가 나는 잘했는데 너는 왜 못하니 이렇게 가정교육(?)받고 자라면서 타인한테 엄격해지고 배려하는게 미숙한 친구였는데.. 그러면서 자기만의 방식으로 상대를 위해주는건 있고 참 복잡한.. 왠지 그녀석 보는 느낌.. 그친구한테 몇번 쓴소리하다 결국 질려서 연은 끊었는데,, 사람이 실수할수있으니까 돈으로 먼저 해결하려하지말고 변명하지말고 본인을 인정하면서 살아갔으면 한다 나xx야.',\n",
              "  '장사만 안하면 사람은 착한거 같은데 참 답답하네',\n",
              "  '제작진은 그냥 피자집 사장 시청률 올리는 데 이용하기만 했네.....에휴 OOO들',\n",
              "  '조보아 너무 착해...',\n",
              "  '보아가 고생이 많네',\n",
              "  '실제로월세나전세내고.관리비내고.유지비내고아둥바둥살겠다고노력하는사람이얼마나많은데..저렇게가게차려놓고모임의장으로만들겠다는마인드는..아직정신못하린거지..',\n",
              "  '돈에 대한 욕심이 없어서 그런거죠 뭐',\n",
              "  '끝까지  핑계지  저놈  뇌속에  뇌세포들은 무슨죄냐?',\n",
              "  '모임..대봑..저사람은안바뀜..주변친한지인님들아...정신차리게한마디들좀해주세요...'],\n",
              " ['아무나  배드민턴채로 대가리 쳐서  정상사람으로 만들길',\n",
              "  '피자집 사장 그 예전 영화 콘스탄틴?? 그거랑 매트릭스에 나왔던 키아누 리브스?? 걔랑 닮았다 잘생김',\n",
              "  '돈이좀있는집안인갑네돈벌려고 낸 가게가아님첨부터주방장비최고급으로 사논거보고 느꼈다난',\n",
              "  '베댓 가관이다....',\n",
              "  '사람이 꽤 독특해서 그렇지 안 좋은 사람 같지는 않은데, 앞으로 음식 장사를 하고프면, 요리 학원에서 배운 후 장사를 하면 어떨까 싶네요.',\n",
              "  '굴러온 복을 계속 줄려고했는데 본인이 걷어차버리네ㅎ',\n",
              "  '백종원도 제작진들도 정말 답없다 싶었겠지...',\n",
              "  '사람자체가 여유로운 마인드라 장사랑은 안맞는듯, 인간 그 자체로 봤을땐 그리 나쁜사람은 아닌 것 같은데 방송 악플땜에 힘들텐데 잘 이겨냈으면 좋겠다',\n",
              "  '제작비날리고  출연료받고 끝인데장사안하면되는데   먹고살만하니깐저러지    참나',\n",
              "  '왜 서운하죠? 하아...',\n",
              "  '그냥..노답..',\n",
              "  '정말 자신이 뭘 잘못했는지 모르거나 인정하지 않는 사람은 질책조차도 싫어하고 질책하는 사람을 나쁘게 생각합니다 그러나 사장님은 싫어하지 않는다는 것으로 보아 나쁜 분은 아닙니다 다만 진심으로 장사를 계속하실 생각이시면 문제점은 하나씩 고쳐나가시는 게 좋으실 겁니다 그렇게 하면 언젠가 지금의 경험이 피와 살이 되는 날이 올 겁니다^^',\n",
              "  '저사람 욕하지마세요.. 보니까 사람은 좋은 사람이고 싶어하는데 인지 능력이 떨어지는 것 같아요. 봉사활동도 다니며 남들에게 선을 베풀잖아요.. 여러분들은 봉사활동하시나요? 마음만 있지 실천하긴 힘들잖아요.. 저 사람은 그래도 우리보다 지적능력. 공감능력은 떨어지지만 노력하시는 분이에요... 욕하지마세요. 이 영상보니 짠하네요..',\n",
              "  '요리학원부터 다니며 재정비한다는줄 알았더니 이게 무슨.. ㅡㅡ 황당하네.',\n",
              "  '말이냐 방구냐 똥이냐 조보아 웃을때 기가막히더라 인간아',\n",
              "  '똑똑하고 아는것도 많으시던데 서비스와 요식업의 길은 아니신거 같습니다. 다른 좋은일 하셔요!',\n",
              "  '솔루션 보다 조보아 만난게 개이득인것 같은데 표정이 옷도 차려입고 나왔네 OOO',\n",
              "  '근데...... 조보아는 저기서 하는 역할이 뭐에요?',\n",
              "  '여러모로 나쁜 사람이라기 보단 특이한 사람인듯',\n",
              "  '웃음이 나오냐'],\n",
              " ['요식업말고 차라리 물건파는 장사를 하세요..그게 서로 다 좋을 듯',\n",
              "  '고로케는 그래서 어떻게 된거임?',\n",
              "  '정신과를 추천한다',\n",
              "  '일주일동안 영업을 안하면 손해가 클텐데.... 건물주니깐 그런 걱정안하네...',\n",
              "  '솔직히 화나기 보다는 안타까웠음... 너무 아직 미숙한 상태에서 방송을 타 버려서 필요 이상으로 심한 비난을 받은 것 같다. 사람 자체가 못된 사람은 아닌 것 같다만... 섭외가 어렵다지만 제작진들이 앞으로는 더욱 조심해야 할듯',\n",
              "  '결국 개선된건 1도 없네. 이제 제발 폐업길만 걸으세요',\n",
              "  '건물주 아들님 그냥 편하게 사세요',\n",
              "  '이럴거면 방송 왜나와 결국 제자리걸음이네',\n",
              "  '🌸이제 페업길만 걸으세요🌸',\n",
              "  '연습 부족이라구요......이사람아',\n",
              "  '고로케는 피자집 때문에 얼렁뚱땅 넘어가네',\n",
              "  '댓글이 삭제되었습니다.',\n",
              "  '장사가 너무 잘돼도ㅋㅋㅋㅋㅋㅋㅋ 어우 그렇게 욕먹고도 근자감은 안사라지네 제대로 깨달은것도 아닌듯',\n",
              "  '개콘 시청률 높일 녀석 발견 ㅎㅎ',\n",
              "  '조보아 극한직업ㅠㅠㅠㅠㅠ 맛있는거 많이 주세요...',\n",
              "  '전적으로 시청자를 믿으셔야합니다 제작진님ㅎㅎ솔루션 못한거 통쾌 그 자체ㅋㅋ',\n",
              "  '나쁜사람은 아닌데...그냥 장사하면 안되는 사람의 요건을 다 갖추고 계신듯..',\n",
              "  '취미로 장사하겠다는 얘기네',\n",
              "  '보아씨 고생많아요....',\n",
              "  '정신병원은 누구나 갈 수 있어요... 어서 가보세요 빨리!!!']]"
            ]
          },
          "metadata": {
            "tags": []
          },
          "execution_count": 114
        }
      ]
    },
    {
      "cell_type": "code",
      "metadata": {
        "id": "yUJtBVpXR5Sy"
      },
      "source": [
        "driver.quit()"
      ],
      "execution_count": null,
      "outputs": []
    },
    {
      "cell_type": "code",
      "metadata": {
        "scrolled": true,
        "id": "ewf4GkQSR5S0"
      },
      "source": [
        "data=soup.find_all(\"div\",{'class':\"u_cbox_text_wrap\"})"
      ],
      "execution_count": null,
      "outputs": []
    },
    {
      "cell_type": "code",
      "metadata": {
        "id": "CTR8QKX5R5S2",
        "outputId": "d679e0b0-e450-44f2-e8c8-8718c5960ed5"
      },
      "source": [
        "for i in data:\n",
        "    print(i.text.strip())"
      ],
      "execution_count": null,
      "outputs": [
        {
          "output_type": "stream",
          "text": [
            "장사 시작한지 얼마안되서 준비가 안된게 아니라 그냥 기본이 안되있었다. 장사뿐일까? 그 마인드면 유치원생들이 주방놀이 소꿉놀이도 안 놀아줄듯~ 근데 영어 스터디 튜터 같은거 하면 잘 할거같다. 사람 좋아하고 노는거 좋아하고 영어에 자부심 있는듯 하니. 5명정도 모아서 하루 3시간 1인 2만원 정도씩 걷고 프리토킹 하고 노는걸로 돈 벌어라 그게 낫다~\n",
            "걍 놀자니 뽀데안나고 다른거 하자니 그도 재주 없고~~심심풀이로 식당 열고 있는거면 돈 없는 영세업자에게 가게 내주고 오며가며들러서 커피나한잔씩 얻어먹으며 살지.\n",
            "사람들이 이걸보고 양심없고 소질없는 자영업자가 없었으면 좋겠어요\n",
            "아오OOOㅋㅋ그냥장사하지맠ㅋㅋ\n",
            "장사가 너무 잘되도 혼자서 어떻게 할까????\n",
            "근데 제작진들도 시청률 올릴라고 저 사람 욕먹을거 알고 섭외한거 같은데 좀 그렇다 이렇게 될꺼면 섭외를 말아야지 전국민한테 욕먹는거 보통 멘탈로는 버티기 힘들건데 에휴 사람은 좋은 분 같은데\n",
            "시청률은 잘나왔겠네  큰그림 그리셨구나 제작진분들시청자와 저런분 섭외한 제작진의 콜라보\n",
            "이른 시기라기 보다는 나이가 잇는분이니 바뀌기는 힘들꺼고그냥 이 행운을 받을수 없는사람이죠\n",
            "핑계는 이유있는 핑계라야 국민들이 이해를 하지!이유같지 않은 핑계로 국민들을 당신(피자집) 생각에 맞추지 말아요~ 당신(피자집)& 고로케는 정신차릴려면, 한참 멀었어요~남자들이 무슨 그런 핑계를 대는건지?? 같은 남자로써 정말 열받는 말만 늘어 놓네요~ 그러니 방송에 나와도 소득도 없이 욕만 무지하게 먹네요~ 자신이 무얼 잘못했고, 또 어찌 해야 하는지 스스로 깨우치시기를... 그리고 고로케집은 백종원 대표님께서 조언을 해주실때, 한쪽팔은 테이블에 기대고 하는 모습이 정말 보기 싫었습니다. 그래도 사람에게 기본적인 예의가 있는법, 듣는 자세에도 그 사람을 알수 있습니다. 건들거리는 것 또한 피자집 못지 않게 불편하군요~ 정신들 차리세요~\n",
            "아진짜 짜증나서 못보겠네 태어나서 첨 댓글다네여피자집사장은 음식에 대해서도 모르고, 음식도 못하는 사람이 왜 음식장사를 하는건지 저런사람은 장사를 못하게 하거나 아예 창업자체를 못하게 해야되는 법이라도 있었으면 좋겠다는 생각까지 했다 음식장사 정말 정성을 다해서 열심히 하시는 분들에게 욕보이는 짓이지ᆢ 손이 느린게 아니고 개을러 터진거고 그나이에 생각이란 자체가 없는사람이다\n",
            "척!\n",
            "이사람 어떻게 보면 좀 불쌍하다금수저라는데 왜 틱장애인지 불안장애같은게왔지?? 가끔 있는집 애가 폭력적이거나 갑질하는건봤어도 저런느낌아니고뻔뻔한만큼 당당하게 지내던데..\n",
            "장사가 잘되면 그것도 걱정 ㅋㅋㅋㅋㅋㅋㅋㅋㅋㅋㅋㅋㅋ이래ㅋㅋㅋㅋㅋㅋ 아 측은했는데역시나... 사람은 안변해요 ㅋㅋㅋㅋㅋㅋ\n",
            "사람은 나쁘지 않은데, 요리하는 사람으로서는 너무 별로에요....\n",
            "그냥봐도 나쁜사람처럼 보이지 않는데 왜 이렇게 다들 비난하시나요? 상대방이 받을 상처는 생각안하고 그냥 아무렇지 않게 글을 남기시는겁니까?  보기 싫으면 본인이 TV를 안보면 되는거고 우리나라 댓글 문화 너무 마녀사냥이 지나친거 같네요 댓글도 실명제와 나이를 공개하는게 좋을것 같네요~그냥 본인과 생각이 다르면 다 잘못된 사람처럼 보이시나요? 모든사람들이 다 똑같을 수는 없고 그냥 다르다는걸 인정하시면 되는겁니다. 솔루션을 받아야 하는 부분이 오로지 레시피에만 달려 있는것이 아니라 장사를 하는 마인드 조차도 솔루션이 필요한겁니다. 물론 개인의 노력에 차이는 있겠지만 그 노력또한 사람마다 자기 그릇이 다르기때문에 함부로 판단해서는 안된다고 생각합니다.\n",
            "제발 여기랑 고로케집은 방송나가도 사람들이 안가줬으면 좋겠다\n",
            "건물주 아들 맞나보네. 가게세 내려면 죽기살기로 벌어야 적자 안날텐데 저렇게 태평스럽게 모임 얘기나 하는거보니.\n",
            "모임 나갔다고ㅜ?정신 못차린다,,,,나 같음 옆집들 장사 잘되는거 보면 속상하고 이겨 낼려고 이를 갈건데,,,진짜 결혼하지말고 혼자 사세요 귀한집 딸 데려다 고생시키지말고ㅜ\n",
            "성격진짜 맘에 안들어 능력없으면서 뻔뻔하달까 배우고자하는자세가 안되어있음\n",
            "머리에 무스 바르는동안 연습좀 하지 ㅋㅋㅋㅋㅋㅋㅋ 참 건물주 아들이라 부러구만 ㅋㅋㅋㅋㅋㅋㅋㅋㅋㅋ고생없이 이득보려는 인간 부류\n"
          ],
          "name": "stdout"
        }
      ]
    },
    {
      "cell_type": "code",
      "metadata": {
        "id": "YKCNrTUzR5S4"
      },
      "source": [
        ""
      ],
      "execution_count": null,
      "outputs": []
    },
    {
      "cell_type": "code",
      "metadata": {
        "id": "tPnbhUCER5S6"
      },
      "source": [
        "#cbox_module_wai_u_cbox_content_wrap_tabpanel > ul > li.u_cbox_comment.cbox_module__comment_43849032._user_id_no_34LFT > div.u_cbox_comment_box > div > div.u_cbox_text_wrap > span.u_cbox_contents\n",
        "#cbox_module_wai_u_cbox_content_wrap_tabpanel > ul > li.u_cbox_comment.cbox_module__comment_43849444._user_id_no_2fNKB > div.u_cbox_comment_box > div > div.u_cbox_text_wrap > span.u_cbox_contents\n",
        "\n",
        "#cbox_module_wai_u_cbox_content_wrap_tabpanel > ul > li.u_cbox_comment.cbox_module__comment_56960434._user_id_no_1he3Z > div.u_cbox_comment_box > div > div.u_cbox_text_wrap\n",
        "#cbox_module_wai_u_cbox_content_wrap_tabpanel > ul > li.u_cbox_comment.cbox_module__comment_56495110._user_id_no_11YIp > div.u_cbox_comment_box > div > div.u_cbox_text_wrap > span\n",
        "#cbox_module_wai_u_cbox_content_wrap_tabpanel > ul  div.u_cbox_comment_box > div > div.u_cbox_text_wrap > span"
      ],
      "execution_count": null,
      "outputs": []
    },
    {
      "cell_type": "code",
      "metadata": {
        "id": "LDzJITVmR5S7",
        "outputId": "e8676397-c3e7-431a-f323-fa8fe33f9764"
      },
      "source": [
        "for i in soup.select(\"ul > div.u_cbox_comment_box > div >div.u_cbox_text_wrap > span\"):\n",
        "    co=i.get_text()\n",
        "co"
      ],
      "execution_count": null,
      "outputs": [
        {
          "output_type": "error",
          "ename": "NameError",
          "evalue": "name 'co' is not defined",
          "traceback": [
            "\u001b[0;31m---------------------------------------------------------------------------\u001b[0m",
            "\u001b[0;31mNameError\u001b[0m                                 Traceback (most recent call last)",
            "\u001b[0;32m<ipython-input-40-e8537992d540>\u001b[0m in \u001b[0;36m<module>\u001b[0;34m\u001b[0m\n\u001b[1;32m      1\u001b[0m \u001b[0;32mfor\u001b[0m \u001b[0mi\u001b[0m \u001b[0;32min\u001b[0m \u001b[0msoup\u001b[0m\u001b[0;34m.\u001b[0m\u001b[0mselect\u001b[0m\u001b[0;34m(\u001b[0m\u001b[0;34m\"ul > div.u_cbox_comment_box > div >div.u_cbox_text_wrap > span\"\u001b[0m\u001b[0;34m)\u001b[0m\u001b[0;34m:\u001b[0m\u001b[0;34m\u001b[0m\u001b[0;34m\u001b[0m\u001b[0m\n\u001b[1;32m      2\u001b[0m     \u001b[0mco\u001b[0m\u001b[0;34m=\u001b[0m\u001b[0mi\u001b[0m\u001b[0;34m.\u001b[0m\u001b[0mget_text\u001b[0m\u001b[0;34m(\u001b[0m\u001b[0;34m)\u001b[0m\u001b[0;34m\u001b[0m\u001b[0;34m\u001b[0m\u001b[0m\n\u001b[0;32m----> 3\u001b[0;31m \u001b[0mco\u001b[0m\u001b[0;34m\u001b[0m\u001b[0;34m\u001b[0m\u001b[0m\n\u001b[0m",
            "\u001b[0;31mNameError\u001b[0m: name 'co' is not defined"
          ]
        }
      ]
    },
    {
      "cell_type": "code",
      "metadata": {
        "id": "AV1qifn5R5S9",
        "outputId": "d4962195-f5f6-4ee8-8f83-1df37faded79"
      },
      "source": [
        "#리뷰 가져오기\n",
        "soup.get('span')\n",
        "comment=[i.get_text() for i in soup.select('div.u_cbox_text_wrap')]\n",
        "comment"
      ],
      "execution_count": null,
      "outputs": [
        {
          "output_type": "execute_result",
          "data": {
            "text/plain": [
              "['접어라 ~~ 가즈아',\n",
              " '아르바이트부터 해보면 어떨까?',\n",
              " '와~~~피자집 사장님! 대박이네요..요리의 기본은 알고하시는 분인지 의심스럽네요!피자접고 동호회의주로? 뭐 갠 생각이니...한마디로 1도 받아들이거나 개선할 생각없음으로 들림!누구의 피와 살이 될런지...심히 걱정됩니다세상살이 넘 만만히 보시다 큰 코 다치시겠다',\n",
              " '그냥 장사 접자',\n",
              " '캬 결국 버림받앗네 ㅋㅋ',\n",
              " '피자가게에 와인잔이 왜걸려있을까',\n",
              " '뇌를뜯어보고싶다',\n",
              " '사장님, 응원합니다~~♡',\n",
              " '진짜 이 방송으로 조보아한테 반하게 됐다.. 어찌 사람이 저렇게 이쁘지..',\n",
              " '일안하고 평생 놀면서 살려는 타입.. 부모 잘 만난 걸 행운으로 알아라.',\n",
              " '매사 다른사람의 입장에서 생각하는 습관을 들이셔야겠어요..도통 벽이라ㅠㅠ 심성이 나쁘신분은 아닌거같은데...',\n",
              " '진짜 더러워서 안먹고 싶음',\n",
              " '기초도 커녕  마인드도 안된자가 가게하면 공공의적이다. . 잘못먹고 병이라도 나면 누가 책임지나',\n",
              " '마지막 20인분 만들고, 백종원님이 조언해준 다음 나설 때조차 감사인사 조차 없던..!너무 놀랐네요...ㅠㅠ 고민 많이 해보시고 뭐든 일하시길 바래요.',\n",
              " '이새기 얼굴만보면 재수때가리가없냐',\n",
              " '진짜 재방은 언제까지 하는지 피자 이해 못하는 사장님이나 재방 계속하는 티비나 좀 적당히 하세요',\n",
              " 'OoO님 조보아가 자기하고 싶어해요 조보아랑 백종원이랑 상황실 같이 있으면 좀 불편해요 김성주가 가운데 있어야 편해요 김성주 화이팅',\n",
              " '꼭 힘든 건 조보아만 시키더라... 김성주는도대체 무슨 역할이냐.. 이럴거면 백종원이랑 조보아 2인체제로 가라 제발.. 하기 싫은 건 다 조보아 시킴..',\n",
              " '지랄이 풍년이네~~~',\n",
              " '자아 성찰은 무슨..끝까지 손님들에게 그리고 자신의 태도에 대해 뉘우치는 기색 전혀 없구만~평생 요리하지 마시고요 요리사 이름 먹칠하지 마세요 돈 많다고 개념 밥 말아먹으신 분이?!']"
            ]
          },
          "metadata": {
            "tags": []
          },
          "execution_count": 50
        }
      ]
    },
    {
      "cell_type": "code",
      "metadata": {
        "id": "WjSH6qf4R5S_"
      },
      "source": [
        "df=pd.DataFrame(comment)\n",
        "df.to_csv(\"comment.csv\")"
      ],
      "execution_count": null,
      "outputs": []
    },
    {
      "cell_type": "code",
      "metadata": {
        "id": "tFh9fEM3R5TA"
      },
      "source": [
        "#맨 아래로 스크롤\n",
        "driver.execute_script(\"window.scrollTo(0, document.body.scrollHeight)\")"
      ],
      "execution_count": null,
      "outputs": []
    },
    {
      "cell_type": "code",
      "metadata": {
        "id": "dC7Yk7xwR5TC"
      },
      "source": [
        "#다음 페이지로 이동\n",
        "driver.find_element_by_xpath('//*[@id=\"cbox_module\"]/div/div[8]/div/a[4]').click()\n",
        "time.sleep(1)"
      ],
      "execution_count": null,
      "outputs": []
    },
    {
      "cell_type": "code",
      "metadata": {
        "id": "BAIfRGGYR5TE",
        "outputId": "a80a78f3-c873-432e-b85c-2f24535c04fa"
      },
      "source": [
        "[i.get_text() for i in soup.select('div.u_box_contents')]"
      ],
      "execution_count": null,
      "outputs": [
        {
          "output_type": "execute_result",
          "data": {
            "text/plain": [
              "[]"
            ]
          },
          "metadata": {
            "tags": []
          },
          "execution_count": 28
        }
      ]
    },
    {
      "cell_type": "code",
      "metadata": {
        "id": "jd2HWxGSR5TF"
      },
      "source": [
        "#댓글 페이지 넘기는 부분\n",
        "#//*[@id=\"cbox_module\"]/div/div[8]/div/a[3]\n",
        "#//*[@id=\"cbox_module\"]/div/div[8]/div/a[4]"
      ],
      "execution_count": null,
      "outputs": []
    },
    {
      "cell_type": "code",
      "metadata": {
        "id": "SYrRtjIyR5TI"
      },
      "source": [
        "#스크롤 맨 위로\n"
      ],
      "execution_count": null,
      "outputs": []
    },
    {
      "cell_type": "code",
      "metadata": {
        "id": "r1ZCo-gER5TK"
      },
      "source": [
        "#플레이 리스트에서 다음화로 넘어가기\n",
        "#//*[@id=\"playlistClip\"]/li[2]/div/a/span\n",
        "#//*[@id=\"playlistClip\"]/li[3]/div/a/span"
      ],
      "execution_count": null,
      "outputs": []
    },
    {
      "cell_type": "code",
      "metadata": {
        "id": "B-6mXxEtR5TM"
      },
      "source": [
        ""
      ],
      "execution_count": null,
      "outputs": []
    },
    {
      "cell_type": "code",
      "metadata": {
        "id": "NnhfxrNOR5TO",
        "outputId": "cba028a6-85d5-4073-f983-a049c26167d8"
      },
      "source": [
        "soup.select(\"li.u_cbox_comment cbox_module__comment_43886960 _user_id_no_b9R5Z\")"
      ],
      "execution_count": null,
      "outputs": [
        {
          "output_type": "execute_result",
          "data": {
            "text/plain": [
              "[]"
            ]
          },
          "metadata": {
            "tags": []
          },
          "execution_count": 92
        }
      ]
    },
    {
      "cell_type": "code",
      "metadata": {
        "id": "iuXv1zGYR5TQ"
      },
      "source": [
        "<span class=\"u_cbox_contents\" data-lang=\"ko\">장사안하는게 나을듯 기본부터 다시배워야 할듯. 두번다시 보고싶지 않네</span>"
      ],
      "execution_count": null,
      "outputs": []
    },
    {
      "cell_type": "code",
      "metadata": {
        "id": "CxrR6XHvR5TS",
        "outputId": "deabe679-2379-486b-faa7-43ea0a7f6414"
      },
      "source": [
        "[i.get_text() for i in soup.select('span.u_cbox_contents')]"
      ],
      "execution_count": null,
      "outputs": [
        {
          "output_type": "execute_result",
          "data": {
            "text/plain": [
              "['접어라 ~~ 가즈아',\n",
              " '아르바이트부터 해보면 어떨까?',\n",
              " '와~~~피자집 사장님! 대박이네요..요리의 기본은 알고하시는 분인지 의심스럽네요!피자접고 동호회의주로? 뭐 갠 생각이니...한마디로 1도 받아들이거나 개선할 생각없음으로 들림!누구의 피와 살이 될런지...심히 걱정됩니다세상살이 넘 만만히 보시다 큰 코 다치시겠다',\n",
              " '그냥 장사 접자',\n",
              " '캬 결국 버림받앗네 ㅋㅋ',\n",
              " '피자가게에 와인잔이 왜걸려있을까',\n",
              " '뇌를뜯어보고싶다',\n",
              " '사장님, 응원합니다~~♡',\n",
              " '진짜 이 방송으로 조보아한테 반하게 됐다.. 어찌 사람이 저렇게 이쁘지..',\n",
              " '일안하고 평생 놀면서 살려는 타입.. 부모 잘 만난 걸 행운으로 알아라.',\n",
              " '매사 다른사람의 입장에서 생각하는 습관을 들이셔야겠어요..도통 벽이라ㅠㅠ 심성이 나쁘신분은 아닌거같은데...',\n",
              " '진짜 더러워서 안먹고 싶음',\n",
              " '기초도 커녕  마인드도 안된자가 가게하면 공공의적이다. . 잘못먹고 병이라도 나면 누가 책임지나',\n",
              " '마지막 20인분 만들고, 백종원님이 조언해준 다음 나설 때조차 감사인사 조차 없던..!너무 놀랐네요...ㅠㅠ 고민 많이 해보시고 뭐든 일하시길 바래요.',\n",
              " '이새기 얼굴만보면 재수때가리가없냐',\n",
              " '진짜 재방은 언제까지 하는지 피자 이해 못하는 사장님이나 재방 계속하는 티비나 좀 적당히 하세요',\n",
              " 'OoO님 조보아가 자기하고 싶어해요 조보아랑 백종원이랑 상황실 같이 있으면 좀 불편해요 김성주가 가운데 있어야 편해요 김성주 화이팅',\n",
              " '꼭 힘든 건 조보아만 시키더라... 김성주는도대체 무슨 역할이냐.. 이럴거면 백종원이랑 조보아 2인체제로 가라 제발.. 하기 싫은 건 다 조보아 시킴..',\n",
              " '지랄이 풍년이네~~~',\n",
              " '자아 성찰은 무슨..끝까지 손님들에게 그리고 자신의 태도에 대해 뉘우치는 기색 전혀 없구만~평생 요리하지 마시고요 요리사 이름 먹칠하지 마세요 돈 많다고 개념 밥 말아먹으신 분이?!']"
            ]
          },
          "metadata": {
            "tags": []
          },
          "execution_count": 76
        }
      ]
    },
    {
      "cell_type": "code",
      "metadata": {
        "id": "irum8PKrR5TU"
      },
      "source": [
        "//*[@id=\"clip_list\"]/div[2]/div/a"
      ],
      "execution_count": null,
      "outputs": []
    },
    {
      "cell_type": "code",
      "metadata": {
        "id": "RYiM9dWXR5TV"
      },
      "source": [
        "def extract_review(place_name):\n",
        "    global driver\n",
        "\n",
        "    ret = True\n",
        "\n",
        "    html = driver.page_source\n",
        "    soup = BeautifulSoup(html, 'html.parser')\n",
        "\n",
        "    # 첫 페이지 리뷰 목록 찾기\n",
        "    review_lists = soup.select('li.u_cbox_text_wrap')\n",
        "\n",
        "    # 리뷰가 있는 경우\n",
        "    if len(review_lists) != 0:\n",
        "        for i, review in enumerate(review_lists):\n",
        "            comment = review.select('span.u_cbox_contents') # 리뷰\n",
        "           \n",
        "    else:\n",
        "        print('no review in extract')\n",
        "        ret = False\n",
        "\n",
        "    return ret"
      ],
      "execution_count": null,
      "outputs": []
    },
    {
      "cell_type": "code",
      "metadata": {
        "id": "TUti22jAR5TW",
        "outputId": "e321466f-2dd6-4d0f-ae99-cccf1426c477"
      },
      "source": [
        "html = driver.page_source\n",
        "soup = BeautifulSoup(html, 'html.parser')\n",
        "review_lists = soup.select('li.u_cbox_text_wrap')\n",
        "comment = review.select('span.u_cbox_contents')"
      ],
      "execution_count": null,
      "outputs": [
        {
          "output_type": "error",
          "ename": "NameError",
          "evalue": "name 'review' is not defined",
          "traceback": [
            "\u001b[0;31m---------------------------------------------------------------------------\u001b[0m",
            "\u001b[0;31mNameError\u001b[0m                                 Traceback (most recent call last)",
            "\u001b[0;32m<ipython-input-90-5cb3943562b5>\u001b[0m in \u001b[0;36m<module>\u001b[0;34m\u001b[0m\n\u001b[1;32m      2\u001b[0m \u001b[0msoup\u001b[0m \u001b[0;34m=\u001b[0m \u001b[0mBeautifulSoup\u001b[0m\u001b[0;34m(\u001b[0m\u001b[0mhtml\u001b[0m\u001b[0;34m,\u001b[0m \u001b[0;34m'html.parser'\u001b[0m\u001b[0;34m)\u001b[0m\u001b[0;34m\u001b[0m\u001b[0;34m\u001b[0m\u001b[0m\n\u001b[1;32m      3\u001b[0m \u001b[0mreview_lists\u001b[0m \u001b[0;34m=\u001b[0m \u001b[0msoup\u001b[0m\u001b[0;34m.\u001b[0m\u001b[0mselect\u001b[0m\u001b[0;34m(\u001b[0m\u001b[0;34m'li.u_cbox_text_wrap'\u001b[0m\u001b[0;34m)\u001b[0m\u001b[0;34m\u001b[0m\u001b[0;34m\u001b[0m\u001b[0m\n\u001b[0;32m----> 4\u001b[0;31m \u001b[0mcomment\u001b[0m \u001b[0;34m=\u001b[0m \u001b[0mreview\u001b[0m\u001b[0;34m.\u001b[0m\u001b[0mselect\u001b[0m\u001b[0;34m(\u001b[0m\u001b[0;34m'span.u_cbox_contents'\u001b[0m\u001b[0;34m)\u001b[0m\u001b[0;34m\u001b[0m\u001b[0;34m\u001b[0m\u001b[0m\n\u001b[0m",
            "\u001b[0;31mNameError\u001b[0m: name 'review' is not defined"
          ]
        }
      ]
    },
    {
      "cell_type": "code",
      "metadata": {
        "id": "72C5hWN2R5Ta"
      },
      "source": [
        ""
      ],
      "execution_count": null,
      "outputs": []
    },
    {
      "cell_type": "code",
      "metadata": {
        "id": "rvz8ZKPXR5Td"
      },
      "source": [
        ""
      ],
      "execution_count": null,
      "outputs": []
    },
    {
      "cell_type": "code",
      "metadata": {
        "id": "4pigadCGR5Tg"
      },
      "source": [
        "//*[@id=\"cbox_module\"]/div/div[8]/div/a[3]\n",
        "//*[@id=\"cbox_module\"]/div/div[8]/div/a[4]"
      ],
      "execution_count": null,
      "outputs": []
    },
    {
      "cell_type": "code",
      "metadata": {
        "id": "nrfZq0kZR5Ti"
      },
      "source": [
        "while True:\n",
        "    try:\n",
        "        btn_more = driver.find_element_by_css_selector('a.u_cbox_cnt_page')\n",
        "        btn_more.click()\n",
        "        time.sleep(1)\n",
        "    except:\n",
        "        break"
      ],
      "execution_count": null,
      "outputs": []
    },
    {
      "cell_type": "code",
      "metadata": {
        "id": "bsD_gOR4R5Tj"
      },
      "source": [
        "driver.quit()"
      ],
      "execution_count": null,
      "outputs": []
    },
    {
      "cell_type": "code",
      "metadata": {
        "id": "HI2CmscWR5Tm"
      },
      "source": [
        ""
      ],
      "execution_count": null,
      "outputs": []
    },
    {
      "cell_type": "code",
      "metadata": {
        "id": "byeBTgniR5Tn",
        "outputId": "1d57b3a1-17f6-47fc-b9f6-bbb010bcccc3"
      },
      "source": [
        "#리뷰 가져오기\n",
        "soup.get('span')\n",
        "[i.get_text() for i in soup.select('div.u_cbox_comment_box')]"
      ],
      "execution_count": null,
      "outputs": [
        {
          "output_type": "execute_result",
          "data": {
            "text/plain": [
              "['Sony User접어라 ~~ 가즈아2019.08.22. 11:20:48신고답글0공감/비공감공감1비공감0',\n",
              " '김건치아르바이트부터 해보면 어떨까?2019.08.10. 03:26:45신고답글0공감/비공감공감0비공감0',\n",
              " '용용맘와~~~피자집 사장님! 대박이네요..요리의 기본은 알고하시는 분인지 의심스럽네요!피자접고 동호회의주로? 뭐 갠 생각이니...한마디로 1도 받아들이거나 개선할 생각없음으로 들림!누구의 피와 살이 될런지...심히 걱정됩니다세상살이 넘 만만히 보시다 큰 코 다치시겠다2019.04.15. 23:08:56신고답글0공감/비공감공감8비공감0',\n",
              " '나뮤사랑마인그냥 장사 접자2019.02.21. 15:07:44신고답글0공감/비공감공감0비공감0',\n",
              " '메가네온나캬 결국 버림받앗네 ㅋㅋ2019.02.09. 04:23:31신고답글0공감/비공감공감3비공감1',\n",
              " '라라피자가게에 와인잔이 왜걸려있을까2019.02.03. 15:46:49신고답글0공감/비공감공감1비공감0',\n",
              " 'tiy2****뇌를뜯어보고싶다2019.02.02. 10:14:59신고답글0공감/비공감공감3비공감1',\n",
              " '내사랑몽돌이사장님, 응원합니다~~♡2019.01.27. 22:04:16신고답글0공감/비공감공감0비공감8',\n",
              " '이정현진짜 이 방송으로 조보아한테 반하게 됐다.. 어찌 사람이 저렇게 이쁘지..2019.01.24. 16:37:59신고답글0공감/비공감공감6비공감0',\n",
              " '돌도래일안하고 평생 놀면서 살려는 타입.. 부모 잘 만난 걸 행운으로 알아라.2019.01.24. 11:36:54신고답글0공감/비공감공감10비공감0',\n",
              " 'mira****매사 다른사람의 입장에서 생각하는 습관을 들이셔야겠어요..도통 벽이라ㅠㅠ 심성이 나쁘신분은 아닌거같은데...2019.01.24. 01:30:26신고답글0공감/비공감공감5비공감4',\n",
              " 'Lugano2015진짜 더러워서 안먹고 싶음2019.01.23. 23:06:33신고답글0공감/비공감공감14비공감0',\n",
              " '피니온기초도 커녕  마인드도 안된자가 가게하면 공공의적이다. . 잘못먹고 병이라도 나면 누가 책임지나2019.01.23. 23:03:23신고답글0공감/비공감공감6비공감0',\n",
              " 'Nano mind마지막 20인분 만들고, 백종원님이 조언해준 다음 나설 때조차 감사인사 조차 없던..!너무 놀랐네요...ㅠㅠ 고민 많이 해보시고 뭐든 일하시길 바래요.2019.01.23. 20:16:37신고답글0공감/비공감공감11비공감0',\n",
              " 'DIY이새기 얼굴만보면 재수때가리가없냐2019.01.23. 18:55:08신고답글0공감/비공감공감8비공감2',\n",
              " '드릴진짜 재방은 언제까지 하는지 피자 이해 못하는 사장님이나 재방 계속하는 티비나 좀 적당히 하세요2019.01.23. 11:20:08신고답글0공감/비공감공감2비공감0',\n",
              " '김경숙OoO님 조보아가 자기하고 싶어해요 조보아랑 백종원이랑 상황실 같이 있으면 좀 불편해요 김성주가 가운데 있어야 편해요 김성주 화이팅2019.01.22. 21:31:36신고답글0공감/비공감공감16비공감2',\n",
              " 'OoO꼭 힘든 건 조보아만 시키더라... 김성주는도대체 무슨 역할이냐.. 이럴거면 백종원이랑 조보아 2인체제로 가라 제발.. 하기 싫은 건 다 조보아 시킴..2019.01.22. 21:16:27신고답글0공감/비공감공감3비공감16',\n",
              " '육백원지랄이 풍년이네~~~2019.01.20. 23:17:58신고답글0공감/비공감공감0비공감0',\n",
              " '네티자아 성찰은 무슨..끝까지 손님들에게 그리고 자신의 태도에 대해 뉘우치는 기색 전혀 없구만~평생 요리하지 마시고요 요리사 이름 먹칠하지 마세요 돈 많다고 개념 밥 말아먹으신 분이?!2019.01.20. 22:48:23신고답글0공감/비공감공감7비공감0']"
            ]
          },
          "metadata": {
            "tags": []
          },
          "execution_count": 49
        }
      ]
    },
    {
      "cell_type": "code",
      "metadata": {
        "id": "X5UwFhlzR5Tq"
      },
      "source": [
        ""
      ],
      "execution_count": null,
      "outputs": []
    },
    {
      "cell_type": "code",
      "metadata": {
        "id": "bE9WhD4kR5Tr"
      },
      "source": [
        ""
      ],
      "execution_count": null,
      "outputs": []
    },
    {
      "cell_type": "code",
      "metadata": {
        "id": "eyNgd_1iR5Ts",
        "outputId": "814aca4f-0219-45b2-9d7f-a66bf8116a6e"
      },
      "source": [
        "times=\"49회\"\n",
        "url = 'https://tv.naver.com/search?query=백종원의 골목식당'+str(times)+\"&page=1\"\n",
        "url"
      ],
      "execution_count": null,
      "outputs": [
        {
          "output_type": "execute_result",
          "data": {
            "text/plain": [
              "'https://tv.naver.com/search?query=백종원의 골목식당49회&page=1'"
            ]
          },
          "metadata": {
            "tags": []
          },
          "execution_count": 31
        }
      ]
    },
    {
      "cell_type": "code",
      "metadata": {
        "id": "8kf5Gg_QR5Tu"
      },
      "source": [
        "#bs4 사용하여 크롤링\n",
        "html= driver.page_source\n",
        "soup= BeautifulSoup(html, 'lxml')"
      ],
      "execution_count": null,
      "outputs": []
    },
    {
      "cell_type": "code",
      "metadata": {
        "id": "5l1Ft1s4R5Tv"
      },
      "source": [
        "soup.get('span')\n",
        "comment=[i.get_text() for i in soup.select('div.u_cbox_text_wrap')]\n",
        "comment"
      ],
      "execution_count": null,
      "outputs": []
    },
    {
      "cell_type": "code",
      "metadata": {
        "id": "ozS_trZlR5Tx"
      },
      "source": [
        ""
      ],
      "execution_count": null,
      "outputs": []
    },
    {
      "cell_type": "code",
      "metadata": {
        "id": "xtIbBX7dR5Tz"
      },
      "source": [
        "//*[@id=\"cbox_module\"]/div/div[8]/div/a[1]\n",
        "driver.find_element_by_css_selector('uation_review > div > a:nth-child(' + str(idx) +')').send_keys(Keys.ENTER)\n",
        "                sleep(1)"
      ],
      "execution_count": null,
      "outputs": []
    },
    {
      "cell_type": "markdown",
      "metadata": {
        "id": "wBFtlojTR5T0"
      },
      "source": [
        "### "
      ]
    },
    {
      "cell_type": "code",
      "metadata": {
        "id": "4FVFEB11R5T1"
      },
      "source": [
        "#bs4 사용하여 크롤링\n",
        "html= driver.page_source\n",
        "soup= BeautifulSoup(html, 'lxml')"
      ],
      "execution_count": null,
      "outputs": []
    },
    {
      "cell_type": "code",
      "metadata": {
        "id": "4yeBu2OfR5T2"
      },
      "source": [
        "def crawling(place, place_lists):\n",
        "    \"\"\"\n",
        "    페이지 목록을 받아서 크롤링 하는 함수\n",
        "    :param place: 리뷰 정보 찾을 장소이름\n",
        "    \"\"\"\n",
        "\n",
        "    while_flag = False\n",
        "    for i, place in enumerate(place_lists):\n",
        "        # 광고에 따라서 index 조정해야함\n",
        "        #if i >= 3:\n",
        "         #   i += 1\n",
        "\n",
        "        place_name = place.select('.head_item > .tit_name > .link_name')[0].text  # place name\n",
        "        place_address = place.select('.info_item > .addr > p')[0].text  # place address\n",
        "\n",
        "        detail_page_xpath = '//*[@id=\"info.search.place.list\"]/li[' + str(i + 1) + ']/div[5]/div[4]/a[1]'\n",
        "        driver.find_element_by_xpath(detail_page_xpath).send_keys(Keys.ENTER)\n",
        "        driver.switch_to.window(driver.window_handles[-1])  # 상세정보 탭으로 변환\n",
        "        sleep(1)\n",
        "\n",
        "        print('####', place_name)\n",
        "\n",
        "        # 첫 페이지\n",
        "        extract_review(place_name)\n",
        "\n",
        "        # 2-5 페이지\n",
        "        idx = 3\n",
        "        try:\n",
        "            page_num = len(driver.find_elements_by_class_name('link_page')) # 페이지 수 찾기\n",
        "            for i in range(page_num-1):\n",
        "                # css selector를 이용해 페이지 버튼 누르기\n",
        "                driver.find_element_by_css_selector('#mArticle > div.cont_evaluation > div.evaluation_review > div > a:nth-child(' + str(idx) +')').send_keys(Keys.ENTER)\n",
        "                sleep(1)\n",
        "                extract_review(place_name)\n",
        "                idx += 1\n",
        "            driver.find_element_by_link_text('다음').send_keys(Keys.ENTER) # 5페이지가 넘는 경우 다음 버튼 누르기\n",
        "            sleep(1)\n",
        "            extract_review(place_name) # 리뷰 추출\n",
        "        except (NoSuchElementException, ElementNotInteractableException):\n",
        "            print(\"no review in crawling\")\n",
        "\n",
        "        # 그 이후 페이지\n",
        "        while True:\n",
        "            idx = 4\n",
        "            try:\n",
        "                page_num = len(driver.find_elements_by_class_name('link_page'))\n",
        "                for i in range(page_num-1):\n",
        "                    driver.find_element_by_css_selector('#mArticle > div.cont_evaluation > div.evaluation_review > div > a:nth-child(' + str(idx) +')').send_keys(Keys.ENTER)\n",
        "                    sleep(1)\n",
        "                    extract_review(place_name)\n",
        "                    idx += 1\n",
        "                driver.find_element_by_link_text('다음').send_keys(Keys.ENTER) # 10페이지 이상으로 넘어가기 위한 다음 버튼 클릭\n",
        "                sleep(1)\n",
        "                extract_review(place_name) # 리뷰 추출\n",
        "            except (NoSuchElementException, ElementNotInteractableException):\n",
        "                print(\"no review in crawling\")\n",
        "                break\n",
        "\n",
        "        driver.close()\n",
        "        driver.switch_to.window(driver.window_handles[0])  # 검색 탭으로 전환"
      ],
      "execution_count": null,
      "outputs": []
    },
    {
      "cell_type": "code",
      "metadata": {
        "id": "EsH9WxE9R5T3"
      },
      "source": [
        "#다음 페이지 선택하기 \n"
      ],
      "execution_count": null,
      "outputs": []
    },
    {
      "cell_type": "code",
      "metadata": {
        "id": "IRfw2YU6R5T5"
      },
      "source": [
        "#모든 과정 반복문으로"
      ],
      "execution_count": null,
      "outputs": []
    },
    {
      "cell_type": "code",
      "metadata": {
        "id": "k6qXFXhrR5T6"
      },
      "source": [
        ""
      ],
      "execution_count": null,
      "outputs": []
    },
    {
      "cell_type": "code",
      "metadata": {
        "id": "myPgUjvAR5T7"
      },
      "source": [
        "driver.quit()"
      ],
      "execution_count": null,
      "outputs": []
    },
    {
      "cell_type": "code",
      "metadata": {
        "id": "17KXamvcR5T-"
      },
      "source": [
        "soup.get('span')\n",
        "score=[i.get_text() for i in soup.select('span')]"
      ],
      "execution_count": null,
      "outputs": []
    },
    {
      "cell_type": "code",
      "metadata": {
        "id": "w59DxRHyR5T_",
        "outputId": "85fa7f25-fa7a-4a5a-8ee6-49d05590f953"
      },
      "source": [
        "!pip install selenium"
      ],
      "execution_count": null,
      "outputs": [
        {
          "output_type": "stream",
          "text": [
            "Collecting selenium\n",
            "  Downloading selenium-3.141.0-py2.py3-none-any.whl (904 kB)\n",
            "\u001b[K     |████████████████████████████████| 904 kB 781 kB/s eta 0:00:01\n",
            "\u001b[?25hRequirement already satisfied: urllib3 in /Users/hwangjaewon/opt/anaconda3/lib/python3.8/site-packages (from selenium) (1.25.9)\n",
            "Installing collected packages: selenium\n",
            "Successfully installed selenium-3.141.0\n"
          ],
          "name": "stdout"
        }
      ]
    },
    {
      "cell_type": "code",
      "metadata": {
        "id": "Lvb0IDswR5UB"
      },
      "source": [
        "import os\n",
        "from time import sleep\n",
        "\n",
        "from selenium import webdriver\n",
        "from selenium.webdriver.common.keys import Keys\n",
        "from selenium.common.exceptions import NoSuchElementException\n",
        "from selenium.common.excepㅍtions import ElementNotInteractableException\n",
        "from selenium.common.exceptions import StaleElementReferenceException\n",
        "from bs4 import BeautifulSoup"
      ],
      "execution_count": null,
      "outputs": []
    },
    {
      "cell_type": "code",
      "metadata": {
        "id": "3ZiblxjSR5UD"
      },
      "source": [
        "options = webdriver.ChromeOptions()\n",
        "options.add_argument('headless')\n",
        "options.add_argument('lang=ko_KR')\n",
        "chromedriver_path = \"chromedriver\"\n",
        "driver = webdriver.Chrome(os.path.join(os.getcwd(), chromedriver_path), options=options)  # chromedriver 열기"
      ],
      "execution_count": null,
      "outputs": []
    },
    {
      "cell_type": "code",
      "metadata": {
        "id": "ZlJGU-jzR5UF"
      },
      "source": [
        ""
      ],
      "execution_count": null,
      "outputs": []
    },
    {
      "cell_type": "code",
      "metadata": {
        "id": "6Vm6bN17R5UG"
      },
      "source": [
        "####댓글 넘길 때마다 url 확인해보기 \n",
        "https://tv.naver.com/v/5076157?query=%EB%B0%B1%EC%A2%85%EC%9B%90%EC%9D%98+%EA%B3%A8%EB%AA%A9%EC%8B%9D%EB%8B%B9+49%ED%9A%8C&plClips=false:5076157:5075716:5076129:5075608:5075847:5075683:5075553:5076079:5075845:5075748:5075932:5075682:5007250:5076080:5076048:5076161\n",
        "https://tv.naver.com/v/5076157?query=%EB%B0%B1%EC%A2%85%EC%9B%90%EC%9D%98+%EA%B3%A8%EB%AA%A9%EC%8B%9D%EB%8B%B9+49%ED%9A%8C&plClips=false:5076157:5075716:5076129:5075608:5075847:5075683:5075553:5076079:5075845:5075748:5075932:5075682:5007250:5076080:5076048:5076161"
      ],
      "execution_count": null,
      "outputs": []
    },
    {
      "cell_type": "code",
      "metadata": {
        "id": "9BaRiizqR5UH"
      },
      "source": [
        ""
      ],
      "execution_count": null,
      "outputs": []
    },
    {
      "cell_type": "code",
      "metadata": {
        "id": "F8OmVltQR5UI",
        "outputId": "c9511115-5b0d-4158-864e-7d9bf25226ac"
      },
      "source": [
        "##############################################################  ############\n",
        "##################### variable related selenium ##########################\n",
        "##########################################################################\n",
        "options = webdriver.ChromeOptions()\n",
        "options.add_argument('headless')\n",
        "options.add_argument('lang=ko_KR')\n",
        "chromedriver_path = \"chromedriver\"\n",
        "driver = webdriver.Chrome(os.path.join(os.getcwd(), chromedriver_path), options=options)  # chromedriver 열기\n",
        "\n",
        "\n",
        "def main():\n",
        "    global driver, load_wb, review_num\n",
        "\n",
        "    driver.implicitly_wait(4)  # 렌더링 될때까지 기다린다 4초\n",
        "    driver.get('https://map.kakao.com/')  # 주소 가져오기\n",
        "\n",
        "    # 검색할 목록\n",
        "    place_infos = ['강남 맛집']\n",
        "\n",
        "    for i, place in enumerate(place_infos):\n",
        "        # delay\n",
        "        if i % 4 == 0 and i != 0:\n",
        "            sleep(5)\n",
        "        print(\"#####\", i)\n",
        "        search(place)\n",
        "\n",
        "    driver.quit()\n",
        "    print(\"finish\")\n",
        "\n",
        "\n",
        "def search(place):\n",
        "    global driver\n",
        "\n",
        "    search_area = driver.find_element_by_xpath('//*[@id=\"search.keyword.query\"]')  # 검색 창\n",
        "    search_area.send_keys(place)  # 검색어 입력\n",
        "    driver.find_element_by_xpath('//*[@id=\"search.keyword.submit\"]').send_keys(Keys.ENTER)  # Enter로 검색\n",
        "    sleep(1)\n",
        "\n",
        "    # 검색된 정보가 있는 경우에만 탐색\n",
        "    # 1번 페이지 place list 읽기\n",
        "    html = driver.page_source\n",
        "\n",
        "    soup = BeautifulSoup(html, 'html.parser')\n",
        "    place_lists = soup.select('.placelist > .PlaceItem') # 검색된 장소 목록\n",
        "\n",
        "    # 검색된 첫 페이지 장소 목록 크롤링하기\n",
        "    crawling(place, place_lists)\n",
        "    search_area.clear()\n",
        "\n",
        "    # 우선 더보기 클릭해서 2페이지\n",
        "    try:\n",
        "        driver.find_element_by_xpath('//*[@id=\"info.search.place.more\"]').send_keys(Keys.ENTER)\n",
        "        sleep(1)\n",
        "\n",
        "        # 2~ 5페이지 읽기\n",
        "        for i in range(2, 6):\n",
        "            # 페이지 넘기기\n",
        "            xPath = '//*[@id=\"info.search.page.no' + str(i) + '\"]'\n",
        "            driver.find_element_by_xpath(xPath).send_keys(Keys.ENTER)\n",
        "            sleep(1)\n",
        "\n",
        "            html = driver.page_source\n",
        "            soup = BeautifulSoup(html, 'html.parser')\n",
        "            place_lists = soup.select('.placelist > .PlaceItem') # 장소 목록 list\n",
        "\n",
        "            crawling(place, place_lists)\n",
        "\n",
        "    except ElementNotInteractableException:\n",
        "        print('not found')\n",
        "    finally:\n",
        "        search_area.clear()\n",
        "\n",
        "\n",
        "def crawling(place, place_lists):\n",
        "    \"\"\"\n",
        "    페이지 목록을 받아서 크롤링 하는 함수\n",
        "    :param place: 리뷰 정보 찾을 장소이름\n",
        "    \"\"\"\n",
        "\n",
        "    while_flag = False\n",
        "    for i, place in enumerate(place_lists):\n",
        "        # 광고에 따라서 index 조정해야함\n",
        "        #if i >= 3:\n",
        "         #   i += 1\n",
        "\n",
        "        place_name = place.select('.head_item > .tit_name > .link_name')[0].text  # place name\n",
        "        place_address = place.select('.info_item > .addr > p')[0].text  # place address\n",
        "\n",
        "        detail_page_xpath = '//*[@id=\"info.search.place.list\"]/li[' + str(i + 1) + ']/div[5]/div[4]/a[1]'\n",
        "        driver.find_element_by_xpath(detail_page_xpath).send_keys(Keys.ENTER)\n",
        "        driver.switch_to.window(driver.window_handles[-1])  # 상세정보 탭으로 변환\n",
        "        sleep(1)\n",
        "\n",
        "        print('####', place_name)\n",
        "\n",
        "        # 첫 페이지\n",
        "        extract_review(place_name)\n",
        "\n",
        "        # 2-5 페이지\n",
        "        idx = 3\n",
        "        try:\n",
        "            page_num = len(driver.find_elements_by_class_name('link_page')) # 페이지 수 찾기\n",
        "            for i in range(page_num-1):\n",
        "                # css selector를 이용해 페이지 버튼 누르기\n",
        "                driver.find_element_by_css_selector('#mArticle > div.cont_evaluation > div.evaluation_review > div > a:nth-child(' + str(idx) +')').send_keys(Keys.ENTER)\n",
        "                sleep(1)\n",
        "                extract_review(place_name)\n",
        "                idx += 1\n",
        "            driver.find_element_by_link_text('다음').send_keys(Keys.ENTER) # 5페이지가 넘는 경우 다음 버튼 누르기\n",
        "            sleep(1)\n",
        "            extract_review(place_name) # 리뷰 추출\n",
        "        except (NoSuchElementException, ElementNotInteractableException):\n",
        "            print(\"no review in crawling\")\n",
        "\n",
        "        # 그 이후 페이지\n",
        "        while True:\n",
        "            idx = 4\n",
        "            try:\n",
        "                page_num = len(driver.find_elements_by_class_name('link_page'))\n",
        "                for i in range(page_num-1):\n",
        "                    driver.find_element_by_css_selector('#mArticle > div.cont_evaluation > div.evaluation_review > div > a:nth-child(' + str(idx) +')').send_keys(Keys.ENTER)\n",
        "                    sleep(1)\n",
        "                    extract_review(place_name)\n",
        "                    idx += 1\n",
        "                driver.find_element_by_link_text('다음').send_keys(Keys.ENTER) # 10페이지 이상으로 넘어가기 위한 다음 버튼 클릭\n",
        "                sleep(1)\n",
        "                extract_review(place_name) # 리뷰 추출\n",
        "            except (NoSuchElementException, ElementNotInteractableException):\n",
        "                print(\"no review in crawling\")\n",
        "                break\n",
        "\n",
        "        driver.close()\n",
        "        driver.switch_to.window(driver.window_handles[0])  # 검색 탭으로 전환\n",
        "\n",
        "\n",
        "def extract_review(place_name):\n",
        "    global driver\n",
        "\n",
        "    ret = True\n",
        "\n",
        "    html = driver.page_source\n",
        "    soup = BeautifulSoup(html, 'html.parser')\n",
        "\n",
        "    # 첫 페이지 리뷰 목록 찾기\n",
        "    review_lists = soup.select('.list_evaluation > li')\n",
        "\n",
        "    # 리뷰가 있는 경우\n",
        "    if len(review_lists) != 0:\n",
        "        for i, review in enumerate(review_lists):\n",
        "            comment = review.select('.txt_comment > span') # 리뷰\n",
        "            rating = review.select('.grade_star > em') # 별점\n",
        "            val = ''\n",
        "            if len(comment) != 0:\n",
        "                if len(rating) != 0:\n",
        "                    val = comment[0].text + '/' + rating[0].text.replace('점', '')\n",
        "                else:\n",
        "                    val = comment[0].text + '/0'\n",
        "                print(val)\n",
        "\n",
        "    else:\n",
        "        print('no review in extract')\n",
        "        ret = False\n",
        "\n",
        "    return ret\n",
        "\n",
        "\n",
        "if __name__ == \"__main__\":\n",
        "    main()"
      ],
      "execution_count": null,
      "outputs": [
        {
          "output_type": "error",
          "ename": "WebDriverException",
          "evalue": "Message: Service /Users/hwangjaewon/Downloads/chromedriver unexpectedly exited. Status code was: -9\n",
          "traceback": [
            "\u001b[0;31m---------------------------------------------------------------------------\u001b[0m",
            "\u001b[0;31mWebDriverException\u001b[0m                        Traceback (most recent call last)",
            "\u001b[0;32m<ipython-input-32-848159ad2141>\u001b[0m in \u001b[0;36m<module>\u001b[0;34m\u001b[0m\n\u001b[1;32m      6\u001b[0m \u001b[0moptions\u001b[0m\u001b[0;34m.\u001b[0m\u001b[0madd_argument\u001b[0m\u001b[0;34m(\u001b[0m\u001b[0;34m'lang=ko_KR'\u001b[0m\u001b[0;34m)\u001b[0m\u001b[0;34m\u001b[0m\u001b[0;34m\u001b[0m\u001b[0m\n\u001b[1;32m      7\u001b[0m \u001b[0mchromedriver_path\u001b[0m \u001b[0;34m=\u001b[0m \u001b[0;34m\"chromedriver\"\u001b[0m\u001b[0;34m\u001b[0m\u001b[0;34m\u001b[0m\u001b[0m\n\u001b[0;32m----> 8\u001b[0;31m \u001b[0mdriver\u001b[0m \u001b[0;34m=\u001b[0m \u001b[0mwebdriver\u001b[0m\u001b[0;34m.\u001b[0m\u001b[0mChrome\u001b[0m\u001b[0;34m(\u001b[0m\u001b[0mos\u001b[0m\u001b[0;34m.\u001b[0m\u001b[0mpath\u001b[0m\u001b[0;34m.\u001b[0m\u001b[0mjoin\u001b[0m\u001b[0;34m(\u001b[0m\u001b[0mos\u001b[0m\u001b[0;34m.\u001b[0m\u001b[0mgetcwd\u001b[0m\u001b[0;34m(\u001b[0m\u001b[0;34m)\u001b[0m\u001b[0;34m,\u001b[0m \u001b[0mchromedriver_path\u001b[0m\u001b[0;34m)\u001b[0m\u001b[0;34m,\u001b[0m \u001b[0moptions\u001b[0m\u001b[0;34m=\u001b[0m\u001b[0moptions\u001b[0m\u001b[0;34m)\u001b[0m  \u001b[0;31m# chromedriver 열기\u001b[0m\u001b[0;34m\u001b[0m\u001b[0;34m\u001b[0m\u001b[0m\n\u001b[0m\u001b[1;32m      9\u001b[0m \u001b[0;34m\u001b[0m\u001b[0m\n\u001b[1;32m     10\u001b[0m \u001b[0;34m\u001b[0m\u001b[0m\n",
            "\u001b[0;32m~/opt/anaconda3/lib/python3.8/site-packages/selenium/webdriver/chrome/webdriver.py\u001b[0m in \u001b[0;36m__init__\u001b[0;34m(self, executable_path, port, options, service_args, desired_capabilities, service_log_path, chrome_options, keep_alive)\u001b[0m\n\u001b[1;32m     71\u001b[0m             \u001b[0mservice_args\u001b[0m\u001b[0;34m=\u001b[0m\u001b[0mservice_args\u001b[0m\u001b[0;34m,\u001b[0m\u001b[0;34m\u001b[0m\u001b[0;34m\u001b[0m\u001b[0m\n\u001b[1;32m     72\u001b[0m             log_path=service_log_path)\n\u001b[0;32m---> 73\u001b[0;31m         \u001b[0mself\u001b[0m\u001b[0;34m.\u001b[0m\u001b[0mservice\u001b[0m\u001b[0;34m.\u001b[0m\u001b[0mstart\u001b[0m\u001b[0;34m(\u001b[0m\u001b[0;34m)\u001b[0m\u001b[0;34m\u001b[0m\u001b[0;34m\u001b[0m\u001b[0m\n\u001b[0m\u001b[1;32m     74\u001b[0m \u001b[0;34m\u001b[0m\u001b[0m\n\u001b[1;32m     75\u001b[0m         \u001b[0;32mtry\u001b[0m\u001b[0;34m:\u001b[0m\u001b[0;34m\u001b[0m\u001b[0;34m\u001b[0m\u001b[0m\n",
            "\u001b[0;32m~/opt/anaconda3/lib/python3.8/site-packages/selenium/webdriver/common/service.py\u001b[0m in \u001b[0;36mstart\u001b[0;34m(self)\u001b[0m\n\u001b[1;32m     96\u001b[0m         \u001b[0mcount\u001b[0m \u001b[0;34m=\u001b[0m \u001b[0;36m0\u001b[0m\u001b[0;34m\u001b[0m\u001b[0;34m\u001b[0m\u001b[0m\n\u001b[1;32m     97\u001b[0m         \u001b[0;32mwhile\u001b[0m \u001b[0;32mTrue\u001b[0m\u001b[0;34m:\u001b[0m\u001b[0;34m\u001b[0m\u001b[0;34m\u001b[0m\u001b[0m\n\u001b[0;32m---> 98\u001b[0;31m             \u001b[0mself\u001b[0m\u001b[0;34m.\u001b[0m\u001b[0massert_process_still_running\u001b[0m\u001b[0;34m(\u001b[0m\u001b[0;34m)\u001b[0m\u001b[0;34m\u001b[0m\u001b[0;34m\u001b[0m\u001b[0m\n\u001b[0m\u001b[1;32m     99\u001b[0m             \u001b[0;32mif\u001b[0m \u001b[0mself\u001b[0m\u001b[0;34m.\u001b[0m\u001b[0mis_connectable\u001b[0m\u001b[0;34m(\u001b[0m\u001b[0;34m)\u001b[0m\u001b[0;34m:\u001b[0m\u001b[0;34m\u001b[0m\u001b[0;34m\u001b[0m\u001b[0m\n\u001b[1;32m    100\u001b[0m                 \u001b[0;32mbreak\u001b[0m\u001b[0;34m\u001b[0m\u001b[0;34m\u001b[0m\u001b[0m\n",
            "\u001b[0;32m~/opt/anaconda3/lib/python3.8/site-packages/selenium/webdriver/common/service.py\u001b[0m in \u001b[0;36massert_process_still_running\u001b[0;34m(self)\u001b[0m\n\u001b[1;32m    107\u001b[0m         \u001b[0mreturn_code\u001b[0m \u001b[0;34m=\u001b[0m \u001b[0mself\u001b[0m\u001b[0;34m.\u001b[0m\u001b[0mprocess\u001b[0m\u001b[0;34m.\u001b[0m\u001b[0mpoll\u001b[0m\u001b[0;34m(\u001b[0m\u001b[0;34m)\u001b[0m\u001b[0;34m\u001b[0m\u001b[0;34m\u001b[0m\u001b[0m\n\u001b[1;32m    108\u001b[0m         \u001b[0;32mif\u001b[0m \u001b[0mreturn_code\u001b[0m \u001b[0;32mis\u001b[0m \u001b[0;32mnot\u001b[0m \u001b[0;32mNone\u001b[0m\u001b[0;34m:\u001b[0m\u001b[0;34m\u001b[0m\u001b[0;34m\u001b[0m\u001b[0m\n\u001b[0;32m--> 109\u001b[0;31m             raise WebDriverException(\n\u001b[0m\u001b[1;32m    110\u001b[0m                 \u001b[0;34m'Service %s unexpectedly exited. Status code was: %s'\u001b[0m\u001b[0;34m\u001b[0m\u001b[0;34m\u001b[0m\u001b[0m\n\u001b[1;32m    111\u001b[0m                 \u001b[0;34m%\u001b[0m \u001b[0;34m(\u001b[0m\u001b[0mself\u001b[0m\u001b[0;34m.\u001b[0m\u001b[0mpath\u001b[0m\u001b[0;34m,\u001b[0m \u001b[0mreturn_code\u001b[0m\u001b[0;34m)\u001b[0m\u001b[0;34m\u001b[0m\u001b[0;34m\u001b[0m\u001b[0m\n",
            "\u001b[0;31mWebDriverException\u001b[0m: Message: Service /Users/hwangjaewon/Downloads/chromedriver unexpectedly exited. Status code was: -9\n"
          ]
        }
      ]
    }
  ]
}